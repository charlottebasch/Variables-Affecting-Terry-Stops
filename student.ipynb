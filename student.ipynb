{
 "cells": [
  {
   "cell_type": "markdown",
   "metadata": {},
   "source": [
    "## Final Project Submission\n",
    "\n",
    "Please fill out:\n",
    "* Student name: Charlotte Basch\n",
    "* Student pace: self paced / part time / <strong>full time</strong>\n",
    "* Scheduled project review date/time: 10/3/2020 1:00pm\n",
    "* Instructor name: James Irving\n",
    "* Blog post URL: https://charsarb.github.io/calculus_and_gradient_descent\n"
   ]
  },
  {
   "cell_type": "markdown",
   "metadata": {},
   "source": [
    "# Introduction"
   ]
  },
  {
   "cell_type": "markdown",
   "metadata": {},
   "source": [
    "This project uses Seattle Police Department's <a href=\"https://catalog.data.gov/dataset/terry-stops\" target=\"_blank\"> Terry Stop data</a> from 2015-2020. Terry Stops, also known as stop and frisk, were allowed by the Supreme Court case Terry v. Ohio in 1968. This case allows police officers to stop and detain an individual they reasonably suspect of having committed, currently committing, or about to commit a crime. In this interaction, they are allowed to pat down, aka frisk, the stopped party. Terry stops are stops that are not based on probable cause, but during the stop probable cause can be found and lead to an arrest. It is worth noting that this practice has been challenged, both by individuals and in court cases, for being disproportionately targeted towards Black and Latinx individuals. \n",
    "\n",
    "The goal of this project was to predict whether a Terry stop lead to an arrest based on variables about the officer, subject, and the content of the stop. Logistic regression, decision trees, and random forest models were tried and compared to generate the best balanced of correctly identifying arrests and non-arrests. While precision and f1 scores were low for all models, the random forest and logistic regression models performed well on AUC and recall. Despite the higher recall score for arrest in the logistic regression, the slightly higher accuracy of the model and better precision and f1 scores for arrests designated the random forest as the best performing model.  "
   ]
  },
  {
   "cell_type": "markdown",
   "metadata": {},
   "source": [
    "- https://www.law.cornell.edu/wex/terry_stop/stop_and_frisk\n",
    "- https://catalog.data.gov/dataset/terry-stops"
   ]
  },
  {
   "cell_type": "markdown",
   "metadata": {},
   "source": [
    "# Data Exploration"
   ]
  },
  {
   "cell_type": "code",
   "execution_count": 154,
   "metadata": {
    "ExecuteTime": {
     "end_time": "2020-10-13T22:23:38.340706Z",
     "start_time": "2020-10-13T22:23:38.327704Z"
    }
   },
   "outputs": [],
   "source": [
    "import pandas as pd\n",
    "import seaborn as sns\n",
    "import numpy as np\n",
    "import matplotlib as mpl\n",
    "import matplotlib.pyplot as plt \n",
    "%matplotlib inline\n",
    "from sklearn.model_selection import train_test_split\n",
    "from sklearn.pipeline import Pipeline\n",
    "from sklearn.compose import ColumnTransformer\n",
    "from sklearn.impute import SimpleImputer\n",
    "from sklearn.preprocessing import RobustScaler, OneHotEncoder, StandardScaler\n",
    "from sklearn.linear_model import LogisticRegression\n",
    "import sklearn.metrics as metrics\n",
    "from sklearn.tree import DecisionTreeClassifier\n",
    "from sklearn.ensemble import RandomForestClassifier, StackingClassifier\n",
    "from sklearn.model_selection import GridSearchCV\n",
    "pd.set_option(\"display.max_rows\", 500, \"display.max_columns\", None)"
   ]
  },
  {
   "cell_type": "code",
   "execution_count": 155,
   "metadata": {
    "ExecuteTime": {
     "end_time": "2020-10-13T22:23:38.814225Z",
     "start_time": "2020-10-13T22:23:38.344228Z"
    }
   },
   "outputs": [
    {
     "data": {
      "text/html": [
       "<div>\n",
       "<style scoped>\n",
       "    .dataframe tbody tr th:only-of-type {\n",
       "        vertical-align: middle;\n",
       "    }\n",
       "\n",
       "    .dataframe tbody tr th {\n",
       "        vertical-align: top;\n",
       "    }\n",
       "\n",
       "    .dataframe thead th {\n",
       "        text-align: right;\n",
       "    }\n",
       "</style>\n",
       "<table border=\"1\" class=\"dataframe\">\n",
       "  <thead>\n",
       "    <tr style=\"text-align: right;\">\n",
       "      <th></th>\n",
       "      <th>Subject Age Group</th>\n",
       "      <th>Subject ID</th>\n",
       "      <th>GO / SC Num</th>\n",
       "      <th>Terry Stop ID</th>\n",
       "      <th>Stop Resolution</th>\n",
       "      <th>Weapon Type</th>\n",
       "      <th>Officer ID</th>\n",
       "      <th>Officer YOB</th>\n",
       "      <th>Officer Gender</th>\n",
       "      <th>Officer Race</th>\n",
       "      <th>Subject Perceived Race</th>\n",
       "      <th>Subject Perceived Gender</th>\n",
       "      <th>Reported Date</th>\n",
       "      <th>Reported Time</th>\n",
       "      <th>Initial Call Type</th>\n",
       "      <th>Final Call Type</th>\n",
       "      <th>Call Type</th>\n",
       "      <th>Officer Squad</th>\n",
       "      <th>Arrest Flag</th>\n",
       "      <th>Frisk Flag</th>\n",
       "      <th>Precinct</th>\n",
       "      <th>Sector</th>\n",
       "      <th>Beat</th>\n",
       "    </tr>\n",
       "  </thead>\n",
       "  <tbody>\n",
       "    <tr>\n",
       "      <th>0</th>\n",
       "      <td>-</td>\n",
       "      <td>-1</td>\n",
       "      <td>20140000120677</td>\n",
       "      <td>92317</td>\n",
       "      <td>Arrest</td>\n",
       "      <td>None</td>\n",
       "      <td>7500</td>\n",
       "      <td>1984</td>\n",
       "      <td>M</td>\n",
       "      <td>Black or African American</td>\n",
       "      <td>Asian</td>\n",
       "      <td>Male</td>\n",
       "      <td>2015-10-16T00:00:00</td>\n",
       "      <td>11:32:00</td>\n",
       "      <td>-</td>\n",
       "      <td>-</td>\n",
       "      <td>-</td>\n",
       "      <td>SOUTH PCT 1ST W - ROBERT</td>\n",
       "      <td>N</td>\n",
       "      <td>N</td>\n",
       "      <td>South</td>\n",
       "      <td>O</td>\n",
       "      <td>O2</td>\n",
       "    </tr>\n",
       "    <tr>\n",
       "      <th>1</th>\n",
       "      <td>-</td>\n",
       "      <td>-1</td>\n",
       "      <td>20150000001463</td>\n",
       "      <td>28806</td>\n",
       "      <td>Field Contact</td>\n",
       "      <td>None</td>\n",
       "      <td>5670</td>\n",
       "      <td>1965</td>\n",
       "      <td>M</td>\n",
       "      <td>White</td>\n",
       "      <td>-</td>\n",
       "      <td>-</td>\n",
       "      <td>2015-03-19T00:00:00</td>\n",
       "      <td>07:59:00</td>\n",
       "      <td>-</td>\n",
       "      <td>-</td>\n",
       "      <td>-</td>\n",
       "      <td>NaN</td>\n",
       "      <td>N</td>\n",
       "      <td>N</td>\n",
       "      <td>-</td>\n",
       "      <td>-</td>\n",
       "      <td>-</td>\n",
       "    </tr>\n",
       "    <tr>\n",
       "      <th>2</th>\n",
       "      <td>-</td>\n",
       "      <td>-1</td>\n",
       "      <td>20150000001516</td>\n",
       "      <td>29599</td>\n",
       "      <td>Field Contact</td>\n",
       "      <td>None</td>\n",
       "      <td>4844</td>\n",
       "      <td>1961</td>\n",
       "      <td>M</td>\n",
       "      <td>White</td>\n",
       "      <td>White</td>\n",
       "      <td>Male</td>\n",
       "      <td>2015-03-21T00:00:00</td>\n",
       "      <td>19:12:00</td>\n",
       "      <td>-</td>\n",
       "      <td>-</td>\n",
       "      <td>-</td>\n",
       "      <td>NaN</td>\n",
       "      <td>N</td>\n",
       "      <td>-</td>\n",
       "      <td>-</td>\n",
       "      <td>-</td>\n",
       "      <td>-</td>\n",
       "    </tr>\n",
       "    <tr>\n",
       "      <th>3</th>\n",
       "      <td>-</td>\n",
       "      <td>-1</td>\n",
       "      <td>20150000001670</td>\n",
       "      <td>32260</td>\n",
       "      <td>Field Contact</td>\n",
       "      <td>None</td>\n",
       "      <td>7539</td>\n",
       "      <td>1963</td>\n",
       "      <td>M</td>\n",
       "      <td>White</td>\n",
       "      <td>-</td>\n",
       "      <td>-</td>\n",
       "      <td>2015-04-01T00:00:00</td>\n",
       "      <td>04:55:00</td>\n",
       "      <td>-</td>\n",
       "      <td>-</td>\n",
       "      <td>-</td>\n",
       "      <td>NaN</td>\n",
       "      <td>N</td>\n",
       "      <td>N</td>\n",
       "      <td>-</td>\n",
       "      <td>-</td>\n",
       "      <td>-</td>\n",
       "    </tr>\n",
       "    <tr>\n",
       "      <th>4</th>\n",
       "      <td>-</td>\n",
       "      <td>-1</td>\n",
       "      <td>20150000001739</td>\n",
       "      <td>33155</td>\n",
       "      <td>Field Contact</td>\n",
       "      <td>None</td>\n",
       "      <td>6973</td>\n",
       "      <td>1977</td>\n",
       "      <td>M</td>\n",
       "      <td>White</td>\n",
       "      <td>Black or African American</td>\n",
       "      <td>Male</td>\n",
       "      <td>2015-04-03T00:00:00</td>\n",
       "      <td>00:41:00</td>\n",
       "      <td>-</td>\n",
       "      <td>-</td>\n",
       "      <td>-</td>\n",
       "      <td>NaN</td>\n",
       "      <td>N</td>\n",
       "      <td>N</td>\n",
       "      <td>-</td>\n",
       "      <td>-</td>\n",
       "      <td>-</td>\n",
       "    </tr>\n",
       "  </tbody>\n",
       "</table>\n",
       "</div>"
      ],
      "text/plain": [
       "  Subject Age Group  Subject ID     GO / SC Num  Terry Stop ID  \\\n",
       "0                 -          -1  20140000120677          92317   \n",
       "1                 -          -1  20150000001463          28806   \n",
       "2                 -          -1  20150000001516          29599   \n",
       "3                 -          -1  20150000001670          32260   \n",
       "4                 -          -1  20150000001739          33155   \n",
       "\n",
       "  Stop Resolution Weapon Type Officer ID  Officer YOB Officer Gender  \\\n",
       "0          Arrest        None     7500           1984              M   \n",
       "1   Field Contact        None     5670           1965              M   \n",
       "2   Field Contact        None     4844           1961              M   \n",
       "3   Field Contact        None     7539           1963              M   \n",
       "4   Field Contact        None     6973           1977              M   \n",
       "\n",
       "                Officer Race     Subject Perceived Race  \\\n",
       "0  Black or African American                      Asian   \n",
       "1                      White                          -   \n",
       "2                      White                      White   \n",
       "3                      White                          -   \n",
       "4                      White  Black or African American   \n",
       "\n",
       "  Subject Perceived Gender        Reported Date Reported Time  \\\n",
       "0                     Male  2015-10-16T00:00:00      11:32:00   \n",
       "1                        -  2015-03-19T00:00:00      07:59:00   \n",
       "2                     Male  2015-03-21T00:00:00      19:12:00   \n",
       "3                        -  2015-04-01T00:00:00      04:55:00   \n",
       "4                     Male  2015-04-03T00:00:00      00:41:00   \n",
       "\n",
       "  Initial Call Type Final Call Type Call Type             Officer Squad  \\\n",
       "0                 -               -         -  SOUTH PCT 1ST W - ROBERT   \n",
       "1                 -               -         -                       NaN   \n",
       "2                 -               -         -                       NaN   \n",
       "3                 -               -         -                       NaN   \n",
       "4                 -               -         -                       NaN   \n",
       "\n",
       "  Arrest Flag Frisk Flag Precinct  Sector    Beat  \n",
       "0           N          N    South  O       O2      \n",
       "1           N          N        -       -       -  \n",
       "2           N          -        -       -       -  \n",
       "3           N          N        -       -       -  \n",
       "4           N          N        -       -       -  "
      ]
     },
     "metadata": {},
     "output_type": "display_data"
    }
   ],
   "source": [
    "data = pd.read_csv(\"Terry_Stops.csv\")\n",
    "display(data.head())"
   ]
  },
  {
   "cell_type": "code",
   "execution_count": 156,
   "metadata": {
    "ExecuteTime": {
     "end_time": "2020-10-13T22:23:38.915228Z",
     "start_time": "2020-10-13T22:23:38.818228Z"
    },
    "scrolled": true
   },
   "outputs": [
    {
     "name": "stdout",
     "output_type": "stream",
     "text": [
      "<class 'pandas.core.frame.DataFrame'>\n",
      "RangeIndex: 44050 entries, 0 to 44049\n",
      "Data columns (total 23 columns):\n",
      " #   Column                    Non-Null Count  Dtype \n",
      "---  ------                    --------------  ----- \n",
      " 0   Subject Age Group         44050 non-null  object\n",
      " 1   Subject ID                44050 non-null  int64 \n",
      " 2   GO / SC Num               44050 non-null  int64 \n",
      " 3   Terry Stop ID             44050 non-null  int64 \n",
      " 4   Stop Resolution           44050 non-null  object\n",
      " 5   Weapon Type               44050 non-null  object\n",
      " 6   Officer ID                44050 non-null  object\n",
      " 7   Officer YOB               44050 non-null  int64 \n",
      " 8   Officer Gender            44050 non-null  object\n",
      " 9   Officer Race              44050 non-null  object\n",
      " 10  Subject Perceived Race    44050 non-null  object\n",
      " 11  Subject Perceived Gender  44050 non-null  object\n",
      " 12  Reported Date             44050 non-null  object\n",
      " 13  Reported Time             44050 non-null  object\n",
      " 14  Initial Call Type         44050 non-null  object\n",
      " 15  Final Call Type           44050 non-null  object\n",
      " 16  Call Type                 44050 non-null  object\n",
      " 17  Officer Squad             43504 non-null  object\n",
      " 18  Arrest Flag               44050 non-null  object\n",
      " 19  Frisk Flag                44050 non-null  object\n",
      " 20  Precinct                  44050 non-null  object\n",
      " 21  Sector                    44050 non-null  object\n",
      " 22  Beat                      44050 non-null  object\n",
      "dtypes: int64(4), object(19)\n",
      "memory usage: 7.7+ MB\n"
     ]
    },
    {
     "data": {
      "text/plain": [
       "None"
      ]
     },
     "metadata": {},
     "output_type": "display_data"
    }
   ],
   "source": [
    "display(data.info())"
   ]
  },
  {
   "cell_type": "markdown",
   "metadata": {},
   "source": [
    "- Many of these columns are data that was important to filling the report (i.e. General Offense or Street Check number or the various ID columns). Therefore these columns can be dropped. \n",
    "- In addition, the officer squad, precinct, sector, and beat of the officer do not necessarily necessarily correspond to where the Terry stop actually happened. In order to get more general results about location, only precinct, the most general category, is kept.  \n",
    "- Stop resolution and arrest flag both indicate whether an arrest was made. However stop resolution includes both custodial and non-custodial arrests, which indicates whether a person is physically taken into custody or not. Since the goal of this problem is to simply classify whether or not an arrest occurs, one of these columns must be dropped in order to avoid giving the model information it would not otherwise have. \n",
    "    - In this particular case, we will drop the stop resolution and only focus on physical arrests. However it might be important to revisit this problem using the categories of stop resolution instead of just physical arrests. \n",
    "- Lastly, the final call type is determined after the Terry Stop and subsequent arrest or non-arrest has already occurred. Therefore it is not an appropriate predictor.  \n",
    "    - https://data.seattle.gov/Public-Safety/Terry-Stops/28ny-9ts8"
   ]
  },
  {
   "cell_type": "code",
   "execution_count": 157,
   "metadata": {
    "ExecuteTime": {
     "end_time": "2020-10-13T22:23:39.015227Z",
     "start_time": "2020-10-13T22:23:38.921228Z"
    }
   },
   "outputs": [],
   "source": [
    "data = data.drop(columns=[\"Subject ID\", \"GO / SC Num\", \"Terry Stop ID\", \"Officer ID\", \"Sector\", \n",
    "                          \"Beat\", \"Officer Squad\", \"Stop Resolution\", \"Final Call Type\"])"
   ]
  },
  {
   "cell_type": "code",
   "execution_count": 158,
   "metadata": {
    "ExecuteTime": {
     "end_time": "2020-10-13T22:23:39.154230Z",
     "start_time": "2020-10-13T22:23:39.017225Z"
    },
    "scrolled": true
   },
   "outputs": [
    {
     "data": {
      "text/html": [
       "<div>\n",
       "<style scoped>\n",
       "    .dataframe tbody tr th:only-of-type {\n",
       "        vertical-align: middle;\n",
       "    }\n",
       "\n",
       "    .dataframe tbody tr th {\n",
       "        vertical-align: top;\n",
       "    }\n",
       "\n",
       "    .dataframe thead th {\n",
       "        text-align: right;\n",
       "    }\n",
       "</style>\n",
       "<table border=\"1\" class=\"dataframe\">\n",
       "  <thead>\n",
       "    <tr style=\"text-align: right;\">\n",
       "      <th></th>\n",
       "      <th>Subject Age Group</th>\n",
       "      <th>Weapon Type</th>\n",
       "      <th>Officer YOB</th>\n",
       "      <th>Officer Gender</th>\n",
       "      <th>Officer Race</th>\n",
       "      <th>Subject Perceived Race</th>\n",
       "      <th>Subject Perceived Gender</th>\n",
       "      <th>Reported Date</th>\n",
       "      <th>Reported Time</th>\n",
       "      <th>Initial Call Type</th>\n",
       "      <th>Call Type</th>\n",
       "      <th>Arrest Flag</th>\n",
       "      <th>Frisk Flag</th>\n",
       "      <th>Precinct</th>\n",
       "    </tr>\n",
       "  </thead>\n",
       "  <tbody>\n",
       "    <tr>\n",
       "      <th>0</th>\n",
       "      <td>-</td>\n",
       "      <td>None</td>\n",
       "      <td>1984</td>\n",
       "      <td>M</td>\n",
       "      <td>Black or African American</td>\n",
       "      <td>Asian</td>\n",
       "      <td>Male</td>\n",
       "      <td>2015-10-16T00:00:00</td>\n",
       "      <td>11:32:00</td>\n",
       "      <td>-</td>\n",
       "      <td>-</td>\n",
       "      <td>N</td>\n",
       "      <td>N</td>\n",
       "      <td>South</td>\n",
       "    </tr>\n",
       "    <tr>\n",
       "      <th>1</th>\n",
       "      <td>-</td>\n",
       "      <td>None</td>\n",
       "      <td>1965</td>\n",
       "      <td>M</td>\n",
       "      <td>White</td>\n",
       "      <td>-</td>\n",
       "      <td>-</td>\n",
       "      <td>2015-03-19T00:00:00</td>\n",
       "      <td>07:59:00</td>\n",
       "      <td>-</td>\n",
       "      <td>-</td>\n",
       "      <td>N</td>\n",
       "      <td>N</td>\n",
       "      <td>-</td>\n",
       "    </tr>\n",
       "    <tr>\n",
       "      <th>2</th>\n",
       "      <td>-</td>\n",
       "      <td>None</td>\n",
       "      <td>1961</td>\n",
       "      <td>M</td>\n",
       "      <td>White</td>\n",
       "      <td>White</td>\n",
       "      <td>Male</td>\n",
       "      <td>2015-03-21T00:00:00</td>\n",
       "      <td>19:12:00</td>\n",
       "      <td>-</td>\n",
       "      <td>-</td>\n",
       "      <td>N</td>\n",
       "      <td>-</td>\n",
       "      <td>-</td>\n",
       "    </tr>\n",
       "    <tr>\n",
       "      <th>3</th>\n",
       "      <td>-</td>\n",
       "      <td>None</td>\n",
       "      <td>1963</td>\n",
       "      <td>M</td>\n",
       "      <td>White</td>\n",
       "      <td>-</td>\n",
       "      <td>-</td>\n",
       "      <td>2015-04-01T00:00:00</td>\n",
       "      <td>04:55:00</td>\n",
       "      <td>-</td>\n",
       "      <td>-</td>\n",
       "      <td>N</td>\n",
       "      <td>N</td>\n",
       "      <td>-</td>\n",
       "    </tr>\n",
       "    <tr>\n",
       "      <th>4</th>\n",
       "      <td>-</td>\n",
       "      <td>None</td>\n",
       "      <td>1977</td>\n",
       "      <td>M</td>\n",
       "      <td>White</td>\n",
       "      <td>Black or African American</td>\n",
       "      <td>Male</td>\n",
       "      <td>2015-04-03T00:00:00</td>\n",
       "      <td>00:41:00</td>\n",
       "      <td>-</td>\n",
       "      <td>-</td>\n",
       "      <td>N</td>\n",
       "      <td>N</td>\n",
       "      <td>-</td>\n",
       "    </tr>\n",
       "  </tbody>\n",
       "</table>\n",
       "</div>"
      ],
      "text/plain": [
       "  Subject Age Group Weapon Type  Officer YOB Officer Gender  \\\n",
       "0                 -        None         1984              M   \n",
       "1                 -        None         1965              M   \n",
       "2                 -        None         1961              M   \n",
       "3                 -        None         1963              M   \n",
       "4                 -        None         1977              M   \n",
       "\n",
       "                Officer Race     Subject Perceived Race  \\\n",
       "0  Black or African American                      Asian   \n",
       "1                      White                          -   \n",
       "2                      White                      White   \n",
       "3                      White                          -   \n",
       "4                      White  Black or African American   \n",
       "\n",
       "  Subject Perceived Gender        Reported Date Reported Time  \\\n",
       "0                     Male  2015-10-16T00:00:00      11:32:00   \n",
       "1                        -  2015-03-19T00:00:00      07:59:00   \n",
       "2                     Male  2015-03-21T00:00:00      19:12:00   \n",
       "3                        -  2015-04-01T00:00:00      04:55:00   \n",
       "4                     Male  2015-04-03T00:00:00      00:41:00   \n",
       "\n",
       "  Initial Call Type Call Type Arrest Flag Frisk Flag Precinct  \n",
       "0                 -         -           N          N    South  \n",
       "1                 -         -           N          N        -  \n",
       "2                 -         -           N          -        -  \n",
       "3                 -         -           N          N        -  \n",
       "4                 -         -           N          N        -  "
      ]
     },
     "execution_count": 158,
     "metadata": {},
     "output_type": "execute_result"
    }
   ],
   "source": [
    "data.head()"
   ]
  },
  {
   "cell_type": "markdown",
   "metadata": {},
   "source": [
    "## Dealing with Missing, Unlikely, or Unclear Values"
   ]
  },
  {
   "cell_type": "markdown",
   "metadata": {},
   "source": [
    "### Changing and Creating Columns"
   ]
  },
  {
   "cell_type": "markdown",
   "metadata": {},
   "source": [
    "#### Officer Age and Reported Time"
   ]
  },
  {
   "cell_type": "markdown",
   "metadata": {},
   "source": [
    "- It would likely be more useful to have an officer's age instead of their year of birth.\n",
    "- It also does not necessarily serve us to have such specific information about every stop's time and date. The year and time of day should be sufficient. "
   ]
  },
  {
   "cell_type": "code",
   "execution_count": 159,
   "metadata": {
    "ExecuteTime": {
     "end_time": "2020-10-13T22:23:39.382228Z",
     "start_time": "2020-10-13T22:23:39.158229Z"
    }
   },
   "outputs": [
    {
     "data": {
      "text/html": [
       "<div>\n",
       "<style scoped>\n",
       "    .dataframe tbody tr th:only-of-type {\n",
       "        vertical-align: middle;\n",
       "    }\n",
       "\n",
       "    .dataframe tbody tr th {\n",
       "        vertical-align: top;\n",
       "    }\n",
       "\n",
       "    .dataframe thead th {\n",
       "        text-align: right;\n",
       "    }\n",
       "</style>\n",
       "<table border=\"1\" class=\"dataframe\">\n",
       "  <thead>\n",
       "    <tr style=\"text-align: right;\">\n",
       "      <th></th>\n",
       "      <th>Subject Age Group</th>\n",
       "      <th>Weapon Type</th>\n",
       "      <th>Officer Gender</th>\n",
       "      <th>Officer Race</th>\n",
       "      <th>Subject Perceived Race</th>\n",
       "      <th>Subject Perceived Gender</th>\n",
       "      <th>Reported Time</th>\n",
       "      <th>Initial Call Type</th>\n",
       "      <th>Call Type</th>\n",
       "      <th>Arrest Flag</th>\n",
       "      <th>Frisk Flag</th>\n",
       "      <th>Precinct</th>\n",
       "      <th>Officer Age</th>\n",
       "    </tr>\n",
       "  </thead>\n",
       "  <tbody>\n",
       "    <tr>\n",
       "      <th>0</th>\n",
       "      <td>-</td>\n",
       "      <td>None</td>\n",
       "      <td>M</td>\n",
       "      <td>Black or African American</td>\n",
       "      <td>Asian</td>\n",
       "      <td>Male</td>\n",
       "      <td>Day</td>\n",
       "      <td>-</td>\n",
       "      <td>-</td>\n",
       "      <td>N</td>\n",
       "      <td>N</td>\n",
       "      <td>South</td>\n",
       "      <td>31</td>\n",
       "    </tr>\n",
       "    <tr>\n",
       "      <th>1</th>\n",
       "      <td>-</td>\n",
       "      <td>None</td>\n",
       "      <td>M</td>\n",
       "      <td>White</td>\n",
       "      <td>-</td>\n",
       "      <td>-</td>\n",
       "      <td>Day</td>\n",
       "      <td>-</td>\n",
       "      <td>-</td>\n",
       "      <td>N</td>\n",
       "      <td>N</td>\n",
       "      <td>-</td>\n",
       "      <td>50</td>\n",
       "    </tr>\n",
       "    <tr>\n",
       "      <th>2</th>\n",
       "      <td>-</td>\n",
       "      <td>None</td>\n",
       "      <td>M</td>\n",
       "      <td>White</td>\n",
       "      <td>White</td>\n",
       "      <td>Male</td>\n",
       "      <td>Night</td>\n",
       "      <td>-</td>\n",
       "      <td>-</td>\n",
       "      <td>N</td>\n",
       "      <td>-</td>\n",
       "      <td>-</td>\n",
       "      <td>54</td>\n",
       "    </tr>\n",
       "    <tr>\n",
       "      <th>3</th>\n",
       "      <td>-</td>\n",
       "      <td>None</td>\n",
       "      <td>M</td>\n",
       "      <td>White</td>\n",
       "      <td>-</td>\n",
       "      <td>-</td>\n",
       "      <td>Day</td>\n",
       "      <td>-</td>\n",
       "      <td>-</td>\n",
       "      <td>N</td>\n",
       "      <td>N</td>\n",
       "      <td>-</td>\n",
       "      <td>52</td>\n",
       "    </tr>\n",
       "    <tr>\n",
       "      <th>4</th>\n",
       "      <td>-</td>\n",
       "      <td>None</td>\n",
       "      <td>M</td>\n",
       "      <td>White</td>\n",
       "      <td>Black or African American</td>\n",
       "      <td>Male</td>\n",
       "      <td>Day</td>\n",
       "      <td>-</td>\n",
       "      <td>-</td>\n",
       "      <td>N</td>\n",
       "      <td>N</td>\n",
       "      <td>-</td>\n",
       "      <td>38</td>\n",
       "    </tr>\n",
       "  </tbody>\n",
       "</table>\n",
       "</div>"
      ],
      "text/plain": [
       "  Subject Age Group Weapon Type Officer Gender               Officer Race  \\\n",
       "0                 -        None              M  Black or African American   \n",
       "1                 -        None              M                      White   \n",
       "2                 -        None              M                      White   \n",
       "3                 -        None              M                      White   \n",
       "4                 -        None              M                      White   \n",
       "\n",
       "      Subject Perceived Race Subject Perceived Gender Reported Time  \\\n",
       "0                      Asian                     Male           Day   \n",
       "1                          -                        -           Day   \n",
       "2                      White                     Male         Night   \n",
       "3                          -                        -           Day   \n",
       "4  Black or African American                     Male           Day   \n",
       "\n",
       "  Initial Call Type Call Type Arrest Flag Frisk Flag Precinct  Officer Age  \n",
       "0                 -         -           N          N    South           31  \n",
       "1                 -         -           N          N        -           50  \n",
       "2                 -         -           N          -        -           54  \n",
       "3                 -         -           N          N        -           52  \n",
       "4                 -         -           N          N        -           38  "
      ]
     },
     "execution_count": 159,
     "metadata": {},
     "output_type": "execute_result"
    }
   ],
   "source": [
    "data[\"Reported Date\"] = pd.DatetimeIndex(data[\"Reported Date\"]).year\n",
    "data[\"Officer Age\"] = data[\"Reported Date\"] - data[\"Officer YOB\"]\n",
    "data = data.drop(columns=[\"Reported Date\", \"Officer YOB\"])\n",
    "data[\"Reported Time\"] = data[\"Reported Time\"].map(lambda x: \"Day\" if int(x.split(\":\")[0]) < 12 else \"Night\")\n",
    "data.head()"
   ]
  },
  {
   "cell_type": "code",
   "execution_count": 160,
   "metadata": {
    "ExecuteTime": {
     "end_time": "2020-10-13T22:23:39.740381Z",
     "start_time": "2020-10-13T22:23:39.386227Z"
    },
    "scrolled": true
   },
   "outputs": [
    {
     "name": "stdout",
     "output_type": "stream",
     "text": [
      "Number of unique Subject Age Group values: 7\n"
     ]
    },
    {
     "data": {
      "text/html": [
       "<div>\n",
       "<style scoped>\n",
       "    .dataframe tbody tr th:only-of-type {\n",
       "        vertical-align: middle;\n",
       "    }\n",
       "\n",
       "    .dataframe tbody tr th {\n",
       "        vertical-align: top;\n",
       "    }\n",
       "\n",
       "    .dataframe thead th {\n",
       "        text-align: right;\n",
       "    }\n",
       "</style>\n",
       "<table border=\"1\" class=\"dataframe\">\n",
       "  <thead>\n",
       "    <tr style=\"text-align: right;\">\n",
       "      <th></th>\n",
       "      <th>Subject Age Group</th>\n",
       "      <th>count</th>\n",
       "    </tr>\n",
       "  </thead>\n",
       "  <tbody>\n",
       "    <tr>\n",
       "      <th>0</th>\n",
       "      <td>26 - 35</td>\n",
       "      <td>14619</td>\n",
       "    </tr>\n",
       "    <tr>\n",
       "      <th>1</th>\n",
       "      <td>36 - 45</td>\n",
       "      <td>9275</td>\n",
       "    </tr>\n",
       "    <tr>\n",
       "      <th>2</th>\n",
       "      <td>18 - 25</td>\n",
       "      <td>8945</td>\n",
       "    </tr>\n",
       "    <tr>\n",
       "      <th>3</th>\n",
       "      <td>46 - 55</td>\n",
       "      <td>5658</td>\n",
       "    </tr>\n",
       "    <tr>\n",
       "      <th>4</th>\n",
       "      <td>56 and Above</td>\n",
       "      <td>2230</td>\n",
       "    </tr>\n",
       "    <tr>\n",
       "      <th>5</th>\n",
       "      <td>1 - 17</td>\n",
       "      <td>1926</td>\n",
       "    </tr>\n",
       "    <tr>\n",
       "      <th>6</th>\n",
       "      <td>-</td>\n",
       "      <td>1397</td>\n",
       "    </tr>\n",
       "  </tbody>\n",
       "</table>\n",
       "</div>"
      ],
      "text/plain": [
       "  Subject Age Group  count\n",
       "0           26 - 35  14619\n",
       "1           36 - 45   9275\n",
       "2           18 - 25   8945\n",
       "3           46 - 55   5658\n",
       "4      56 and Above   2230\n",
       "5            1 - 17   1926\n",
       "6                 -   1397"
      ]
     },
     "metadata": {},
     "output_type": "display_data"
    },
    {
     "name": "stdout",
     "output_type": "stream",
     "text": [
      "Number of unique Weapon Type values: 21\n"
     ]
    },
    {
     "data": {
      "text/html": [
       "<div>\n",
       "<style scoped>\n",
       "    .dataframe tbody tr th:only-of-type {\n",
       "        vertical-align: middle;\n",
       "    }\n",
       "\n",
       "    .dataframe tbody tr th {\n",
       "        vertical-align: top;\n",
       "    }\n",
       "\n",
       "    .dataframe thead th {\n",
       "        text-align: right;\n",
       "    }\n",
       "</style>\n",
       "<table border=\"1\" class=\"dataframe\">\n",
       "  <thead>\n",
       "    <tr style=\"text-align: right;\">\n",
       "      <th></th>\n",
       "      <th>Weapon Type</th>\n",
       "      <th>count</th>\n",
       "    </tr>\n",
       "  </thead>\n",
       "  <tbody>\n",
       "    <tr>\n",
       "      <th>0</th>\n",
       "      <td>None</td>\n",
       "      <td>32565</td>\n",
       "    </tr>\n",
       "    <tr>\n",
       "      <th>1</th>\n",
       "      <td>-</td>\n",
       "      <td>8941</td>\n",
       "    </tr>\n",
       "    <tr>\n",
       "      <th>2</th>\n",
       "      <td>Lethal Cutting Instrument</td>\n",
       "      <td>1482</td>\n",
       "    </tr>\n",
       "    <tr>\n",
       "      <th>3</th>\n",
       "      <td>Knife/Cutting/Stabbing Instrument</td>\n",
       "      <td>461</td>\n",
       "    </tr>\n",
       "    <tr>\n",
       "      <th>4</th>\n",
       "      <td>Handgun</td>\n",
       "      <td>274</td>\n",
       "    </tr>\n",
       "    <tr>\n",
       "      <th>5</th>\n",
       "      <td>Firearm Other</td>\n",
       "      <td>100</td>\n",
       "    </tr>\n",
       "    <tr>\n",
       "      <th>6</th>\n",
       "      <td>Blunt Object/Striking Implement</td>\n",
       "      <td>61</td>\n",
       "    </tr>\n",
       "    <tr>\n",
       "      <th>7</th>\n",
       "      <td>Club, Blackjack, Brass Knuckles</td>\n",
       "      <td>49</td>\n",
       "    </tr>\n",
       "    <tr>\n",
       "      <th>8</th>\n",
       "      <td>Firearm</td>\n",
       "      <td>31</td>\n",
       "    </tr>\n",
       "    <tr>\n",
       "      <th>9</th>\n",
       "      <td>Mace/Pepper Spray</td>\n",
       "      <td>17</td>\n",
       "    </tr>\n",
       "  </tbody>\n",
       "</table>\n",
       "</div>"
      ],
      "text/plain": [
       "                         Weapon Type  count\n",
       "0                               None  32565\n",
       "1                                  -   8941\n",
       "2          Lethal Cutting Instrument   1482\n",
       "3  Knife/Cutting/Stabbing Instrument    461\n",
       "4                            Handgun    274\n",
       "5                      Firearm Other    100\n",
       "6    Blunt Object/Striking Implement     61\n",
       "7    Club, Blackjack, Brass Knuckles     49\n",
       "8                            Firearm     31\n",
       "9                  Mace/Pepper Spray     17"
      ]
     },
     "metadata": {},
     "output_type": "display_data"
    },
    {
     "name": "stdout",
     "output_type": "stream",
     "text": [
      "Number of unique Officer Gender values: 3\n"
     ]
    },
    {
     "data": {
      "text/html": [
       "<div>\n",
       "<style scoped>\n",
       "    .dataframe tbody tr th:only-of-type {\n",
       "        vertical-align: middle;\n",
       "    }\n",
       "\n",
       "    .dataframe tbody tr th {\n",
       "        vertical-align: top;\n",
       "    }\n",
       "\n",
       "    .dataframe thead th {\n",
       "        text-align: right;\n",
       "    }\n",
       "</style>\n",
       "<table border=\"1\" class=\"dataframe\">\n",
       "  <thead>\n",
       "    <tr style=\"text-align: right;\">\n",
       "      <th></th>\n",
       "      <th>Officer Gender</th>\n",
       "      <th>count</th>\n",
       "    </tr>\n",
       "  </thead>\n",
       "  <tbody>\n",
       "    <tr>\n",
       "      <th>0</th>\n",
       "      <td>M</td>\n",
       "      <td>39065</td>\n",
       "    </tr>\n",
       "    <tr>\n",
       "      <th>1</th>\n",
       "      <td>F</td>\n",
       "      <td>4974</td>\n",
       "    </tr>\n",
       "    <tr>\n",
       "      <th>2</th>\n",
       "      <td>N</td>\n",
       "      <td>11</td>\n",
       "    </tr>\n",
       "  </tbody>\n",
       "</table>\n",
       "</div>"
      ],
      "text/plain": [
       "  Officer Gender  count\n",
       "0              M  39065\n",
       "1              F   4974\n",
       "2              N     11"
      ]
     },
     "metadata": {},
     "output_type": "display_data"
    },
    {
     "name": "stdout",
     "output_type": "stream",
     "text": [
      "Number of unique Officer Race values: 9\n"
     ]
    },
    {
     "data": {
      "text/html": [
       "<div>\n",
       "<style scoped>\n",
       "    .dataframe tbody tr th:only-of-type {\n",
       "        vertical-align: middle;\n",
       "    }\n",
       "\n",
       "    .dataframe tbody tr th {\n",
       "        vertical-align: top;\n",
       "    }\n",
       "\n",
       "    .dataframe thead th {\n",
       "        text-align: right;\n",
       "    }\n",
       "</style>\n",
       "<table border=\"1\" class=\"dataframe\">\n",
       "  <thead>\n",
       "    <tr style=\"text-align: right;\">\n",
       "      <th></th>\n",
       "      <th>Officer Race</th>\n",
       "      <th>count</th>\n",
       "    </tr>\n",
       "  </thead>\n",
       "  <tbody>\n",
       "    <tr>\n",
       "      <th>0</th>\n",
       "      <td>White</td>\n",
       "      <td>33788</td>\n",
       "    </tr>\n",
       "    <tr>\n",
       "      <th>1</th>\n",
       "      <td>Hispanic or Latino</td>\n",
       "      <td>2495</td>\n",
       "    </tr>\n",
       "    <tr>\n",
       "      <th>2</th>\n",
       "      <td>Two or More Races</td>\n",
       "      <td>2325</td>\n",
       "    </tr>\n",
       "    <tr>\n",
       "      <th>3</th>\n",
       "      <td>Asian</td>\n",
       "      <td>1807</td>\n",
       "    </tr>\n",
       "    <tr>\n",
       "      <th>4</th>\n",
       "      <td>Black or African American</td>\n",
       "      <td>1757</td>\n",
       "    </tr>\n",
       "    <tr>\n",
       "      <th>5</th>\n",
       "      <td>Not Specified</td>\n",
       "      <td>1105</td>\n",
       "    </tr>\n",
       "    <tr>\n",
       "      <th>6</th>\n",
       "      <td>Nat Hawaiian/Oth Pac Islander</td>\n",
       "      <td>436</td>\n",
       "    </tr>\n",
       "    <tr>\n",
       "      <th>7</th>\n",
       "      <td>American Indian/Alaska Native</td>\n",
       "      <td>311</td>\n",
       "    </tr>\n",
       "    <tr>\n",
       "      <th>8</th>\n",
       "      <td>Unknown</td>\n",
       "      <td>26</td>\n",
       "    </tr>\n",
       "  </tbody>\n",
       "</table>\n",
       "</div>"
      ],
      "text/plain": [
       "                    Officer Race  count\n",
       "0                          White  33788\n",
       "1             Hispanic or Latino   2495\n",
       "2              Two or More Races   2325\n",
       "3                          Asian   1807\n",
       "4      Black or African American   1757\n",
       "5                  Not Specified   1105\n",
       "6  Nat Hawaiian/Oth Pac Islander    436\n",
       "7  American Indian/Alaska Native    311\n",
       "8                        Unknown     26"
      ]
     },
     "metadata": {},
     "output_type": "display_data"
    },
    {
     "name": "stdout",
     "output_type": "stream",
     "text": [
      "Number of unique Subject Perceived Race values: 10\n"
     ]
    },
    {
     "data": {
      "text/html": [
       "<div>\n",
       "<style scoped>\n",
       "    .dataframe tbody tr th:only-of-type {\n",
       "        vertical-align: middle;\n",
       "    }\n",
       "\n",
       "    .dataframe tbody tr th {\n",
       "        vertical-align: top;\n",
       "    }\n",
       "\n",
       "    .dataframe thead th {\n",
       "        text-align: right;\n",
       "    }\n",
       "</style>\n",
       "<table border=\"1\" class=\"dataframe\">\n",
       "  <thead>\n",
       "    <tr style=\"text-align: right;\">\n",
       "      <th></th>\n",
       "      <th>Subject Perceived Race</th>\n",
       "      <th>count</th>\n",
       "    </tr>\n",
       "  </thead>\n",
       "  <tbody>\n",
       "    <tr>\n",
       "      <th>0</th>\n",
       "      <td>White</td>\n",
       "      <td>21543</td>\n",
       "    </tr>\n",
       "    <tr>\n",
       "      <th>1</th>\n",
       "      <td>Black or African American</td>\n",
       "      <td>13139</td>\n",
       "    </tr>\n",
       "    <tr>\n",
       "      <th>2</th>\n",
       "      <td>Unknown</td>\n",
       "      <td>2297</td>\n",
       "    </tr>\n",
       "    <tr>\n",
       "      <th>3</th>\n",
       "      <td>-</td>\n",
       "      <td>1702</td>\n",
       "    </tr>\n",
       "    <tr>\n",
       "      <th>4</th>\n",
       "      <td>Hispanic</td>\n",
       "      <td>1684</td>\n",
       "    </tr>\n",
       "    <tr>\n",
       "      <th>5</th>\n",
       "      <td>Asian</td>\n",
       "      <td>1396</td>\n",
       "    </tr>\n",
       "    <tr>\n",
       "      <th>6</th>\n",
       "      <td>American Indian or Alaska Native</td>\n",
       "      <td>1289</td>\n",
       "    </tr>\n",
       "    <tr>\n",
       "      <th>7</th>\n",
       "      <td>Multi-Racial</td>\n",
       "      <td>809</td>\n",
       "    </tr>\n",
       "    <tr>\n",
       "      <th>8</th>\n",
       "      <td>Other</td>\n",
       "      <td>152</td>\n",
       "    </tr>\n",
       "    <tr>\n",
       "      <th>9</th>\n",
       "      <td>Native Hawaiian or Other Pacific Islander</td>\n",
       "      <td>39</td>\n",
       "    </tr>\n",
       "  </tbody>\n",
       "</table>\n",
       "</div>"
      ],
      "text/plain": [
       "                      Subject Perceived Race  count\n",
       "0                                      White  21543\n",
       "1                  Black or African American  13139\n",
       "2                                    Unknown   2297\n",
       "3                                          -   1702\n",
       "4                                   Hispanic   1684\n",
       "5                                      Asian   1396\n",
       "6           American Indian or Alaska Native   1289\n",
       "7                               Multi-Racial    809\n",
       "8                                      Other    152\n",
       "9  Native Hawaiian or Other Pacific Islander     39"
      ]
     },
     "metadata": {},
     "output_type": "display_data"
    },
    {
     "name": "stdout",
     "output_type": "stream",
     "text": [
      "Number of unique Subject Perceived Gender values: 6\n"
     ]
    },
    {
     "data": {
      "text/html": [
       "<div>\n",
       "<style scoped>\n",
       "    .dataframe tbody tr th:only-of-type {\n",
       "        vertical-align: middle;\n",
       "    }\n",
       "\n",
       "    .dataframe tbody tr th {\n",
       "        vertical-align: top;\n",
       "    }\n",
       "\n",
       "    .dataframe thead th {\n",
       "        text-align: right;\n",
       "    }\n",
       "</style>\n",
       "<table border=\"1\" class=\"dataframe\">\n",
       "  <thead>\n",
       "    <tr style=\"text-align: right;\">\n",
       "      <th></th>\n",
       "      <th>Subject Perceived Gender</th>\n",
       "      <th>count</th>\n",
       "    </tr>\n",
       "  </thead>\n",
       "  <tbody>\n",
       "    <tr>\n",
       "      <th>0</th>\n",
       "      <td>Male</td>\n",
       "      <td>34422</td>\n",
       "    </tr>\n",
       "    <tr>\n",
       "      <th>1</th>\n",
       "      <td>Female</td>\n",
       "      <td>9021</td>\n",
       "    </tr>\n",
       "    <tr>\n",
       "      <th>2</th>\n",
       "      <td>Unable to Determine</td>\n",
       "      <td>326</td>\n",
       "    </tr>\n",
       "    <tr>\n",
       "      <th>3</th>\n",
       "      <td>-</td>\n",
       "      <td>263</td>\n",
       "    </tr>\n",
       "    <tr>\n",
       "      <th>4</th>\n",
       "      <td>Unknown</td>\n",
       "      <td>14</td>\n",
       "    </tr>\n",
       "    <tr>\n",
       "      <th>5</th>\n",
       "      <td>Gender Diverse (gender non-conforming and/or t...</td>\n",
       "      <td>4</td>\n",
       "    </tr>\n",
       "  </tbody>\n",
       "</table>\n",
       "</div>"
      ],
      "text/plain": [
       "                            Subject Perceived Gender  count\n",
       "0                                               Male  34422\n",
       "1                                             Female   9021\n",
       "2                                Unable to Determine    326\n",
       "3                                                  -    263\n",
       "4                                            Unknown     14\n",
       "5  Gender Diverse (gender non-conforming and/or t...      4"
      ]
     },
     "metadata": {},
     "output_type": "display_data"
    },
    {
     "name": "stdout",
     "output_type": "stream",
     "text": [
      "Number of unique Reported Time values: 2\n"
     ]
    },
    {
     "data": {
      "text/html": [
       "<div>\n",
       "<style scoped>\n",
       "    .dataframe tbody tr th:only-of-type {\n",
       "        vertical-align: middle;\n",
       "    }\n",
       "\n",
       "    .dataframe tbody tr th {\n",
       "        vertical-align: top;\n",
       "    }\n",
       "\n",
       "    .dataframe thead th {\n",
       "        text-align: right;\n",
       "    }\n",
       "</style>\n",
       "<table border=\"1\" class=\"dataframe\">\n",
       "  <thead>\n",
       "    <tr style=\"text-align: right;\">\n",
       "      <th></th>\n",
       "      <th>Reported Time</th>\n",
       "      <th>count</th>\n",
       "    </tr>\n",
       "  </thead>\n",
       "  <tbody>\n",
       "    <tr>\n",
       "      <th>0</th>\n",
       "      <td>Night</td>\n",
       "      <td>23745</td>\n",
       "    </tr>\n",
       "    <tr>\n",
       "      <th>1</th>\n",
       "      <td>Day</td>\n",
       "      <td>20305</td>\n",
       "    </tr>\n",
       "  </tbody>\n",
       "</table>\n",
       "</div>"
      ],
      "text/plain": [
       "  Reported Time  count\n",
       "0         Night  23745\n",
       "1           Day  20305"
      ]
     },
     "metadata": {},
     "output_type": "display_data"
    },
    {
     "name": "stdout",
     "output_type": "stream",
     "text": [
      "Number of unique Initial Call Type values: 164\n"
     ]
    },
    {
     "data": {
      "text/html": [
       "<div>\n",
       "<style scoped>\n",
       "    .dataframe tbody tr th:only-of-type {\n",
       "        vertical-align: middle;\n",
       "    }\n",
       "\n",
       "    .dataframe tbody tr th {\n",
       "        vertical-align: top;\n",
       "    }\n",
       "\n",
       "    .dataframe thead th {\n",
       "        text-align: right;\n",
       "    }\n",
       "</style>\n",
       "<table border=\"1\" class=\"dataframe\">\n",
       "  <thead>\n",
       "    <tr style=\"text-align: right;\">\n",
       "      <th></th>\n",
       "      <th>Initial Call Type</th>\n",
       "      <th>count</th>\n",
       "    </tr>\n",
       "  </thead>\n",
       "  <tbody>\n",
       "    <tr>\n",
       "      <th>0</th>\n",
       "      <td>-</td>\n",
       "      <td>12850</td>\n",
       "    </tr>\n",
       "    <tr>\n",
       "      <th>1</th>\n",
       "      <td>SUSPICIOUS STOP - OFFICER INITIATED ONVIEW</td>\n",
       "      <td>2846</td>\n",
       "    </tr>\n",
       "    <tr>\n",
       "      <th>2</th>\n",
       "      <td>SUSPICIOUS PERSON, VEHICLE OR INCIDENT</td>\n",
       "      <td>2765</td>\n",
       "    </tr>\n",
       "    <tr>\n",
       "      <th>3</th>\n",
       "      <td>DISTURBANCE, MISCELLANEOUS/OTHER</td>\n",
       "      <td>2272</td>\n",
       "    </tr>\n",
       "    <tr>\n",
       "      <th>4</th>\n",
       "      <td>ASLT - IP/JO - WITH OR W/O WPNS (NO SHOOTINGS)</td>\n",
       "      <td>1861</td>\n",
       "    </tr>\n",
       "    <tr>\n",
       "      <th>5</th>\n",
       "      <td>TRESPASS</td>\n",
       "      <td>1742</td>\n",
       "    </tr>\n",
       "    <tr>\n",
       "      <th>6</th>\n",
       "      <td>THEFT (DOES NOT INCLUDE SHOPLIFT OR SVCS)</td>\n",
       "      <td>1313</td>\n",
       "    </tr>\n",
       "    <tr>\n",
       "      <th>7</th>\n",
       "      <td>SHOPLIFT - THEFT</td>\n",
       "      <td>1208</td>\n",
       "    </tr>\n",
       "    <tr>\n",
       "      <th>8</th>\n",
       "      <td>FIGHT - IP - PHYSICAL (NO WEAPONS)</td>\n",
       "      <td>1205</td>\n",
       "    </tr>\n",
       "    <tr>\n",
       "      <th>9</th>\n",
       "      <td>WEAPN-IP/JO-GUN,DEADLY WPN (NO THRT/ASLT/DIST)</td>\n",
       "      <td>1080</td>\n",
       "    </tr>\n",
       "  </tbody>\n",
       "</table>\n",
       "</div>"
      ],
      "text/plain": [
       "                                Initial Call Type  count\n",
       "0                                               -  12850\n",
       "1      SUSPICIOUS STOP - OFFICER INITIATED ONVIEW   2846\n",
       "2          SUSPICIOUS PERSON, VEHICLE OR INCIDENT   2765\n",
       "3                DISTURBANCE, MISCELLANEOUS/OTHER   2272\n",
       "4  ASLT - IP/JO - WITH OR W/O WPNS (NO SHOOTINGS)   1861\n",
       "5                                        TRESPASS   1742\n",
       "6       THEFT (DOES NOT INCLUDE SHOPLIFT OR SVCS)   1313\n",
       "7                                SHOPLIFT - THEFT   1208\n",
       "8              FIGHT - IP - PHYSICAL (NO WEAPONS)   1205\n",
       "9  WEAPN-IP/JO-GUN,DEADLY WPN (NO THRT/ASLT/DIST)   1080"
      ]
     },
     "metadata": {},
     "output_type": "display_data"
    },
    {
     "name": "stdout",
     "output_type": "stream",
     "text": [
      "Number of unique Call Type values: 8\n"
     ]
    },
    {
     "data": {
      "text/html": [
       "<div>\n",
       "<style scoped>\n",
       "    .dataframe tbody tr th:only-of-type {\n",
       "        vertical-align: middle;\n",
       "    }\n",
       "\n",
       "    .dataframe tbody tr th {\n",
       "        vertical-align: top;\n",
       "    }\n",
       "\n",
       "    .dataframe thead th {\n",
       "        text-align: right;\n",
       "    }\n",
       "</style>\n",
       "<table border=\"1\" class=\"dataframe\">\n",
       "  <thead>\n",
       "    <tr style=\"text-align: right;\">\n",
       "      <th></th>\n",
       "      <th>Call Type</th>\n",
       "      <th>count</th>\n",
       "    </tr>\n",
       "  </thead>\n",
       "  <tbody>\n",
       "    <tr>\n",
       "      <th>0</th>\n",
       "      <td>911</td>\n",
       "      <td>19523</td>\n",
       "    </tr>\n",
       "    <tr>\n",
       "      <th>1</th>\n",
       "      <td>-</td>\n",
       "      <td>12850</td>\n",
       "    </tr>\n",
       "    <tr>\n",
       "      <th>2</th>\n",
       "      <td>ONVIEW</td>\n",
       "      <td>8308</td>\n",
       "    </tr>\n",
       "    <tr>\n",
       "      <th>3</th>\n",
       "      <td>TELEPHONE OTHER, NOT 911</td>\n",
       "      <td>3075</td>\n",
       "    </tr>\n",
       "    <tr>\n",
       "      <th>4</th>\n",
       "      <td>ALARM CALL (NOT POLICE ALARM)</td>\n",
       "      <td>285</td>\n",
       "    </tr>\n",
       "    <tr>\n",
       "      <th>5</th>\n",
       "      <td>TEXT MESSAGE</td>\n",
       "      <td>6</td>\n",
       "    </tr>\n",
       "    <tr>\n",
       "      <th>6</th>\n",
       "      <td>PROACTIVE (OFFICER INITIATED)</td>\n",
       "      <td>2</td>\n",
       "    </tr>\n",
       "    <tr>\n",
       "      <th>7</th>\n",
       "      <td>SCHEDULED EVENT (RECURRING)</td>\n",
       "      <td>1</td>\n",
       "    </tr>\n",
       "  </tbody>\n",
       "</table>\n",
       "</div>"
      ],
      "text/plain": [
       "                       Call Type  count\n",
       "0                            911  19523\n",
       "1                              -  12850\n",
       "2                         ONVIEW   8308\n",
       "3       TELEPHONE OTHER, NOT 911   3075\n",
       "4  ALARM CALL (NOT POLICE ALARM)    285\n",
       "5                   TEXT MESSAGE      6\n",
       "6  PROACTIVE (OFFICER INITIATED)      2\n",
       "7    SCHEDULED EVENT (RECURRING)      1"
      ]
     },
     "metadata": {},
     "output_type": "display_data"
    },
    {
     "name": "stdout",
     "output_type": "stream",
     "text": [
      "Number of unique Arrest Flag values: 2\n"
     ]
    },
    {
     "data": {
      "text/html": [
       "<div>\n",
       "<style scoped>\n",
       "    .dataframe tbody tr th:only-of-type {\n",
       "        vertical-align: middle;\n",
       "    }\n",
       "\n",
       "    .dataframe tbody tr th {\n",
       "        vertical-align: top;\n",
       "    }\n",
       "\n",
       "    .dataframe thead th {\n",
       "        text-align: right;\n",
       "    }\n",
       "</style>\n",
       "<table border=\"1\" class=\"dataframe\">\n",
       "  <thead>\n",
       "    <tr style=\"text-align: right;\">\n",
       "      <th></th>\n",
       "      <th>Arrest Flag</th>\n",
       "      <th>count</th>\n",
       "    </tr>\n",
       "  </thead>\n",
       "  <tbody>\n",
       "    <tr>\n",
       "      <th>0</th>\n",
       "      <td>N</td>\n",
       "      <td>41615</td>\n",
       "    </tr>\n",
       "    <tr>\n",
       "      <th>1</th>\n",
       "      <td>Y</td>\n",
       "      <td>2435</td>\n",
       "    </tr>\n",
       "  </tbody>\n",
       "</table>\n",
       "</div>"
      ],
      "text/plain": [
       "  Arrest Flag  count\n",
       "0           N  41615\n",
       "1           Y   2435"
      ]
     },
     "metadata": {},
     "output_type": "display_data"
    },
    {
     "name": "stdout",
     "output_type": "stream",
     "text": [
      "Number of unique Frisk Flag values: 3\n"
     ]
    },
    {
     "data": {
      "text/html": [
       "<div>\n",
       "<style scoped>\n",
       "    .dataframe tbody tr th:only-of-type {\n",
       "        vertical-align: middle;\n",
       "    }\n",
       "\n",
       "    .dataframe tbody tr th {\n",
       "        vertical-align: top;\n",
       "    }\n",
       "\n",
       "    .dataframe thead th {\n",
       "        text-align: right;\n",
       "    }\n",
       "</style>\n",
       "<table border=\"1\" class=\"dataframe\">\n",
       "  <thead>\n",
       "    <tr style=\"text-align: right;\">\n",
       "      <th></th>\n",
       "      <th>Frisk Flag</th>\n",
       "      <th>count</th>\n",
       "    </tr>\n",
       "  </thead>\n",
       "  <tbody>\n",
       "    <tr>\n",
       "      <th>0</th>\n",
       "      <td>N</td>\n",
       "      <td>33826</td>\n",
       "    </tr>\n",
       "    <tr>\n",
       "      <th>1</th>\n",
       "      <td>Y</td>\n",
       "      <td>9746</td>\n",
       "    </tr>\n",
       "    <tr>\n",
       "      <th>2</th>\n",
       "      <td>-</td>\n",
       "      <td>478</td>\n",
       "    </tr>\n",
       "  </tbody>\n",
       "</table>\n",
       "</div>"
      ],
      "text/plain": [
       "  Frisk Flag  count\n",
       "0          N  33826\n",
       "1          Y   9746\n",
       "2          -    478"
      ]
     },
     "metadata": {},
     "output_type": "display_data"
    },
    {
     "name": "stdout",
     "output_type": "stream",
     "text": [
      "Number of unique Precinct values: 10\n"
     ]
    },
    {
     "data": {
      "text/html": [
       "<div>\n",
       "<style scoped>\n",
       "    .dataframe tbody tr th:only-of-type {\n",
       "        vertical-align: middle;\n",
       "    }\n",
       "\n",
       "    .dataframe tbody tr th {\n",
       "        vertical-align: top;\n",
       "    }\n",
       "\n",
       "    .dataframe thead th {\n",
       "        text-align: right;\n",
       "    }\n",
       "</style>\n",
       "<table border=\"1\" class=\"dataframe\">\n",
       "  <thead>\n",
       "    <tr style=\"text-align: right;\">\n",
       "      <th></th>\n",
       "      <th>Precinct</th>\n",
       "      <th>count</th>\n",
       "    </tr>\n",
       "  </thead>\n",
       "  <tbody>\n",
       "    <tr>\n",
       "      <th>0</th>\n",
       "      <td>West</td>\n",
       "      <td>10253</td>\n",
       "    </tr>\n",
       "    <tr>\n",
       "      <th>1</th>\n",
       "      <td>North</td>\n",
       "      <td>9722</td>\n",
       "    </tr>\n",
       "    <tr>\n",
       "      <th>2</th>\n",
       "      <td>-</td>\n",
       "      <td>9687</td>\n",
       "    </tr>\n",
       "    <tr>\n",
       "      <th>3</th>\n",
       "      <td>East</td>\n",
       "      <td>5839</td>\n",
       "    </tr>\n",
       "    <tr>\n",
       "      <th>4</th>\n",
       "      <td>South</td>\n",
       "      <td>5246</td>\n",
       "    </tr>\n",
       "    <tr>\n",
       "      <th>5</th>\n",
       "      <td>Southwest</td>\n",
       "      <td>2320</td>\n",
       "    </tr>\n",
       "    <tr>\n",
       "      <th>6</th>\n",
       "      <td>SouthWest</td>\n",
       "      <td>740</td>\n",
       "    </tr>\n",
       "    <tr>\n",
       "      <th>7</th>\n",
       "      <td>Unknown</td>\n",
       "      <td>200</td>\n",
       "    </tr>\n",
       "    <tr>\n",
       "      <th>8</th>\n",
       "      <td>OOJ</td>\n",
       "      <td>28</td>\n",
       "    </tr>\n",
       "    <tr>\n",
       "      <th>9</th>\n",
       "      <td>FK ERROR</td>\n",
       "      <td>15</td>\n",
       "    </tr>\n",
       "  </tbody>\n",
       "</table>\n",
       "</div>"
      ],
      "text/plain": [
       "    Precinct  count\n",
       "0       West  10253\n",
       "1      North   9722\n",
       "2          -   9687\n",
       "3       East   5839\n",
       "4      South   5246\n",
       "5  Southwest   2320\n",
       "6  SouthWest    740\n",
       "7    Unknown    200\n",
       "8        OOJ     28\n",
       "9   FK ERROR     15"
      ]
     },
     "metadata": {},
     "output_type": "display_data"
    },
    {
     "name": "stdout",
     "output_type": "stream",
     "text": [
      "Number of unique Officer Age values: 56\n"
     ]
    },
    {
     "data": {
      "text/html": [
       "<div>\n",
       "<style scoped>\n",
       "    .dataframe tbody tr th:only-of-type {\n",
       "        vertical-align: middle;\n",
       "    }\n",
       "\n",
       "    .dataframe tbody tr th {\n",
       "        vertical-align: top;\n",
       "    }\n",
       "\n",
       "    .dataframe thead th {\n",
       "        text-align: right;\n",
       "    }\n",
       "</style>\n",
       "<table border=\"1\" class=\"dataframe\">\n",
       "  <thead>\n",
       "    <tr style=\"text-align: right;\">\n",
       "      <th></th>\n",
       "      <th>Officer Age</th>\n",
       "      <th>count</th>\n",
       "    </tr>\n",
       "  </thead>\n",
       "  <tbody>\n",
       "    <tr>\n",
       "      <th>0</th>\n",
       "      <td>31</td>\n",
       "      <td>2974</td>\n",
       "    </tr>\n",
       "    <tr>\n",
       "      <th>1</th>\n",
       "      <td>30</td>\n",
       "      <td>2766</td>\n",
       "    </tr>\n",
       "    <tr>\n",
       "      <th>2</th>\n",
       "      <td>33</td>\n",
       "      <td>2677</td>\n",
       "    </tr>\n",
       "    <tr>\n",
       "      <th>3</th>\n",
       "      <td>32</td>\n",
       "      <td>2622</td>\n",
       "    </tr>\n",
       "    <tr>\n",
       "      <th>4</th>\n",
       "      <td>29</td>\n",
       "      <td>2436</td>\n",
       "    </tr>\n",
       "    <tr>\n",
       "      <th>5</th>\n",
       "      <td>34</td>\n",
       "      <td>2385</td>\n",
       "    </tr>\n",
       "    <tr>\n",
       "      <th>6</th>\n",
       "      <td>28</td>\n",
       "      <td>2335</td>\n",
       "    </tr>\n",
       "    <tr>\n",
       "      <th>7</th>\n",
       "      <td>26</td>\n",
       "      <td>2079</td>\n",
       "    </tr>\n",
       "    <tr>\n",
       "      <th>8</th>\n",
       "      <td>27</td>\n",
       "      <td>2058</td>\n",
       "    </tr>\n",
       "    <tr>\n",
       "      <th>9</th>\n",
       "      <td>35</td>\n",
       "      <td>1791</td>\n",
       "    </tr>\n",
       "  </tbody>\n",
       "</table>\n",
       "</div>"
      ],
      "text/plain": [
       "   Officer Age  count\n",
       "0           31   2974\n",
       "1           30   2766\n",
       "2           33   2677\n",
       "3           32   2622\n",
       "4           29   2436\n",
       "5           34   2385\n",
       "6           28   2335\n",
       "7           26   2079\n",
       "8           27   2058\n",
       "9           35   1791"
      ]
     },
     "metadata": {},
     "output_type": "display_data"
    }
   ],
   "source": [
    "#Look at the most common values for each column to see if there are any strange values\n",
    "for col in data.columns:\n",
    "    \n",
    "    val_counts = data[col].value_counts()\n",
    "    index_list = []\n",
    "    value_list = []\n",
    "    print(f\"Number of unique {col} values: {data[col].nunique()}\")\n",
    "    \n",
    "    #get a list of the values and their counts\n",
    "    for index, value in val_counts.items():\n",
    "        index_list.append(index)\n",
    "        value_list.append(value)\n",
    "        \n",
    "    #Create a dataframe of the top 10 values for ease of examination \n",
    "    df = pd.DataFrame({col: index_list, \"count\": value_list})\n",
    "    display(df.head(10))"
   ]
  },
  {
   "cell_type": "code",
   "execution_count": 161,
   "metadata": {
    "ExecuteTime": {
     "end_time": "2020-10-13T22:23:39.837378Z",
     "start_time": "2020-10-13T22:23:39.745383Z"
    },
    "scrolled": true
   },
   "outputs": [
    {
     "name": "stdout",
     "output_type": "stream",
     "text": [
      "3.17% of Subject Age Group values are missing.\n",
      "20.3% of Weapon Type values are missing.\n",
      "0.0% of Officer Gender values are missing.\n",
      "0.0% of Officer Race values are missing.\n",
      "3.86% of Subject Perceived Race values are missing.\n",
      "0.6% of Subject Perceived Gender values are missing.\n",
      "0.0% of Reported Time values are missing.\n",
      "29.17% of Initial Call Type values are missing.\n",
      "29.17% of Call Type values are missing.\n",
      "0.0% of Arrest Flag values are missing.\n",
      "1.09% of Frisk Flag values are missing.\n",
      "21.99% of Precinct values are missing.\n",
      "0.0% of Officer Age values are missing.\n"
     ]
    }
   ],
   "source": [
    "#Clearly \"-\" is not a valid value so we can replace it with nan to distingiush it so it can be addressed\n",
    "data = data.replace(\"-\", np.nan)\n",
    "\n",
    "def find_percent_null(df):\n",
    "    \"\"\"Calculates the percentage null values in each column and prints them.\"\"\"\n",
    "    \n",
    "    null_nums = df.isnull().sum()\n",
    "    total_rows = df.shape[0]\n",
    "    \n",
    "    for index, value in null_nums.items():\n",
    "        percent_missing = round((value/total_rows)*100, 2)\n",
    "        print(f\"{percent_missing}% of {index} values are missing.\")\n",
    "\n",
    "find_percent_null(data)"
   ]
  },
  {
   "cell_type": "markdown",
   "metadata": {},
   "source": [
    "Clearly there is a much greater prevalence of missing values for subjects compared to officers. "
   ]
  },
  {
   "cell_type": "markdown",
   "metadata": {},
   "source": [
    "### Combining and Renaming Values"
   ]
  },
  {
   "cell_type": "markdown",
   "metadata": {},
   "source": [
    "#### Call Type/Method"
   ]
  },
  {
   "cell_type": "markdown",
   "metadata": {},
   "source": [
    "- On View refers to an officer witnessing an incident. In order to keep dimensions more concise, proactive can be combined into this category. In addition, the two other least common categories can be combined into an other category. \n",
    "    - https://www.phoenix.gov/policesite/Documents/Police%20Terminology%20for%20Website.pdf\n",
    "- In addition the name of this column is slightly misleading, implying that it is the same as the initial call type, when it is really the call method. Therefore this is the new name for the column."
   ]
  },
  {
   "cell_type": "code",
   "execution_count": 166,
   "metadata": {
    "ExecuteTime": {
     "end_time": "2020-10-13T22:24:29.305796Z",
     "start_time": "2020-10-13T22:24:29.296801Z"
    }
   },
   "outputs": [
    {
     "data": {
      "text/plain": [
       "[nan,\n",
       " '911',\n",
       " 'ONVIEW',\n",
       " 'TELEPHONE OTHER, NOT 911',\n",
       " 'ALARM CALL (NOT POLICE ALARM)',\n",
       " 'TEXT MESSAGE',\n",
       " 'PROACTIVE (OFFICER INITIATED)',\n",
       " 'SCHEDULED EVENT (RECURRING)']"
      ]
     },
     "execution_count": 166,
     "metadata": {},
     "output_type": "execute_result"
    }
   ],
   "source": [
    "#These are the current values for call type\n",
    "list(data[\"Call Type\"].unique())"
   ]
  },
  {
   "cell_type": "code",
   "execution_count": 167,
   "metadata": {
    "ExecuteTime": {
     "end_time": "2020-10-13T22:25:12.581125Z",
     "start_time": "2020-10-13T22:25:12.553128Z"
    }
   },
   "outputs": [],
   "source": [
    "data[\"Call Type\"] = data[\"Call Type\"].replace({\"ONVIEW\": \"Officer Initiated\", \n",
    "                                               \"TELEPHONE OTHER, NOT 911\": \"Telephone, Not 911\", \n",
    "                                               \"ALARM CALL (NOT POLICE ALARM)\": \"Non-Police Alarm\",\n",
    "                                               \"PROACTIVE (OFFICER INITIATED)\": \"Officer Initiated\",\n",
    "                                               \"TEXT MESSAGE\": \"Other\",\n",
    "                                               \"SCHEDULED EVENT (RECURRING)\": \"Other\"})\n",
    "data = data.rename(columns={\"Call Type\": \"Call Method\"})"
   ]
  },
  {
   "cell_type": "code",
   "execution_count": 168,
   "metadata": {
    "ExecuteTime": {
     "end_time": "2020-10-13T22:25:14.024214Z",
     "start_time": "2020-10-13T22:25:14.012235Z"
    }
   },
   "outputs": [
    {
     "data": {
      "text/plain": [
       "[nan,\n",
       " '911',\n",
       " 'Officer Initiated',\n",
       " 'Telephone, Not 911',\n",
       " 'Non-Police Alarm',\n",
       " 'Other']"
      ]
     },
     "execution_count": 168,
     "metadata": {},
     "output_type": "execute_result"
    }
   ],
   "source": [
    "#These are the new values for call type\n",
    "list(data[\"Call Method\"].unique())"
   ]
  },
  {
   "cell_type": "markdown",
   "metadata": {},
   "source": [
    "#### Race and Gender"
   ]
  },
  {
   "cell_type": "markdown",
   "metadata": {},
   "source": [
    "- There are some discrepancies in category names between officer and subject racial categories. In order to look at the relationship between officer and subject race, these discrepancies must be eliminated. \n",
    "    - One potential point of concern is that subject race is being perceived. Therefore categories such as \"unknown\" \"multi-racial\" could be referring to people with a great range of skin colors and racial identities. The fact that these categories are not more specific could have multiple causes or meanings.    \n",
    "- Similarly, there are also discrepancies between officer and subject gender. \n",
    "    - As with race, there are problems with officers perceiving gender. While the gender diverse category is very small, there may be subjects who are listed as male or female who are miscategorized. "
   ]
  },
  {
   "cell_type": "code",
   "execution_count": 169,
   "metadata": {
    "ExecuteTime": {
     "end_time": "2020-10-13T22:28:24.282054Z",
     "start_time": "2020-10-13T22:28:24.268063Z"
    }
   },
   "outputs": [
    {
     "data": {
      "text/plain": [
       "(['Black or African American',\n",
       "  'White',\n",
       "  'Hispanic or Latino',\n",
       "  'Asian',\n",
       "  'American Indian/Alaska Native',\n",
       "  'Two or More Races',\n",
       "  'Nat Hawaiian/Oth Pac Islander',\n",
       "  'Not Specified',\n",
       "  'Unknown'],\n",
       " ['Asian',\n",
       "  nan,\n",
       "  'White',\n",
       "  'Black or African American',\n",
       "  'Other',\n",
       "  'Unknown',\n",
       "  'American Indian or Alaska Native',\n",
       "  'Hispanic',\n",
       "  'Multi-Racial',\n",
       "  'Native Hawaiian or Other Pacific Islander'])"
      ]
     },
     "execution_count": 169,
     "metadata": {},
     "output_type": "execute_result"
    }
   ],
   "source": [
    "#These are the current values for officer and subject race\n",
    "list(data[\"Officer Race\"].unique()), list(data[\"Subject Perceived Race\"].unique())"
   ]
  },
  {
   "cell_type": "code",
   "execution_count": 170,
   "metadata": {
    "ExecuteTime": {
     "end_time": "2020-10-13T22:29:12.260769Z",
     "start_time": "2020-10-13T22:29:12.248752Z"
    }
   },
   "outputs": [
    {
     "data": {
      "text/plain": [
       "(['M', 'F', 'N'],\n",
       " ['Male',\n",
       "  nan,\n",
       "  'Female',\n",
       "  'Unable to Determine',\n",
       "  'Unknown',\n",
       "  'Gender Diverse (gender non-conforming and/or transgender)'])"
      ]
     },
     "execution_count": 170,
     "metadata": {},
     "output_type": "execute_result"
    }
   ],
   "source": [
    "#These are the current values for officer and subject gender\n",
    "list(data[\"Officer Gender\"].unique()), list(data[\"Subject Perceived Gender\"].unique())"
   ]
  },
  {
   "cell_type": "code",
   "execution_count": 171,
   "metadata": {
    "ExecuteTime": {
     "end_time": "2020-10-13T22:30:32.004352Z",
     "start_time": "2020-10-13T22:30:31.963370Z"
    }
   },
   "outputs": [],
   "source": [
    "#Replace the differing terms for officer and subject race\n",
    "officer_race_dict = {\"Not Specified\": \"Unknown\", \n",
    "                     \"Two or More Races\": \"Multi-Racial\",\n",
    "                     \"Nat Hawaiian/Oth Pac Islander\": \"Native Hawaiian or Other Pacific Islander\",\n",
    "                     \"American Indian/Alaska Native\": \"American Indian or Alaska Native\"}\n",
    "\n",
    "data[\"Officer Race\"] = data[\"Officer Race\"].replace(officer_race_dict)\n",
    "\n",
    "data[\"Subject Perceived Race\"] = data[\"Subject Perceived Race\"].replace({\"Hispanic\": \"Hispanic or Latino\", \n",
    "                                                                         \"Other\": \"Unknown\"})\n",
    "\n",
    "#Replace the differing terms for officer and subject gender\n",
    "subject_gender_dict = {\"Gender Diverse (gender non-conforming and/or transgender)\": \"Gender Diverse\",\n",
    "                       \"Unable to Determine\": \"Unknown\"}\n",
    "\n",
    "data[\"Subject Perceived Gender\"] = data[\"Subject Perceived Gender\"].replace(subject_gender_dict)\n",
    "\n",
    "#The N values for officer gender have some other potentially unreasonable values so for now only \n",
    "#male and female labels are transformed\n",
    "data[\"Officer Gender\"] = data[\"Officer Gender\"].replace({\"M\": \"Male\", \"F\": \"Female\"})"
   ]
  },
  {
   "cell_type": "code",
   "execution_count": 173,
   "metadata": {
    "ExecuteTime": {
     "end_time": "2020-10-13T22:31:01.960224Z",
     "start_time": "2020-10-13T22:31:01.947215Z"
    }
   },
   "outputs": [
    {
     "data": {
      "text/plain": [
       "(['Black or African American',\n",
       "  'White',\n",
       "  'Hispanic or Latino',\n",
       "  'Asian',\n",
       "  'American Indian or Alaska Native',\n",
       "  'Multi-Racial',\n",
       "  'Native Hawaiian or Other Pacific Islander',\n",
       "  'Unknown'],\n",
       " ['Asian',\n",
       "  nan,\n",
       "  'White',\n",
       "  'Black or African American',\n",
       "  'Unknown',\n",
       "  'American Indian or Alaska Native',\n",
       "  'Hispanic or Latino',\n",
       "  'Multi-Racial',\n",
       "  'Native Hawaiian or Other Pacific Islander'])"
      ]
     },
     "execution_count": 173,
     "metadata": {},
     "output_type": "execute_result"
    }
   ],
   "source": [
    "#These are the new values for officer and subject race\n",
    "list(data[\"Officer Race\"].unique()), list(data[\"Subject Perceived Race\"].unique())"
   ]
  },
  {
   "cell_type": "code",
   "execution_count": 174,
   "metadata": {
    "ExecuteTime": {
     "end_time": "2020-10-13T22:31:03.912797Z",
     "start_time": "2020-10-13T22:31:03.897796Z"
    }
   },
   "outputs": [
    {
     "data": {
      "text/plain": [
       "(['Male', 'Female', 'N'], ['Male', nan, 'Female', 'Unknown', 'Gender Diverse'])"
      ]
     },
     "execution_count": 174,
     "metadata": {},
     "output_type": "execute_result"
    }
   ],
   "source": [
    "#These are the new values for officer and subject gender\n",
    "list(data[\"Officer Gender\"].unique()), list(data[\"Subject Perceived Gender\"].unique())"
   ]
  },
  {
   "cell_type": "markdown",
   "metadata": {},
   "source": [
    "#### Age"
   ]
  },
  {
   "cell_type": "markdown",
   "metadata": {},
   "source": [
    "- In order to improve the model, we can change the age ranges into numeric averages. It is probably rare for someone under the age of 10 or over the age of 65 to be stopped in a Terry Stop, so those values were chosen as bounds for the under 17 and over 56 categories respectively. \n",
    "- Since less than 5% of age values are missing, we can drop those rows."
   ]
  },
  {
   "cell_type": "code",
   "execution_count": 176,
   "metadata": {
    "ExecuteTime": {
     "end_time": "2020-10-13T22:33:55.303371Z",
     "start_time": "2020-10-13T22:33:55.290375Z"
    }
   },
   "outputs": [
    {
     "name": "stdout",
     "output_type": "stream",
     "text": [
      "['26 - 35', '36 - 45', '18 - 25', '46 - 55', '56 and Above', '1 - 17']\n"
     ]
    }
   ],
   "source": [
    "#Create a list of the age ranges in this dataset\n",
    "age_values = data[\"Subject Age Group\"].value_counts()\n",
    "ages_list = list(age_values.index)\n",
    "print(ages_list)"
   ]
  },
  {
   "cell_type": "code",
   "execution_count": 178,
   "metadata": {
    "ExecuteTime": {
     "end_time": "2020-10-13T22:36:27.864405Z",
     "start_time": "2020-10-13T22:36:27.834411Z"
    }
   },
   "outputs": [],
   "source": [
    "ages_map = {}\n",
    "\n",
    "for age in ages_list:\n",
    "    \n",
    "    try: \n",
    "        ages = age.split(\" \")\n",
    "        lower = int(ages[0])\n",
    "        upper = int(ages[2])\n",
    "        #we do not want to take the true average of 1-17 because it would skew too young so we've chosen to consider\n",
    "        #10 as the lower bound\n",
    "        if lower == 1:\n",
    "            lower = 10\n",
    "            ages_map[age] = (lower + upper)/2\n",
    "        else:\n",
    "            ages_map[age] = (lower + upper)/2\n",
    "            \n",
    "    #since \"56 and above\" contains a word, we cannot take the average so we've assigned it 65\n",
    "    except ValueError:\n",
    "        ages_map[age] = 65\n",
    "\n",
    "#replace the age ranges with the averages and drop null values\n",
    "data[\"Subject Age Group\"] = data[\"Subject Age Group\"].map(ages_map)\n",
    "data = data.dropna(subset=[\"Subject Age Group\"])"
   ]
  },
  {
   "cell_type": "code",
   "execution_count": 179,
   "metadata": {
    "ExecuteTime": {
     "end_time": "2020-10-13T22:36:29.397746Z",
     "start_time": "2020-10-13T22:36:29.389736Z"
    }
   },
   "outputs": [
    {
     "data": {
      "text/plain": [
       "[13.5, 21.5, 30.5, 40.5, 50.5, 65.0]"
      ]
     },
     "execution_count": 179,
     "metadata": {},
     "output_type": "execute_result"
    }
   ],
   "source": [
    "#These are the new values for subject age group\n",
    "list(data[\"Subject Age Group\"].unique())"
   ]
  },
  {
   "cell_type": "code",
   "execution_count": 180,
   "metadata": {
    "ExecuteTime": {
     "end_time": "2020-10-13T22:37:32.871334Z",
     "start_time": "2020-10-13T22:37:32.847334Z"
    }
   },
   "outputs": [
    {
     "data": {
      "text/plain": [
       "count    42653.000000\n",
       "mean        34.674396\n",
       "std          8.686564\n",
       "min         21.000000\n",
       "25%         29.000000\n",
       "50%         33.000000\n",
       "75%         39.000000\n",
       "max        120.000000\n",
       "Name: Officer Age, dtype: float64"
      ]
     },
     "metadata": {},
     "output_type": "display_data"
    },
    {
     "name": "stdout",
     "output_type": "stream",
     "text": [
      "The data indicate that 3.96% of officers in the dataset are over 53.\n",
      "The data indicate that 0.38% of officers in the dataset are over 60.\n",
      "The data indicate that 0.06% of officers in the dataset are over 70.\n"
     ]
    }
   ],
   "source": [
    "#Next we examine officer age, noting that the maximum is quite strange and age should be investigated further\n",
    "display(data[\"Officer Age\"].describe())\n",
    "\n",
    "#Look at the percentages of data for older age groups to see where the problem begins\n",
    "for age in [53, 60, 70]:\n",
    "    percent = len(data[data[\"Officer Age\"] > age])/len(data[\"Officer Age\"]) * 100\n",
    "    print(f\"The data indicate that {round(percent,2)}% of officers in the dataset are over {age}.\")"
   ]
  },
  {
   "cell_type": "code",
   "execution_count": 181,
   "metadata": {
    "ExecuteTime": {
     "end_time": "2020-10-13T22:37:52.813525Z",
     "start_time": "2020-10-13T22:37:52.785531Z"
    },
    "scrolled": true
   },
   "outputs": [
    {
     "name": "stdout",
     "output_type": "stream",
     "text": [
      "Age values over 53\n"
     ]
    },
    {
     "data": {
      "text/plain": [
       "54     429\n",
       "55     313\n",
       "56     244\n",
       "57     215\n",
       "58     164\n",
       "59      88\n",
       "60      73\n",
       "61      39\n",
       "63      29\n",
       "62      18\n",
       "65      16\n",
       "120     15\n",
       "64      14\n",
       "67      11\n",
       "119      4\n",
       "68       4\n",
       "118      3\n",
       "66       2\n",
       "116      2\n",
       "69       1\n",
       "70       1\n",
       "115      1\n",
       "117      1\n",
       "Name: Officer Age, dtype: int64"
      ]
     },
     "metadata": {},
     "output_type": "display_data"
    }
   ],
   "source": [
    "#Check the value counts of ages over 53\n",
    "print(\"Age values over 53\")\n",
    "display(data[data[\"Officer Age\"] > 53][\"Officer Age\"].value_counts())\n",
    "#Clearly there are multiple values between 53 and 70 before a huge gap to impossible ages\n",
    "\n",
    "#Eliminate all of the incorrect data\n",
    "data = data[data[\"Officer Age\"] < 100]"
   ]
  },
  {
   "cell_type": "markdown",
   "metadata": {},
   "source": [
    "- In examining the officer ages and noting the ages over 53, it has become clear that some data must have entered incorrectly. The rows containing these ages can be dropped since it is a small percentage of data. \n",
    "- Police officers in Washington State, where this data was collected, are eligible to retire at age 53. While there is a small percentage of data where the officer is listed as being between 53 and 70, those age are still reasonable enough that they can be left in the dataset. In addition, there are no ages between 70 and 115, indicating that the ages 70 and under are real."
   ]
  },
  {
   "cell_type": "markdown",
   "metadata": {},
   "source": [
    "#### Precinct"
   ]
  },
  {
   "cell_type": "markdown",
   "metadata": {},
   "source": [
    "- The Seattle police are divided into five precincts: North, East, West, South, and Southwest. The two different capitalizations of southwest need to be combined and the other categories can be coalesced into one unknown category. \n",
    "    - https://www.seattle.gov/police/about-us/about-policing/precinct-and-patrol-boundaries#:~:text=Seattle%20is%20divided%20into%20five,geographic%20and%20other%20natural%20boundaries."
   ]
  },
  {
   "cell_type": "code",
   "execution_count": 182,
   "metadata": {
    "ExecuteTime": {
     "end_time": "2020-10-13T22:41:40.814467Z",
     "start_time": "2020-10-13T22:41:40.804472Z"
    }
   },
   "outputs": [
    {
     "data": {
      "text/plain": [
       "[nan,\n",
       " 'East',\n",
       " 'North',\n",
       " 'West',\n",
       " 'South',\n",
       " 'Southwest',\n",
       " 'Unknown',\n",
       " 'SouthWest',\n",
       " 'FK ERROR',\n",
       " 'OOJ']"
      ]
     },
     "execution_count": 182,
     "metadata": {},
     "output_type": "execute_result"
    }
   ],
   "source": [
    "#These are the current values for precinct\n",
    "list(data[\"Precinct\"].unique())"
   ]
  },
  {
   "cell_type": "code",
   "execution_count": 183,
   "metadata": {
    "ExecuteTime": {
     "end_time": "2020-10-13T22:41:51.602444Z",
     "start_time": "2020-10-13T22:41:51.587458Z"
    }
   },
   "outputs": [],
   "source": [
    "predict_dict = {\"SouthWest\": \"Southwest\", \"OOJ\": \"Unknown\", \"FK ERROR\": \"Unknown\"}\n",
    "data[\"Precinct\"] = data[\"Precinct\"].replace(predict_dict)"
   ]
  },
  {
   "cell_type": "code",
   "execution_count": 184,
   "metadata": {
    "ExecuteTime": {
     "end_time": "2020-10-13T22:41:53.338861Z",
     "start_time": "2020-10-13T22:41:53.325875Z"
    }
   },
   "outputs": [
    {
     "data": {
      "text/plain": [
       "[nan, 'East', 'North', 'West', 'South', 'Southwest', 'Unknown']"
      ]
     },
     "execution_count": 184,
     "metadata": {},
     "output_type": "execute_result"
    }
   ],
   "source": [
    "#These are the new values for precinct\n",
    "list(data[\"Precinct\"].unique())"
   ]
  },
  {
   "cell_type": "code",
   "execution_count": 96,
   "metadata": {
    "ExecuteTime": {
     "end_time": "2020-10-13T21:56:36.892038Z",
     "start_time": "2020-10-13T21:56:36.708037Z"
    },
    "scrolled": true
   },
   "outputs": [
    {
     "data": {
      "text/plain": [
       "None                                 0.740886\n",
       "NaN                                  0.200877\n",
       "Lethal Cutting Instrument            0.034136\n",
       "Knife/Cutting/Stabbing Instrument    0.010621\n",
       "Handgun                              0.006119\n",
       "Firearm Other                        0.002180\n",
       "Blunt Object/Striking Implement      0.001383\n",
       "Club, Blackjack, Brass Knuckles      0.001125\n",
       "Firearm                              0.000727\n",
       "Mace/Pepper Spray                    0.000399\n",
       "Firearm (unk type)                   0.000352\n",
       "Other Firearm                        0.000328\n",
       "Club                                 0.000211\n",
       "Taser/Stun Gun                       0.000141\n",
       "None/Not Applicable                  0.000141\n",
       "Rifle                                0.000141\n",
       "Shotgun                              0.000070\n",
       "Fire/Incendiary Device               0.000070\n",
       "Automatic Handgun                    0.000047\n",
       "Blackjack                            0.000023\n",
       "Brass Knuckles                       0.000023\n",
       "Name: Weapon Type, dtype: float64"
      ]
     },
     "execution_count": 96,
     "metadata": {},
     "output_type": "execute_result"
    }
   ],
   "source": [
    "#Looking at weapons we can see that not having a weapon is most common \n",
    "#with the value missing being the second most common\n",
    "data[\"Weapon Type\"].value_counts(normalize=True, dropna=False)"
   ]
  },
  {
   "cell_type": "markdown",
   "metadata": {},
   "source": [
    "The weapons can be combined into different categories based on their use. "
   ]
  },
  {
   "cell_type": "code",
   "execution_count": 185,
   "metadata": {
    "ExecuteTime": {
     "end_time": "2020-10-13T22:46:37.872425Z",
     "start_time": "2020-10-13T22:46:37.842403Z"
    }
   },
   "outputs": [],
   "source": [
    "#Based on the words in the weapon description, we can sort them into types\n",
    "weapons = data[\"Weapon Type\"].value_counts()\n",
    "weapons_list = list(weapons.index)\n",
    "weapons_map = {}\n",
    "\n",
    "for weapon in weapons_list:\n",
    "    \n",
    "    if \"None\" in weapon:\n",
    "        weapons_map[weapon] = \"None\"\n",
    "    \n",
    "    #Different types of guns occur semi-frequently in this dataset so any words indicating a gun can \n",
    "    #go into this category\n",
    "    elif \"Handgun\" in weapon or \"Firearm\" in weapon or \"Rifle\" in weapon or \"Shotgun\" in weapon:\n",
    "        weapons_map[weapon] = \"Firearm\"\n",
    "    \n",
    "    #There were also a fair number of cutting or stabbing instruments so these words can become a category as well\n",
    "    elif \"Cutting\" in weapon or \"Stabbing\" in weapon:\n",
    "        weapons_map[weapon] = \"Stabbing/Cutting Instrument\"\n",
    "    \n",
    "    #These types of weapons were quite rare and do not fit into any category easily so we can combine them\n",
    "    #into an other\n",
    "    elif \"Mace/Pepper Spray\" in weapon or \"Taser/Stun Gun\" in weapon or \"Fire/Incendiary Device\" in weapon:\n",
    "        weapons_map[weapon] = \"Other\"\n",
    "    \n",
    "    #The rest of the weapons can be used to strike someone so they can become a category\n",
    "    else:\n",
    "        weapons_map[weapon] = \"Striking Implement\"\n",
    "\n",
    "#Replace the existing weapon type values with the new values\n",
    "data[\"Weapon Type\"] = data[\"Weapon Type\"].map(weapons_map)"
   ]
  },
  {
   "cell_type": "code",
   "execution_count": 186,
   "metadata": {
    "ExecuteTime": {
     "end_time": "2020-10-13T22:46:39.992878Z",
     "start_time": "2020-10-13T22:46:39.984878Z"
    },
    "scrolled": true
   },
   "outputs": [
    {
     "data": {
      "text/plain": [
       "['None',\n",
       " 'Firearm',\n",
       " 'Stabbing/Cutting Instrument',\n",
       " nan,\n",
       " 'Other',\n",
       " 'Striking Implement']"
      ]
     },
     "execution_count": 186,
     "metadata": {},
     "output_type": "execute_result"
    }
   ],
   "source": [
    "#These are the new values for weapons\n",
    "list(data[\"Weapon Type\"].unique())"
   ]
  },
  {
   "cell_type": "markdown",
   "metadata": {},
   "source": [
    "#### Initial Call Type"
   ]
  },
  {
   "cell_type": "code",
   "execution_count": 100,
   "metadata": {
    "ExecuteTime": {
     "end_time": "2020-10-13T21:56:37.495038Z",
     "start_time": "2020-10-13T21:56:37.326041Z"
    }
   },
   "outputs": [
    {
     "name": "stdout",
     "output_type": "stream",
     "text": [
      "Initial Call Type\n"
     ]
    },
    {
     "data": {
      "text/plain": [
       "NaN                                                   0.290684\n",
       "SUSPICIOUS STOP - OFFICER INITIATED ONVIEW            0.065170\n",
       "SUSPICIOUS PERSON, VEHICLE OR INCIDENT                0.063059\n",
       "DISTURBANCE, MISCELLANEOUS/OTHER                      0.051540\n",
       "ASLT - IP/JO - WITH OR W/O WPNS (NO SHOOTINGS)        0.042063\n",
       "TRESPASS                                              0.039787\n",
       "THEFT (DOES NOT INCLUDE SHOPLIFT OR SVCS)             0.029934\n",
       "SHOPLIFT - THEFT                                      0.027635\n",
       "FIGHT - IP - PHYSICAL (NO WEAPONS)                    0.027307\n",
       "WEAPN-IP/JO-GUN,DEADLY WPN (NO THRT/ASLT/DIST)        0.024538\n",
       "ROBBERY - IP/JO (INCLUDES STRONG ARM)                 0.019096\n",
       "BURG - IP/JO - RES (INCL UNOCC STRUCTURES)            0.015788\n",
       "THREATS (INCLS IN-PERSON/BY PHONE/IN WRITING)         0.015014\n",
       "NARCOTICS - VIOLATIONS (LOITER, USE, SELL, NARS)      0.015014\n",
       "DIST - IP/JO - DV DIST - NO ASLT                      0.014826\n",
       "PROPERTY - DAMAGE                                     0.014216\n",
       "ASLT - IP/JO - DV                                     0.013677\n",
       "TRAFFIC STOP - OFFICER INITIATED ONVIEW               0.012668\n",
       "AUTO RECOVERY                                         0.012574\n",
       "ASLT - WITH OR W/O WEAPONS (NO SHOOTINGS)             0.011354\n",
       "BURG - IP/JO - COMM BURG (INCLUDES SCHOOLS)           0.009806\n",
       "WARRANT - FELONY PICKUP                               0.009736\n",
       "DIST - DV - NO ASLT                                   0.008023\n",
       "ASLT - IP/JO - PERSON SHOT OR SHOT AT                 0.007976\n",
       "NUISANCE - MISCHIEF                                   0.007624\n",
       "FIGHT - VERBAL/ORAL (NO WEAPONS)                      0.006381\n",
       "UNKNOWN - COMPLAINT OF UNKNOWN NATURE                 0.006264\n",
       "DOWN - CHECK FOR PERSON DOWN                          0.005794\n",
       "SHOTS - IP/JO - INCLUDES HEARD/NO ASSAULT             0.005396\n",
       "PROWLER - IP/JO                                       0.005114\n",
       "ALARM - COMM, SILENT/AUD BURG (INCL BANKS)            0.004880\n",
       "BURG - COMM BURGLARY (INCLUDES SCHOOLS)               0.004739\n",
       "BURG - RES (INCL UNOCC STRUCTURES ON PROP)            0.004575\n",
       "ROBBERY (INCLUDES STRONG ARM)                         0.004340\n",
       "FIGHT - IP/JO - WITH WEAPONS                          0.004246\n",
       "WEAPN - GUN,DEADLY WPN (NO THRTS/ASLT/DIST)           0.004199\n",
       "WARRANT - MISD WARRANT PICKUP                         0.003847\n",
       "PERSON IN BEHAVIORAL/EMOTIONAL CRISIS                 0.003824\n",
       "PREMISE CHECK, OFFICER INITIATED ONVIEW ONLY          0.003707\n",
       "LEWD -  (EXPOSING, FLASHING, URINATING IN PUB)        0.003542\n",
       "FIGHT - JO - PHYSICAL (NO WEAPONS)                    0.003284\n",
       "HAZ - POTENTIAL THRT TO PHYS SAFETY (NO HAZMAT)       0.003237\n",
       "DUI - DRIVING UNDER INFLUENCE                         0.003167\n",
       "SFD - ASSIST ON FIRE OR MEDIC RESPONSE                0.002979\n",
       "MVC - HIT AND RUN (NON INJURY), INCLUDES IP/JO        0.002956\n",
       "FRAUD - FORGERY,BUNCO, SCAMS, ID THEFT, ETC           0.002487\n",
       "MVC - WITH INJURIES (INCLUDES HIT AND RUN)            0.002487\n",
       "SUICIDE - IP/JO SUICIDAL PERSON AND ATTEMPTS          0.002440\n",
       "ASLT - DV                                             0.002416\n",
       "ARSON - IP/JO                                         0.002416\n",
       "UNKNOWN - ANI/ALI - WRLS PHNS (INCL OPEN LINE)        0.002088\n",
       "SEX IN PUBLIC PLACE/VIEW (INCL MASTURBATION)          0.002064\n",
       "FOLLOW UP                                             0.001900\n",
       "ORDER - IP - VIOLATION OF DV COURT ORDER              0.001830\n",
       "ASSIST OTHER AGENCY - ROUTINE SERVICE                 0.001713\n",
       "THEFT OF SERVICES                                     0.001666\n",
       "SERVICE - WELFARE CHECK                               0.001619\n",
       "UNDERCOVER OPS, CAUTION (INCLUDES STAKEOUTS)          0.001595\n",
       "AUTO THEFT-IP/JO - VEHICLE, PLATES, TABS              0.001501\n",
       "BURN - RECKLESS BURNING                               0.001408\n",
       "LIQUOR VIOLATIONS - ADULT                             0.001361\n",
       "AUTO THEFT - VEH THEFT OR THEFT & RECOVERY            0.001196\n",
       "ORDER - VIOLATING DV COURT ORDER                      0.001173\n",
       "HARAS - NO BIAS, THREATS OR MALICIOUSNESS             0.001126\n",
       "DOWN - CHECK FOR DOWN PERSON                          0.001079\n",
       "MVC - REPORT, NON INJ/NON BLKG OR AFTER FACT INJ      0.001056\n",
       "UNKNOWN - ANI/ALI - LANDLINE (INCLUDES OPEN LINE)     0.001009\n",
       "THREATS - DV - NO ASSAULT                             0.001009\n",
       "OVERDOSE - DRUG RELATED CASUALTY                      0.000938\n",
       "ASLT - MOLESTED ADULT (GROPED, FONDLED, ETC.)         0.000938\n",
       "WARRANT - SEARCH. EXECUTED, SECURED                   0.000938\n",
       "PROWLER                                               0.000891\n",
       "ASSIST PUBLIC - NO WELFARE CHK OR DV ORDER SERVICE    0.000868\n",
       "WARRANT - SEARCH. CAUTION (EXCL NARCOTICS)            0.000798\n",
       "VICE - PROSTITUTION                                   0.000774\n",
       "MVC - NON INJURY, BLOCKING                            0.000704\n",
       "CHILD - IP/JO - ABAND, ABUSE, MOLEST, NEGLECT         0.000704\n",
       "RAPE - IP/JO                                          0.000680\n",
       "MVC - UNK INJURIES                                    0.000680\n",
       "ASSIST OTHER AGENCY - EMERGENCY SERVICE               0.000610\n",
       "PURSE SNATCH - IP/JO - ROBBERY                        0.000586\n",
       "ORDER - VIOLATION OF COURT ORDER (NON DV)             0.000540\n",
       "RAPE                                                  0.000540\n",
       "PANHANDLING, AGGRESSIVE                               0.000540\n",
       "TRAFFIC - ROAD RAGE                                   0.000516\n",
       "ARSON - REPORT                                        0.000516\n",
       "ALARM - RESIDENTIAL - BURGLARY, SILENT/AUDIBLE        0.000493\n",
       "FOOT - ELUDING POLICE                                 0.000493\n",
       "CARJACKING - IP/JO - ROBBERY                          0.000493\n",
       "LIQUOR VIOLATIONS - MINOR                             0.000446\n",
       "TRAFFIC - BLOCKING ROADWAY                            0.000446\n",
       "NARCOTICS WARRANT SERVICE - EXECUTED, SECURED         0.000422\n",
       "TRAFFIC - MOVING VIOLATION                            0.000422\n",
       "BIAS -RACIAL, POLITICAL, SEXUAL MOTIVATION            0.000422\n",
       "ALARM - BANK (HOLD-UP)                                0.000399\n",
       "CHILD - ABAND, ABUSED, MOLESTED, NEGLECTED            0.000399\n",
       "NOISE - DISTURBANCE (PARTY, ETC)                      0.000375\n",
       "OPEN - BUILDING, DOOR, ETC.                           0.000375\n",
       "ANIMAL - INJURED, DEAD HAZARD, OTHER                  0.000375\n",
       "PEDESTRIAN VIOLATIONS                                 0.000352\n",
       "PEACE-STANDBY TO ASSURE (NO COURT ORDR SVC)           0.000352\n",
       "SHOTS -DELAY/INCLUDES HEARD/NO ASSAULT                0.000352\n",
       "BOMB THREATS - IP/JO                                  0.000328\n",
       "NOISE - DIST, GENERAL (CONST, RESID, BALL PLAY)       0.000328\n",
       "ILLEGAL DUMPING                                       0.000328\n",
       "PARKING VIOLATION (EXCEPT ABANDONED CAR)              0.000282\n",
       "PROPERTY - FOUND                                      0.000258\n",
       "FOUND - PERSON                                        0.000258\n",
       "HELP THE OFFICER                                      0.000211\n",
       "JUVENILE - RUNAWAY                                    0.000211\n",
       "PURSE SNATCH - ROBBERY                                0.000211\n",
       "FIGHT - WITH WEAPONS                                  0.000188\n",
       "AUTO - THEFT/LOSS, PLATES AND/OR TAB                  0.000188\n",
       "ASLT - PERSON SHOT OR SHOT AT                         0.000188\n",
       "NARCOTICS WARRANT SERVICE                             0.000188\n",
       "SUICIDE, SUICIDAL PERSON AND ATTEMPTS                 0.000164\n",
       "JUVENILE - RUNAWAY PICKUP                             0.000164\n",
       "NARCOTICS - FOUND                                     0.000164\n",
       "TRAF - ELUDING POLICE                                 0.000164\n",
       "FIREWORKS - NUISANCE (NO HAZARD)                      0.000164\n",
       "DIRECTED PATROL ACTIVITY                              0.000164\n",
       "ASSIST SPD - ROUTINE SERVICE                          0.000141\n",
       "CHILD - IP/JO - LURING                                0.000141\n",
       "PARKS VIOLATIONS/CITES (INCLUDES EXCLUSIONS)          0.000117\n",
       "-ASSIGNED DUTY - FOOT BEAT (FROM ASSIGNED CAR)        0.000117\n",
       "DOA - CASUALTY, DEAD BODY                             0.000117\n",
       "CHILD -  LURING                                       0.000094\n",
       "TRU - THEFT                                           0.000094\n",
       "ALARM - COMM, HOLD-UP/PANIC (EXCEPT BANKS)            0.000094\n",
       "ALARM - AUDIBLE AUTOMOBILE (UNOCC/ANTI-THEFT)         0.000070\n",
       "INJURED - IP/JO - PERSON/INDUSTRIAL ACCIDENT          0.000070\n",
       "MISSING - CHILD                                       0.000070\n",
       "SUSPICIOUS PACKAGE                                    0.000070\n",
       "EXPLOSION - IP/JO                                     0.000070\n",
       "CARJACKING - ROBBERY                                  0.000070\n",
       "TRAFFIC - ASSIST MOTORIST                             0.000070\n",
       "ORDER  - SERVICE OF DV COURT ORDER                    0.000047\n",
       "GAMBLING                                              0.000047\n",
       "AWOL - ADULT OR JUVENILE                              0.000047\n",
       "ANIMAL - IP/JO - BITE                                 0.000047\n",
       "HAZ - IMMINENT THRT TO PHYS SAFETY (NO HAZ MAT)       0.000047\n",
       "ASSIST SPD - URGENT SERVICE                           0.000047\n",
       "OFF DUTY EMPLOYMENT                                   0.000047\n",
       "LITTERING                                             0.000047\n",
       "SLEEPER ABOARD BUS/COMMUTER TRAIN                     0.000047\n",
       "MISSING - (ALZHEIMER, ENDANGERED, ELDERLY)            0.000023\n",
       "REQUEST TO WATCH                                      0.000023\n",
       "DEMONSTRATIONS                                        0.000023\n",
       "VICE - PORNOGRAPHY                                    0.000023\n",
       "WARRANT PICKUP - FROM OTHER AGENCY                    0.000023\n",
       "UNKNOWN - ANI/ALI - PAY PHNS (INCL OPEN LINE)         0.000023\n",
       "INJURED -  PERSON/INDUSTRIAL ACCIDENT                 0.000023\n",
       "ESCAPE - PRISONER                                     0.000023\n",
       "ALARM - ATM MACHINE, FREE STANDING                    0.000023\n",
       "ANIMAL, REPORT - BITE                                 0.000023\n",
       "PHONE - OBSCENE OR NUISANCE PHONE CALLS               0.000023\n",
       "-ASSIGNED DUTY - STAKEOUT                             0.000023\n",
       "KNOWN KIDNAPPNG                                       0.000023\n",
       "HARBOR - WATER EMERGENCIES                            0.000023\n",
       "MISSING - ADULT                                       0.000023\n",
       "ALARM - RESIDENTIAL - SILENT/AUD PANIC/DURESS         0.000023\n",
       "PROPERTY - DAMAGE (GUN RELATED)                       0.000023\n",
       "SICK PERSON                                           0.000023\n",
       "Name: Initial Call Type, dtype: float64"
      ]
     },
     "metadata": {},
     "output_type": "display_data"
    }
   ],
   "source": [
    "print(\"Initial Call Type\")\n",
    "display(data[\"Initial Call Type\"].value_counts(normalize=True, dropna=False))"
   ]
  },
  {
   "cell_type": "markdown",
   "metadata": {},
   "source": [
    "- Clearly the last problem with the Terry Stops data is the large amount of categories for initial call type. They have been split into more general categories to maximize the usefulness of the model. \n",
    "- Because not all of the initial call types (i.e. \"suspicious person\" correspond to crimes, we cannot simply look at Seattle's crime classifications and use those to group the initial call types. \n",
    "- Therefore the grouping choices have to be more holistic and based on commonalities. We can try and distinguish different types of call types, making sure each category has a similar level of severity and danger. \n",
    "- To do this, different words were identified that were similar to other words and categories were formed. Going through the list, each call type was placed into an existing category or a new one was created.  "
   ]
  },
  {
   "cell_type": "code",
   "execution_count": 187,
   "metadata": {
    "ExecuteTime": {
     "end_time": "2020-10-13T22:54:37.819880Z",
     "start_time": "2020-10-13T22:54:37.771862Z"
    }
   },
   "outputs": [
    {
     "data": {
      "text/plain": [
       "[nan,\n",
       " 'Weapon',\n",
       " 'Assault/Fight',\n",
       " 'Other',\n",
       " 'Assist SPD or Other Agency',\n",
       " 'Property Crime',\n",
       " 'Threats/Harassment',\n",
       " 'Suspicion of Crime',\n",
       " 'Minor Offenses',\n",
       " 'Follow-Up/Warrant',\n",
       " 'Motor Vehicle',\n",
       " 'Mental or Physical Health',\n",
       " 'Child Welfare',\n",
       " 'Missing Person']"
      ]
     },
     "execution_count": 187,
     "metadata": {},
     "output_type": "execute_result"
    }
   ],
   "source": [
    "i_call_types = data[\"Initial Call Type\"].value_counts()\n",
    "i_call_list = list(i_call_types.index)\n",
    "i_call_map = {}\n",
    "\n",
    "for item in i_call_list:\n",
    "    \n",
    "    #These are expected events where the outcome of an arrest or non-arrest is anticipated going in\n",
    "    if ((\"FOLLOW UP\" in item or \"ORDER\" in item or \"WARRANT\" in item) and\n",
    "        \"NO WELFARE CHK OR DV ORDER SERVICE\" not in item and \"NO COURT ORDR\" not in item):\n",
    "        i_call_map[item] = \"Follow-Up/Warrant\"\n",
    "        \n",
    "    elif \"SFD\" in item or \"AGENCY\" in item or \"ASSIST SPD\" in item:\n",
    "        i_call_map[item] = \"Assist SPD or Other Agency\"\n",
    "        \n",
    "    #No explicit crime is being reported \n",
    "    elif (\"SUSPICIOUS\" in item or \"PROWLER\" in item or \"OPEN\" in item) and (\"INCL OPEN LINE\" not in item and\n",
    "          \"INCLUDES OPEN LINE\" not in item):\n",
    "        i_call_map[item] = \"Suspicion of Crime\"\n",
    "        \n",
    "    elif ((\n",
    "        \"THEFT\" in item or \"ROBBERY\" in item or \"BURG\" in item or \"TRESPASS\" in item or \"PROPERTY\" in item or\n",
    "         \"AUTO RECOVERY\" in item or \"ALARM\" in item or \"FRAUD\" in item\n",
    "    ) and  \"THEFT OF SERVICES\" not in item and \"FOUND GUN\" not in item):\n",
    "            i_call_map[item] = \"Property Crime\"\n",
    "            \n",
    "    elif (\"WEAPN\" in item or \"SHOTS\" in item or \"GUN\" in item) and \"NO WEAPONS\" not in item:\n",
    "        i_call_map[item] = \"Weapon\"\n",
    "        \n",
    "    elif ((\"ASLT\" in item or \"PHYSICAL\" in item or \"FIGHT\" in item) and \n",
    "          \"NO ASLT\" not in item and \"NO THRT\" not in item):\n",
    "        i_call_map[item] = \"Assault/Fight\"\n",
    "        \n",
    "    #This category refers to crimes where no explicit danger to people or property is being posed \n",
    "    elif ((\n",
    "     \"DISTURBANCE\" in item or \"DIST\" in item or \"NARCOTICS\" in item or \"NUISANCE\" in item or\n",
    "     \"LIQUOR VIOLATIONS\" in item or \"PROSTITUTION\" in item or \"PANHANDLING\" in item or\n",
    "     \"PEDESTRIAN VIOLATIONS\" in item or \"ILLEGAL DUMPING\" in item or \"NOISE\" in item or \n",
    "     \"PARKS VIOLATIONS/CITES\" in item or \"SLEEPER\" in item or \"LITTERING\" in item or\n",
    "    \"GAMBLING\" in item) and \"DV\" not in item and \"OBSCENE\" not in item):\n",
    "        i_call_map[item] = \"Minor Offenses\"    \n",
    "        \n",
    "    elif ((\"THREATS\" in item or \"LEWD\" in item or \"SEX\" in item or \"HARAS\" in item or \"BIAS\" in item or\n",
    "          \"OBSCENE\" in item) and \"BOMB\" not in item):\n",
    "            i_call_map[item] = \"Threats/Harassment\"\n",
    "                  \n",
    "    elif ((\"CRISIS\" in item or \"SUICIDE\" in item or \"WELFARE\" in item or \"SICK PERSON\" in item or \n",
    "           \"INJURED\" in item or \"BITE\" in item or \"OVERDOSE\" in item) and  \n",
    "           (\"NO WELFARE CHK OR DV ORDER SERVICE\" not in item and \n",
    "           \"NO COURT ORDR\" not in item and \"ANIMAL - INJURED\" not in item)):\n",
    "            i_call_map[item] = \"Mental or Physical Health\"\n",
    "            \n",
    "    elif \"DUI\" in item or \"MVC\" in item or \"TRAFFIC\" in item or \"PARKING\" in item:\n",
    "        i_call_map[item] = \"Motor Vehicle\"\n",
    "        \n",
    "    elif \"AWOL\" in item or \"MISSING\" in item or \"KIDNAPPNG\" in item:\n",
    "        i_call_map[item] = \"Missing Person\"\n",
    "        \n",
    "    elif \"CHILD\" in item or \"JUVENILE\" in item:\n",
    "        i_call_map[item] = \"Child Welfare\" \n",
    "        \n",
    "    else:\n",
    "        i_call_map[item] = \"Other\"\n",
    "        \n",
    "#Replace the initial call type values      \n",
    "data[\"Initial Call Type\"] = data[\"Initial Call Type\"].map(i_call_map)\n",
    "list(data[\"Initial Call Type\"].unique())"
   ]
  },
  {
   "cell_type": "markdown",
   "metadata": {},
   "source": [
    "### Adding Officer-Subject Comparison Columns"
   ]
  },
  {
   "cell_type": "code",
   "execution_count": 102,
   "metadata": {
    "ExecuteTime": {
     "end_time": "2020-10-13T21:56:37.829041Z",
     "start_time": "2020-10-13T21:56:37.665051Z"
    },
    "scrolled": false
   },
   "outputs": [
    {
     "name": "stdout",
     "output_type": "stream",
     "text": [
      "Officer Race\n"
     ]
    },
    {
     "data": {
      "text/plain": [
       "White                                        0.770122\n",
       "Hispanic or Latino                           0.055927\n",
       "Multi-Racial                                 0.053088\n",
       "Asian                                        0.040397\n",
       "Black or African American                    0.038215\n",
       "Unknown                                      0.025336\n",
       "Native Hawaiian or Other Pacific Islander    0.009783\n",
       "American Indian or Alaska Native             0.007132\n",
       "Name: Officer Race, dtype: float64"
      ]
     },
     "metadata": {},
     "output_type": "display_data"
    },
    {
     "name": "stdout",
     "output_type": "stream",
     "text": [
      "Subject Perceived Race\n"
     ]
    },
    {
     "data": {
      "text/plain": [
       "White                                        0.496610\n",
       "Black or African American                    0.300608\n",
       "Unknown                                      0.051751\n",
       "Hispanic or Latino                           0.038896\n",
       "Asian                                        0.032045\n",
       "NaN                                          0.030685\n",
       "American Indian or Alaska Native             0.029746\n",
       "Multi-Racial                                 0.018791\n",
       "Native Hawaiian or Other Pacific Islander    0.000868\n",
       "Name: Subject Perceived Race, dtype: float64"
      ]
     },
     "metadata": {},
     "output_type": "display_data"
    }
   ],
   "source": [
    "print(\"Officer Race\")\n",
    "display(data[\"Officer Race\"].value_counts(normalize=True, dropna=False)) \n",
    "print(\"Subject Perceived Race\")\n",
    "display(data[\"Subject Perceived Race\"].value_counts(normalize=True, dropna=False))"
   ]
  },
  {
   "cell_type": "markdown",
   "metadata": {},
   "source": [
    "- Clearly there is a discrepancy between officer and subject race so it might be useful to create comparison data.\n",
    "- It is also worth noting that according to the 2014-2018 American Community Survey (ACS) 5-Year Estimates (U.S. Census Bureau) Seattle has the following demographic makeup:\n",
    "    - White - 64.5% (+/- 0.4 percentage pts.)\n",
    "    - Black or African American - 6.8% (+/- 0.3 percentage pts.)\n",
    "    - American Indian & Alaska Native - 0.5% (+/- 0.1 percentage pts.)\n",
    "    - Asian - 14.9% (+/- 0.4 percentage pts.)\n",
    "    - Native Hawaiian & Other Pacific Islander - 0.3% (+/- 0.1 percentage pts.)\n",
    "    - Other race - 0.3% (+/- 0.1 percentage pts.)\n",
    "    - Two or more races - 6.0% (+/- 0.2 percentage pts.)\n",
    "    - Hispanic or Latino ethnicity (of any race): 6.6% (+/- 0.3 percentage pts.)\n",
    "        - https://www.seattle.gov/opcd/population-and-demographics/about-seattle#raceethnicity\n",
    "- Clearly White individuals are very overrepresented as officers and underrepresented as subjects of Terry Stops.\n",
    "- Asian individuals are underrepresented as both officers and subjects. \n",
    "- Black or African American individuals are underrepresented as officers and very overrepresented as subjects of Terry Stops.\n",
    "- For other races, there are not significant differences. "
   ]
  },
  {
   "cell_type": "code",
   "execution_count": 188,
   "metadata": {
    "ExecuteTime": {
     "end_time": "2020-10-13T22:56:28.855292Z",
     "start_time": "2020-10-13T22:56:28.802294Z"
    }
   },
   "outputs": [
    {
     "data": {
      "text/plain": [
       "array(['Same', 'Different', 'Unknown'], dtype=object)"
      ]
     },
     "execution_count": 188,
     "metadata": {},
     "output_type": "execute_result"
    }
   ],
   "source": [
    "#Get a race comparison for each row of data \n",
    "officer_races = list(data[\"Officer Race\"])\n",
    "subject_races = list(data[\"Subject Perceived Race\"])\n",
    "race_comparisons = list(zip(officer_races, subject_races))\n",
    "race_vals = []\n",
    "\n",
    "for comparison in race_comparisons:\n",
    "    if \"Unknown\" in comparison:\n",
    "            race_vals.append(\"Unknown\")\n",
    "    else:\n",
    "        if comparison[0] == comparison[1]:\n",
    "            race_vals.append(\"Same\")\n",
    "        else: \n",
    "            race_vals.append(\"Different\")\n",
    "            \n",
    "data[\"Race Comparisons\"] = race_vals\n",
    "list(data[\"Race Comparisons\"].unique())"
   ]
  },
  {
   "cell_type": "code",
   "execution_count": 104,
   "metadata": {
    "ExecuteTime": {
     "end_time": "2020-10-13T21:56:38.156037Z",
     "start_time": "2020-10-13T21:56:38.020039Z"
    },
    "scrolled": true
   },
   "outputs": [
    {
     "name": "stdout",
     "output_type": "stream",
     "text": [
      "Officer Gender\n"
     ]
    },
    {
     "data": {
      "text/plain": [
       "Male      0.886363\n",
       "Female    0.113637\n",
       "Name: Officer Gender, dtype: float64"
      ]
     },
     "metadata": {},
     "output_type": "display_data"
    },
    {
     "name": "stdout",
     "output_type": "stream",
     "text": [
      "Subject Perceived Gender\n"
     ]
    },
    {
     "data": {
      "text/plain": [
       "Male              0.789992\n",
       "Female            0.206841\n",
       "Unknown           0.002698\n",
       "NaN               0.000375\n",
       "Gender Diverse    0.000094\n",
       "Name: Subject Perceived Gender, dtype: float64"
      ]
     },
     "metadata": {},
     "output_type": "display_data"
    }
   ],
   "source": [
    "print(\"Officer Gender\")\n",
    "display(data[\"Officer Gender\"].value_counts(normalize=True, dropna=False)) \n",
    "print(\"Subject Perceived Gender\")\n",
    "display(data[\"Subject Perceived Gender\"].value_counts(normalize=True, dropna=False))"
   ]
  },
  {
   "cell_type": "markdown",
   "metadata": {},
   "source": [
    "- There is a much smaller discrepancy in gender for officers and subjects, but it is worth including a comparison. "
   ]
  },
  {
   "cell_type": "code",
   "execution_count": 189,
   "metadata": {
    "ExecuteTime": {
     "end_time": "2020-10-13T22:57:13.702892Z",
     "start_time": "2020-10-13T22:57:13.642893Z"
    }
   },
   "outputs": [
    {
     "data": {
      "text/plain": [
       "['Different', 'Same', 'Unknown']"
      ]
     },
     "execution_count": 189,
     "metadata": {},
     "output_type": "execute_result"
    }
   ],
   "source": [
    "#Get a gender comparison for each row of data \n",
    "officer_genders = list(data[\"Officer Gender\"])\n",
    "subject_genders = list(data[\"Subject Perceived Gender\"])\n",
    "gender_comparisons = list(zip(officer_genders, subject_genders))\n",
    "gender_vals = []\n",
    "\n",
    "for comparison in gender_comparisons:\n",
    "    if \"Unknown\" in comparison:\n",
    "            gender_vals.append(\"Unknown\")\n",
    "    else:\n",
    "        if comparison[0] == comparison[1]:\n",
    "                gender_vals.append(\"Same\")\n",
    "        else:\n",
    "            gender_vals.append(\"Different\")\n",
    "            \n",
    "data[\"Gender Comparisons\"] = gender_vals\n",
    "list(data[\"Gender Comparisons\"].unique())"
   ]
  },
  {
   "cell_type": "code",
   "execution_count": 106,
   "metadata": {
    "ExecuteTime": {
     "end_time": "2020-10-13T21:56:38.534038Z",
     "start_time": "2020-10-13T21:56:38.333037Z"
    },
    "scrolled": false
   },
   "outputs": [
    {
     "data": {
      "text/html": [
       "<div>\n",
       "<style scoped>\n",
       "    .dataframe tbody tr th:only-of-type {\n",
       "        vertical-align: middle;\n",
       "    }\n",
       "\n",
       "    .dataframe tbody tr th {\n",
       "        vertical-align: top;\n",
       "    }\n",
       "\n",
       "    .dataframe thead th {\n",
       "        text-align: right;\n",
       "    }\n",
       "</style>\n",
       "<table border=\"1\" class=\"dataframe\">\n",
       "  <thead>\n",
       "    <tr style=\"text-align: right;\">\n",
       "      <th></th>\n",
       "      <th>Subject Age Group</th>\n",
       "      <th>Weapon Type</th>\n",
       "      <th>Officer Gender</th>\n",
       "      <th>Officer Race</th>\n",
       "      <th>Subject Perceived Race</th>\n",
       "      <th>Subject Perceived Gender</th>\n",
       "      <th>Reported Time</th>\n",
       "      <th>Initial Call Type</th>\n",
       "      <th>Call Method</th>\n",
       "      <th>Arrest Flag</th>\n",
       "      <th>Frisk Flag</th>\n",
       "      <th>Precinct</th>\n",
       "      <th>Officer Age</th>\n",
       "      <th>Race Comparisons</th>\n",
       "      <th>Gender Comparisons</th>\n",
       "    </tr>\n",
       "  </thead>\n",
       "  <tbody>\n",
       "    <tr>\n",
       "      <th>1119</th>\n",
       "      <td>13.5</td>\n",
       "      <td>None</td>\n",
       "      <td>Male</td>\n",
       "      <td>White</td>\n",
       "      <td>White</td>\n",
       "      <td>Female</td>\n",
       "      <td>Day</td>\n",
       "      <td>NaN</td>\n",
       "      <td>NaN</td>\n",
       "      <td>N</td>\n",
       "      <td>N</td>\n",
       "      <td>NaN</td>\n",
       "      <td>37</td>\n",
       "      <td>Same</td>\n",
       "      <td>Different</td>\n",
       "    </tr>\n",
       "    <tr>\n",
       "      <th>1147</th>\n",
       "      <td>13.5</td>\n",
       "      <td>None</td>\n",
       "      <td>Male</td>\n",
       "      <td>White</td>\n",
       "      <td>Black or African American</td>\n",
       "      <td>Male</td>\n",
       "      <td>Day</td>\n",
       "      <td>NaN</td>\n",
       "      <td>NaN</td>\n",
       "      <td>N</td>\n",
       "      <td>N</td>\n",
       "      <td>NaN</td>\n",
       "      <td>37</td>\n",
       "      <td>Different</td>\n",
       "      <td>Same</td>\n",
       "    </tr>\n",
       "    <tr>\n",
       "      <th>1175</th>\n",
       "      <td>13.5</td>\n",
       "      <td>None</td>\n",
       "      <td>Male</td>\n",
       "      <td>White</td>\n",
       "      <td>White</td>\n",
       "      <td>Male</td>\n",
       "      <td>Day</td>\n",
       "      <td>NaN</td>\n",
       "      <td>NaN</td>\n",
       "      <td>N</td>\n",
       "      <td>N</td>\n",
       "      <td>NaN</td>\n",
       "      <td>37</td>\n",
       "      <td>Same</td>\n",
       "      <td>Same</td>\n",
       "    </tr>\n",
       "    <tr>\n",
       "      <th>1400</th>\n",
       "      <td>13.5</td>\n",
       "      <td>None</td>\n",
       "      <td>Male</td>\n",
       "      <td>White</td>\n",
       "      <td>American Indian or Alaska Native</td>\n",
       "      <td>Male</td>\n",
       "      <td>Day</td>\n",
       "      <td>NaN</td>\n",
       "      <td>NaN</td>\n",
       "      <td>N</td>\n",
       "      <td>Y</td>\n",
       "      <td>East</td>\n",
       "      <td>23</td>\n",
       "      <td>Different</td>\n",
       "      <td>Same</td>\n",
       "    </tr>\n",
       "    <tr>\n",
       "      <th>1401</th>\n",
       "      <td>13.5</td>\n",
       "      <td>None</td>\n",
       "      <td>Female</td>\n",
       "      <td>Unknown</td>\n",
       "      <td>Unknown</td>\n",
       "      <td>Male</td>\n",
       "      <td>Day</td>\n",
       "      <td>NaN</td>\n",
       "      <td>NaN</td>\n",
       "      <td>N</td>\n",
       "      <td>Y</td>\n",
       "      <td>NaN</td>\n",
       "      <td>27</td>\n",
       "      <td>Unknown</td>\n",
       "      <td>Different</td>\n",
       "    </tr>\n",
       "  </tbody>\n",
       "</table>\n",
       "</div>"
      ],
      "text/plain": [
       "      Subject Age Group Weapon Type Officer Gender Officer Race  \\\n",
       "1119               13.5        None           Male        White   \n",
       "1147               13.5        None           Male        White   \n",
       "1175               13.5        None           Male        White   \n",
       "1400               13.5        None           Male        White   \n",
       "1401               13.5        None         Female      Unknown   \n",
       "\n",
       "                Subject Perceived Race Subject Perceived Gender Reported Time  \\\n",
       "1119                             White                   Female           Day   \n",
       "1147         Black or African American                     Male           Day   \n",
       "1175                             White                     Male           Day   \n",
       "1400  American Indian or Alaska Native                     Male           Day   \n",
       "1401                           Unknown                     Male           Day   \n",
       "\n",
       "     Initial Call Type Call Method Arrest Flag Frisk Flag Precinct  \\\n",
       "1119               NaN         NaN           N          N      NaN   \n",
       "1147               NaN         NaN           N          N      NaN   \n",
       "1175               NaN         NaN           N          N      NaN   \n",
       "1400               NaN         NaN           N          Y     East   \n",
       "1401               NaN         NaN           N          Y      NaN   \n",
       "\n",
       "      Officer Age Race Comparisons Gender Comparisons  \n",
       "1119           37             Same          Different  \n",
       "1147           37        Different               Same  \n",
       "1175           37             Same               Same  \n",
       "1400           23        Different               Same  \n",
       "1401           27          Unknown          Different  "
      ]
     },
     "execution_count": 106,
     "metadata": {},
     "output_type": "execute_result"
    }
   ],
   "source": [
    "data.head()"
   ]
  },
  {
   "cell_type": "markdown",
   "metadata": {},
   "source": [
    "# Visualizations"
   ]
  },
  {
   "cell_type": "code",
   "execution_count": 107,
   "metadata": {
    "ExecuteTime": {
     "end_time": "2020-10-13T21:56:38.780040Z",
     "start_time": "2020-10-13T21:56:38.537037Z"
    }
   },
   "outputs": [],
   "source": [
    "#Seperate the predictor columns into numerical and categorical\n",
    "X = data.drop(columns=\"Arrest Flag\").copy()\n",
    "cat_cols = X.select_dtypes(\"O\").columns\n",
    "num_cols = X.select_dtypes(\"number\").columns"
   ]
  },
  {
   "cell_type": "code",
   "execution_count": 108,
   "metadata": {
    "ExecuteTime": {
     "end_time": "2020-10-13T21:56:38.921039Z",
     "start_time": "2020-10-13T21:56:38.788042Z"
    }
   },
   "outputs": [],
   "source": [
    "def create_catplots(cols, nrows, ncols, rotation=25, figsize=(10, 15)):\n",
    "    \"\"\"Create a catplot based on a list of columns.\"\"\"\n",
    "    \n",
    "    fig, axes = plt.subplots(nrows=nrows, ncols=ncols, figsize=figsize)\n",
    "    for i, col in enumerate(cols): \n",
    "        if ncols == 1:\n",
    "            sns.countplot(x=col,data=data, ax=axes[i])\n",
    "            axes[i].set_title(f\"{col} Count\")\n",
    "        else:\n",
    "            sns.countplot(x=col, data=data, ax=axes[i//ncols, i%ncols])\n",
    "            axes[i//ncols, i%ncols].set_title(f\"{col} Count\")\n",
    "            \n",
    "    #In order to see the category values on the x-axis better, we rotate the labels      \n",
    "    #from https://stackoverflow.com/questions/19273040/rotating-axis-text-for-each-subplot\n",
    "    for ax in fig.axes:\n",
    "        plt.sca(ax)\n",
    "        plt.xticks(rotation=rotation, ha=\"right\")    \n",
    "    plt.tight_layout()"
   ]
  },
  {
   "cell_type": "markdown",
   "metadata": {},
   "source": [
    "### Race"
   ]
  },
  {
   "cell_type": "code",
   "execution_count": 109,
   "metadata": {
    "ExecuteTime": {
     "end_time": "2020-10-13T21:56:40.656038Z",
     "start_time": "2020-10-13T21:56:38.926040Z"
    },
    "scrolled": true
   },
   "outputs": [
    {
     "data": {
      "image/png": "[encoded data removed]",
      "text/plain": [
       "<Figure size 720x1080 with 3 Axes>"
      ]
     },
     "metadata": {
      "needs_background": "light"
     },
     "output_type": "display_data"
    }
   ],
   "source": [
    "race_cols = [\"Officer Race\", \"Subject Perceived Race\", \"Race Comparisons\"]\n",
    "create_catplots(race_cols, 3, 1)"
   ]
  },
  {
   "cell_type": "markdown",
   "metadata": {},
   "source": [
    "- Clearly there is a discrepancy between officer race and subject perceived race, with the majority of interactions occurring between those of different races."
   ]
  },
  {
   "cell_type": "markdown",
   "metadata": {},
   "source": [
    "### Gender"
   ]
  },
  {
   "cell_type": "code",
   "execution_count": 110,
   "metadata": {
    "ExecuteTime": {
     "end_time": "2020-10-13T21:56:42.080040Z",
     "start_time": "2020-10-13T21:56:40.659037Z"
    },
    "scrolled": true
   },
   "outputs": [
    {
     "data": {
      "image/png": "[encoded data removed]",
      "text/plain": [
       "<Figure size 720x1080 with 3 Axes>"
      ]
     },
     "metadata": {
      "needs_background": "light"
     },
     "output_type": "display_data"
    }
   ],
   "source": [
    "gender_cols = [\"Officer Gender\", \"Subject Perceived Gender\", \"Gender Comparisons\"]\n",
    "create_catplots(gender_cols, 3, 1)"
   ]
  },
  {
   "cell_type": "markdown",
   "metadata": {},
   "source": [
    "- Most stops are occurring between those of the same gender."
   ]
  },
  {
   "cell_type": "markdown",
   "metadata": {},
   "source": [
    "### Remaining Categorical Variables"
   ]
  },
  {
   "cell_type": "code",
   "execution_count": 111,
   "metadata": {
    "ExecuteTime": {
     "end_time": "2020-10-13T21:56:44.643376Z",
     "start_time": "2020-10-13T21:56:42.083038Z"
    },
    "scrolled": true
   },
   "outputs": [
    {
     "data": {
      "image/png": "[encoded data removed]",
      "text/plain": [
       "<Figure size 864x864 with 6 Axes>"
      ]
     },
     "metadata": {
      "needs_background": "light"
     },
     "output_type": "display_data"
    }
   ],
   "source": [
    "remaining_cats = [\"Weapon Type\", \"Reported Time\", \"Initial Call Type\", \"Call Method\", \"Frisk Flag\", \"Precinct\"]\n",
    "create_catplots(remaining_cats, 3, 2, 35, (12, 12))"
   ]
  },
  {
   "cell_type": "markdown",
   "metadata": {},
   "source": [
    "### Age"
   ]
  },
  {
   "cell_type": "code",
   "execution_count": 112,
   "metadata": {
    "ExecuteTime": {
     "end_time": "2020-10-13T21:56:45.795378Z",
     "start_time": "2020-10-13T21:56:44.647377Z"
    },
    "scrolled": true
   },
   "outputs": [
    {
     "data": {
      "image/png": "[encoded data removed]",
      "text/plain": [
       "<Figure size 864x360 with 2 Axes>"
      ]
     },
     "metadata": {
      "needs_background": "light"
     },
     "output_type": "display_data"
    }
   ],
   "source": [
    "fig, axes = plt.subplots(nrows=1, ncols=2, figsize=(12,5))\n",
    "for i, col in enumerate(num_cols):\n",
    "    data[col].hist(ax=axes[i])\n",
    "    axes[i].set(title=f\"{col} Count\", xlabel=col, ylabel=\"Count\")"
   ]
  },
  {
   "cell_type": "markdown",
   "metadata": {},
   "source": [
    "# Preparing Data for Analysis"
   ]
  },
  {
   "cell_type": "code",
   "execution_count": 113,
   "metadata": {
    "ExecuteTime": {
     "end_time": "2020-10-13T21:56:45.830375Z",
     "start_time": "2020-10-13T21:56:45.804376Z"
    }
   },
   "outputs": [],
   "source": [
    "#In order to perform analyses, the target column must be a number\n",
    "data[\"Arrest Flag\"] = data[\"Arrest Flag\"].map({\"N\": 0, \"Y\": 1})"
   ]
  },
  {
   "cell_type": "code",
   "execution_count": 114,
   "metadata": {
    "ExecuteTime": {
     "end_time": "2020-10-13T21:56:46.042390Z",
     "start_time": "2020-10-13T21:56:45.836379Z"
    }
   },
   "outputs": [],
   "source": [
    "#Designate the y values, since we have already created X, and set up a test-train split\n",
    "y = data[\"Arrest Flag\"].copy()\n",
    "X_train, X_test, y_train, y_test = train_test_split(X, y, random_state=42, stratify=y)"
   ]
  },
  {
   "cell_type": "markdown",
   "metadata": {},
   "source": [
    "## Transforming Columns"
   ]
  },
  {
   "cell_type": "markdown",
   "metadata": {},
   "source": [
    "- The categorical columns still have missing labels, so those must be filled in.\n",
    "- By noting the values that are missing, we will see if the fact that they had not been provided is relevant. \n",
    "- In addition the categorical columns must be encoded before analysis. "
   ]
  },
  {
   "cell_type": "code",
   "execution_count": 115,
   "metadata": {
    "ExecuteTime": {
     "end_time": "2020-10-13T21:56:46.122374Z",
     "start_time": "2020-10-13T21:56:46.050376Z"
    },
    "scrolled": true
   },
   "outputs": [
    {
     "data": {
      "text/plain": [
       "Pipeline(steps=[('Imputer',\n",
       "                 SimpleImputer(fill_value='Missing', strategy='constant')),\n",
       "                ('Encoder',\n",
       "                 OneHotEncoder(handle_unknown='ignore', sparse=False))])"
      ]
     },
     "execution_count": 115,
     "metadata": {},
     "output_type": "execute_result"
    }
   ],
   "source": [
    "cat_transformer = Pipeline(steps=[\n",
    "    (\"Imputer\", SimpleImputer(strategy=\"constant\", fill_value=\"Missing\")),\n",
    "    (\"Encoder\", OneHotEncoder(handle_unknown=\"ignore\", sparse=False))])\n",
    "cat_transformer"
   ]
  },
  {
   "cell_type": "markdown",
   "metadata": {},
   "source": [
    "- For numeric columns, must transform them so that they are on the same scale and the larger range of age does not erroneously cause the model to interpret them as more important. "
   ]
  },
  {
   "cell_type": "code",
   "execution_count": 116,
   "metadata": {
    "ExecuteTime": {
     "end_time": "2020-10-13T21:56:46.253374Z",
     "start_time": "2020-10-13T21:56:46.124374Z"
    }
   },
   "outputs": [
    {
     "data": {
      "text/plain": [
       "Pipeline(steps=[('Scaler', RobustScaler())])"
      ]
     },
     "execution_count": 116,
     "metadata": {},
     "output_type": "execute_result"
    }
   ],
   "source": [
    "#Since we did observe some high values with officer age, using RobustScaler will decrease the influence of these\n",
    "#potential outliers\n",
    "num_transformer = Pipeline(steps=[(\"Scaler\", RobustScaler())])\n",
    "num_transformer"
   ]
  },
  {
   "cell_type": "code",
   "execution_count": 117,
   "metadata": {
    "ExecuteTime": {
     "end_time": "2020-10-13T21:56:46.470374Z",
     "start_time": "2020-10-13T21:56:46.255373Z"
    }
   },
   "outputs": [
    {
     "data": {
      "text/plain": [
       "ColumnTransformer(transformers=[('Numeric',\n",
       "                                 Pipeline(steps=[('Scaler', RobustScaler())]),\n",
       "                                 Index(['Subject Age Group', 'Officer Age'], dtype='object')),\n",
       "                                ('Categorical',\n",
       "                                 Pipeline(steps=[('Imputer',\n",
       "                                                  SimpleImputer(fill_value='Missing',\n",
       "                                                                strategy='constant')),\n",
       "                                                 ('Encoder',\n",
       "                                                  OneHotEncoder(handle_unknown='ignore',\n",
       "                                                                sparse=False))]),\n",
       "                                 Index(['Weapon Type', 'Officer Gender', 'Officer Race',\n",
       "       'Subject Perceived Race', 'Subject Perceived Gender', 'Reported Time',\n",
       "       'Initial Call Type', 'Call Method', 'Frisk Flag', 'Precinct',\n",
       "       'Race Comparisons', 'Gender Comparisons'],\n",
       "      dtype='object'))])"
      ]
     },
     "execution_count": 117,
     "metadata": {},
     "output_type": "execute_result"
    }
   ],
   "source": [
    "#We can combine the preprocessing for the numeric and categorical columns into one and transform the data with them.\n",
    "preprocessing = ColumnTransformer(transformers=[\n",
    "    (\"Numeric\", num_transformer, num_cols),\n",
    "    (\"Categorical\", cat_transformer, cat_cols)])\n",
    "preprocessing"
   ]
  },
  {
   "cell_type": "code",
   "execution_count": 118,
   "metadata": {
    "ExecuteTime": {
     "end_time": "2020-10-13T21:56:47.233377Z",
     "start_time": "2020-10-13T21:56:46.473373Z"
    }
   },
   "outputs": [],
   "source": [
    "X_train_preprocessed = preprocessing.fit_transform(X_train)\n",
    "X_test_preprocessed = preprocessing.transform(X_test)"
   ]
  },
  {
   "cell_type": "code",
   "execution_count": 119,
   "metadata": {
    "ExecuteTime": {
     "end_time": "2020-10-13T21:56:47.436377Z",
     "start_time": "2020-10-13T21:56:47.236375Z"
    },
    "scrolled": true
   },
   "outputs": [
    {
     "data": {
      "text/html": [
       "<div>\n",
       "<style scoped>\n",
       "    .dataframe tbody tr th:only-of-type {\n",
       "        vertical-align: middle;\n",
       "    }\n",
       "\n",
       "    .dataframe tbody tr th {\n",
       "        vertical-align: top;\n",
       "    }\n",
       "\n",
       "    .dataframe thead th {\n",
       "        text-align: right;\n",
       "    }\n",
       "</style>\n",
       "<table border=\"1\" class=\"dataframe\">\n",
       "  <thead>\n",
       "    <tr style=\"text-align: right;\">\n",
       "      <th></th>\n",
       "      <th>Subject Age Group</th>\n",
       "      <th>Officer Age</th>\n",
       "      <th>Weapon Type_Firearm</th>\n",
       "      <th>Weapon Type_Missing</th>\n",
       "      <th>Weapon Type_None</th>\n",
       "      <th>Weapon Type_Other</th>\n",
       "      <th>Weapon Type_Stabbing/Cutting Instrument</th>\n",
       "      <th>Weapon Type_Striking Implement</th>\n",
       "      <th>Officer Gender_Female</th>\n",
       "      <th>Officer Gender_Male</th>\n",
       "      <th>Officer Race_American Indian or Alaska Native</th>\n",
       "      <th>Officer Race_Asian</th>\n",
       "      <th>Officer Race_Black or African American</th>\n",
       "      <th>Officer Race_Hispanic or Latino</th>\n",
       "      <th>Officer Race_Multi-Racial</th>\n",
       "      <th>Officer Race_Native Hawaiian or Other Pacific Islander</th>\n",
       "      <th>Officer Race_Unknown</th>\n",
       "      <th>Officer Race_White</th>\n",
       "      <th>Subject Perceived Race_American Indian or Alaska Native</th>\n",
       "      <th>Subject Perceived Race_Asian</th>\n",
       "      <th>Subject Perceived Race_Black or African American</th>\n",
       "      <th>Subject Perceived Race_Hispanic or Latino</th>\n",
       "      <th>Subject Perceived Race_Missing</th>\n",
       "      <th>Subject Perceived Race_Multi-Racial</th>\n",
       "      <th>Subject Perceived Race_Native Hawaiian or Other Pacific Islander</th>\n",
       "      <th>Subject Perceived Race_Unknown</th>\n",
       "      <th>Subject Perceived Race_White</th>\n",
       "      <th>Subject Perceived Gender_Female</th>\n",
       "      <th>Subject Perceived Gender_Gender Diverse</th>\n",
       "      <th>Subject Perceived Gender_Male</th>\n",
       "      <th>Subject Perceived Gender_Missing</th>\n",
       "      <th>Subject Perceived Gender_Unknown</th>\n",
       "      <th>Reported Time_Day</th>\n",
       "      <th>Reported Time_Night</th>\n",
       "      <th>Initial Call Type_Assault/Fight</th>\n",
       "      <th>Initial Call Type_Assist SPD or Other Agency</th>\n",
       "      <th>Initial Call Type_Child Welfare</th>\n",
       "      <th>Initial Call Type_Follow-Up/Warrant</th>\n",
       "      <th>Initial Call Type_Mental or Physical Health</th>\n",
       "      <th>Initial Call Type_Minor Offenses</th>\n",
       "      <th>Initial Call Type_Missing</th>\n",
       "      <th>Initial Call Type_Missing Person</th>\n",
       "      <th>Initial Call Type_Motor Vehicle</th>\n",
       "      <th>Initial Call Type_Other</th>\n",
       "      <th>Initial Call Type_Property Crime</th>\n",
       "      <th>Initial Call Type_Suspicion of Crime</th>\n",
       "      <th>Initial Call Type_Threats/Harassment</th>\n",
       "      <th>Initial Call Type_Weapon</th>\n",
       "      <th>Call Method_911</th>\n",
       "      <th>Call Method_Missing</th>\n",
       "      <th>Call Method_Non-Police Alarm</th>\n",
       "      <th>Call Method_Officer Initiated</th>\n",
       "      <th>Call Method_Other</th>\n",
       "      <th>Call Method_Telephone, Not 911</th>\n",
       "      <th>Frisk Flag_Missing</th>\n",
       "      <th>Frisk Flag_N</th>\n",
       "      <th>Frisk Flag_Y</th>\n",
       "      <th>Precinct_East</th>\n",
       "      <th>Precinct_Missing</th>\n",
       "      <th>Precinct_North</th>\n",
       "      <th>Precinct_South</th>\n",
       "      <th>Precinct_Southwest</th>\n",
       "      <th>Precinct_Unknown</th>\n",
       "      <th>Precinct_West</th>\n",
       "      <th>Race Comparisons_Different</th>\n",
       "      <th>Race Comparisons_Same</th>\n",
       "      <th>Race Comparisons_Unknown</th>\n",
       "      <th>Gender Comparisons_Different</th>\n",
       "      <th>Gender Comparisons_Same</th>\n",
       "      <th>Gender Comparisons_Unknown</th>\n",
       "    </tr>\n",
       "  </thead>\n",
       "  <tbody>\n",
       "    <tr>\n",
       "      <th>0</th>\n",
       "      <td>0.000000</td>\n",
       "      <td>-0.272727</td>\n",
       "      <td>0.0</td>\n",
       "      <td>0.0</td>\n",
       "      <td>1.0</td>\n",
       "      <td>0.0</td>\n",
       "      <td>0.0</td>\n",
       "      <td>0.0</td>\n",
       "      <td>0.0</td>\n",
       "      <td>1.0</td>\n",
       "      <td>0.0</td>\n",
       "      <td>0.0</td>\n",
       "      <td>0.0</td>\n",
       "      <td>1.0</td>\n",
       "      <td>0.0</td>\n",
       "      <td>0.0</td>\n",
       "      <td>0.0</td>\n",
       "      <td>0.0</td>\n",
       "      <td>0.0</td>\n",
       "      <td>0.0</td>\n",
       "      <td>0.0</td>\n",
       "      <td>0.0</td>\n",
       "      <td>0.0</td>\n",
       "      <td>1.0</td>\n",
       "      <td>0.0</td>\n",
       "      <td>0.0</td>\n",
       "      <td>0.0</td>\n",
       "      <td>0.0</td>\n",
       "      <td>0.0</td>\n",
       "      <td>1.0</td>\n",
       "      <td>0.0</td>\n",
       "      <td>0.0</td>\n",
       "      <td>1.0</td>\n",
       "      <td>0.0</td>\n",
       "      <td>0.0</td>\n",
       "      <td>0.0</td>\n",
       "      <td>0.0</td>\n",
       "      <td>1.0</td>\n",
       "      <td>0.0</td>\n",
       "      <td>0.0</td>\n",
       "      <td>0.0</td>\n",
       "      <td>0.0</td>\n",
       "      <td>0.0</td>\n",
       "      <td>0.0</td>\n",
       "      <td>0.0</td>\n",
       "      <td>0.0</td>\n",
       "      <td>0.0</td>\n",
       "      <td>0.0</td>\n",
       "      <td>0.0</td>\n",
       "      <td>0.0</td>\n",
       "      <td>0.0</td>\n",
       "      <td>1.0</td>\n",
       "      <td>0.0</td>\n",
       "      <td>0.0</td>\n",
       "      <td>0.0</td>\n",
       "      <td>0.0</td>\n",
       "      <td>1.0</td>\n",
       "      <td>0.0</td>\n",
       "      <td>0.0</td>\n",
       "      <td>0.0</td>\n",
       "      <td>0.0</td>\n",
       "      <td>0.0</td>\n",
       "      <td>0.0</td>\n",
       "      <td>1.0</td>\n",
       "      <td>1.0</td>\n",
       "      <td>0.0</td>\n",
       "      <td>0.0</td>\n",
       "      <td>0.0</td>\n",
       "      <td>1.0</td>\n",
       "      <td>0.0</td>\n",
       "    </tr>\n",
       "    <tr>\n",
       "      <th>1</th>\n",
       "      <td>-0.894737</td>\n",
       "      <td>-0.636364</td>\n",
       "      <td>0.0</td>\n",
       "      <td>0.0</td>\n",
       "      <td>1.0</td>\n",
       "      <td>0.0</td>\n",
       "      <td>0.0</td>\n",
       "      <td>0.0</td>\n",
       "      <td>0.0</td>\n",
       "      <td>1.0</td>\n",
       "      <td>0.0</td>\n",
       "      <td>0.0</td>\n",
       "      <td>0.0</td>\n",
       "      <td>0.0</td>\n",
       "      <td>0.0</td>\n",
       "      <td>0.0</td>\n",
       "      <td>0.0</td>\n",
       "      <td>1.0</td>\n",
       "      <td>0.0</td>\n",
       "      <td>0.0</td>\n",
       "      <td>1.0</td>\n",
       "      <td>0.0</td>\n",
       "      <td>0.0</td>\n",
       "      <td>0.0</td>\n",
       "      <td>0.0</td>\n",
       "      <td>0.0</td>\n",
       "      <td>0.0</td>\n",
       "      <td>0.0</td>\n",
       "      <td>0.0</td>\n",
       "      <td>1.0</td>\n",
       "      <td>0.0</td>\n",
       "      <td>0.0</td>\n",
       "      <td>0.0</td>\n",
       "      <td>1.0</td>\n",
       "      <td>1.0</td>\n",
       "      <td>0.0</td>\n",
       "      <td>0.0</td>\n",
       "      <td>0.0</td>\n",
       "      <td>0.0</td>\n",
       "      <td>0.0</td>\n",
       "      <td>0.0</td>\n",
       "      <td>0.0</td>\n",
       "      <td>0.0</td>\n",
       "      <td>0.0</td>\n",
       "      <td>0.0</td>\n",
       "      <td>0.0</td>\n",
       "      <td>0.0</td>\n",
       "      <td>0.0</td>\n",
       "      <td>1.0</td>\n",
       "      <td>0.0</td>\n",
       "      <td>0.0</td>\n",
       "      <td>0.0</td>\n",
       "      <td>0.0</td>\n",
       "      <td>0.0</td>\n",
       "      <td>0.0</td>\n",
       "      <td>1.0</td>\n",
       "      <td>0.0</td>\n",
       "      <td>0.0</td>\n",
       "      <td>0.0</td>\n",
       "      <td>0.0</td>\n",
       "      <td>0.0</td>\n",
       "      <td>1.0</td>\n",
       "      <td>0.0</td>\n",
       "      <td>0.0</td>\n",
       "      <td>1.0</td>\n",
       "      <td>0.0</td>\n",
       "      <td>0.0</td>\n",
       "      <td>0.0</td>\n",
       "      <td>1.0</td>\n",
       "      <td>0.0</td>\n",
       "    </tr>\n",
       "    <tr>\n",
       "      <th>2</th>\n",
       "      <td>0.526316</td>\n",
       "      <td>0.727273</td>\n",
       "      <td>0.0</td>\n",
       "      <td>0.0</td>\n",
       "      <td>1.0</td>\n",
       "      <td>0.0</td>\n",
       "      <td>0.0</td>\n",
       "      <td>0.0</td>\n",
       "      <td>0.0</td>\n",
       "      <td>1.0</td>\n",
       "      <td>0.0</td>\n",
       "      <td>0.0</td>\n",
       "      <td>0.0</td>\n",
       "      <td>0.0</td>\n",
       "      <td>0.0</td>\n",
       "      <td>0.0</td>\n",
       "      <td>0.0</td>\n",
       "      <td>1.0</td>\n",
       "      <td>0.0</td>\n",
       "      <td>0.0</td>\n",
       "      <td>1.0</td>\n",
       "      <td>0.0</td>\n",
       "      <td>0.0</td>\n",
       "      <td>0.0</td>\n",
       "      <td>0.0</td>\n",
       "      <td>0.0</td>\n",
       "      <td>0.0</td>\n",
       "      <td>0.0</td>\n",
       "      <td>0.0</td>\n",
       "      <td>1.0</td>\n",
       "      <td>0.0</td>\n",
       "      <td>0.0</td>\n",
       "      <td>1.0</td>\n",
       "      <td>0.0</td>\n",
       "      <td>0.0</td>\n",
       "      <td>0.0</td>\n",
       "      <td>0.0</td>\n",
       "      <td>0.0</td>\n",
       "      <td>0.0</td>\n",
       "      <td>0.0</td>\n",
       "      <td>1.0</td>\n",
       "      <td>0.0</td>\n",
       "      <td>0.0</td>\n",
       "      <td>0.0</td>\n",
       "      <td>0.0</td>\n",
       "      <td>0.0</td>\n",
       "      <td>0.0</td>\n",
       "      <td>0.0</td>\n",
       "      <td>0.0</td>\n",
       "      <td>1.0</td>\n",
       "      <td>0.0</td>\n",
       "      <td>0.0</td>\n",
       "      <td>0.0</td>\n",
       "      <td>0.0</td>\n",
       "      <td>0.0</td>\n",
       "      <td>1.0</td>\n",
       "      <td>0.0</td>\n",
       "      <td>0.0</td>\n",
       "      <td>0.0</td>\n",
       "      <td>0.0</td>\n",
       "      <td>0.0</td>\n",
       "      <td>0.0</td>\n",
       "      <td>0.0</td>\n",
       "      <td>1.0</td>\n",
       "      <td>1.0</td>\n",
       "      <td>0.0</td>\n",
       "      <td>0.0</td>\n",
       "      <td>0.0</td>\n",
       "      <td>1.0</td>\n",
       "      <td>0.0</td>\n",
       "    </tr>\n",
       "    <tr>\n",
       "      <th>3</th>\n",
       "      <td>0.526316</td>\n",
       "      <td>-0.636364</td>\n",
       "      <td>0.0</td>\n",
       "      <td>0.0</td>\n",
       "      <td>0.0</td>\n",
       "      <td>0.0</td>\n",
       "      <td>1.0</td>\n",
       "      <td>0.0</td>\n",
       "      <td>1.0</td>\n",
       "      <td>0.0</td>\n",
       "      <td>0.0</td>\n",
       "      <td>0.0</td>\n",
       "      <td>0.0</td>\n",
       "      <td>0.0</td>\n",
       "      <td>0.0</td>\n",
       "      <td>0.0</td>\n",
       "      <td>0.0</td>\n",
       "      <td>1.0</td>\n",
       "      <td>0.0</td>\n",
       "      <td>0.0</td>\n",
       "      <td>0.0</td>\n",
       "      <td>0.0</td>\n",
       "      <td>0.0</td>\n",
       "      <td>0.0</td>\n",
       "      <td>0.0</td>\n",
       "      <td>0.0</td>\n",
       "      <td>1.0</td>\n",
       "      <td>0.0</td>\n",
       "      <td>0.0</td>\n",
       "      <td>1.0</td>\n",
       "      <td>0.0</td>\n",
       "      <td>0.0</td>\n",
       "      <td>0.0</td>\n",
       "      <td>1.0</td>\n",
       "      <td>0.0</td>\n",
       "      <td>0.0</td>\n",
       "      <td>0.0</td>\n",
       "      <td>0.0</td>\n",
       "      <td>0.0</td>\n",
       "      <td>0.0</td>\n",
       "      <td>0.0</td>\n",
       "      <td>0.0</td>\n",
       "      <td>0.0</td>\n",
       "      <td>0.0</td>\n",
       "      <td>0.0</td>\n",
       "      <td>0.0</td>\n",
       "      <td>1.0</td>\n",
       "      <td>0.0</td>\n",
       "      <td>1.0</td>\n",
       "      <td>0.0</td>\n",
       "      <td>0.0</td>\n",
       "      <td>0.0</td>\n",
       "      <td>0.0</td>\n",
       "      <td>0.0</td>\n",
       "      <td>0.0</td>\n",
       "      <td>0.0</td>\n",
       "      <td>1.0</td>\n",
       "      <td>1.0</td>\n",
       "      <td>0.0</td>\n",
       "      <td>0.0</td>\n",
       "      <td>0.0</td>\n",
       "      <td>0.0</td>\n",
       "      <td>0.0</td>\n",
       "      <td>0.0</td>\n",
       "      <td>0.0</td>\n",
       "      <td>1.0</td>\n",
       "      <td>0.0</td>\n",
       "      <td>1.0</td>\n",
       "      <td>0.0</td>\n",
       "      <td>0.0</td>\n",
       "    </tr>\n",
       "    <tr>\n",
       "      <th>4</th>\n",
       "      <td>0.526316</td>\n",
       "      <td>-0.090909</td>\n",
       "      <td>0.0</td>\n",
       "      <td>1.0</td>\n",
       "      <td>0.0</td>\n",
       "      <td>0.0</td>\n",
       "      <td>0.0</td>\n",
       "      <td>0.0</td>\n",
       "      <td>0.0</td>\n",
       "      <td>1.0</td>\n",
       "      <td>0.0</td>\n",
       "      <td>0.0</td>\n",
       "      <td>0.0</td>\n",
       "      <td>1.0</td>\n",
       "      <td>0.0</td>\n",
       "      <td>0.0</td>\n",
       "      <td>0.0</td>\n",
       "      <td>0.0</td>\n",
       "      <td>0.0</td>\n",
       "      <td>0.0</td>\n",
       "      <td>1.0</td>\n",
       "      <td>0.0</td>\n",
       "      <td>0.0</td>\n",
       "      <td>0.0</td>\n",
       "      <td>0.0</td>\n",
       "      <td>0.0</td>\n",
       "      <td>0.0</td>\n",
       "      <td>0.0</td>\n",
       "      <td>0.0</td>\n",
       "      <td>1.0</td>\n",
       "      <td>0.0</td>\n",
       "      <td>0.0</td>\n",
       "      <td>0.0</td>\n",
       "      <td>1.0</td>\n",
       "      <td>0.0</td>\n",
       "      <td>0.0</td>\n",
       "      <td>0.0</td>\n",
       "      <td>0.0</td>\n",
       "      <td>0.0</td>\n",
       "      <td>0.0</td>\n",
       "      <td>0.0</td>\n",
       "      <td>0.0</td>\n",
       "      <td>0.0</td>\n",
       "      <td>0.0</td>\n",
       "      <td>0.0</td>\n",
       "      <td>1.0</td>\n",
       "      <td>0.0</td>\n",
       "      <td>0.0</td>\n",
       "      <td>1.0</td>\n",
       "      <td>0.0</td>\n",
       "      <td>0.0</td>\n",
       "      <td>0.0</td>\n",
       "      <td>0.0</td>\n",
       "      <td>0.0</td>\n",
       "      <td>0.0</td>\n",
       "      <td>1.0</td>\n",
       "      <td>0.0</td>\n",
       "      <td>0.0</td>\n",
       "      <td>0.0</td>\n",
       "      <td>1.0</td>\n",
       "      <td>0.0</td>\n",
       "      <td>0.0</td>\n",
       "      <td>0.0</td>\n",
       "      <td>0.0</td>\n",
       "      <td>1.0</td>\n",
       "      <td>0.0</td>\n",
       "      <td>0.0</td>\n",
       "      <td>0.0</td>\n",
       "      <td>1.0</td>\n",
       "      <td>0.0</td>\n",
       "    </tr>\n",
       "  </tbody>\n",
       "</table>\n",
       "</div>"
      ],
      "text/plain": [
       "   Subject Age Group  Officer Age  Weapon Type_Firearm  Weapon Type_Missing  \\\n",
       "0           0.000000    -0.272727                  0.0                  0.0   \n",
       "1          -0.894737    -0.636364                  0.0                  0.0   \n",
       "2           0.526316     0.727273                  0.0                  0.0   \n",
       "3           0.526316    -0.636364                  0.0                  0.0   \n",
       "4           0.526316    -0.090909                  0.0                  1.0   \n",
       "\n",
       "   Weapon Type_None  Weapon Type_Other  \\\n",
       "0               1.0                0.0   \n",
       "1               1.0                0.0   \n",
       "2               1.0                0.0   \n",
       "3               0.0                0.0   \n",
       "4               0.0                0.0   \n",
       "\n",
       "   Weapon Type_Stabbing/Cutting Instrument  Weapon Type_Striking Implement  \\\n",
       "0                                      0.0                             0.0   \n",
       "1                                      0.0                             0.0   \n",
       "2                                      0.0                             0.0   \n",
       "3                                      1.0                             0.0   \n",
       "4                                      0.0                             0.0   \n",
       "\n",
       "   Officer Gender_Female  Officer Gender_Male  \\\n",
       "0                    0.0                  1.0   \n",
       "1                    0.0                  1.0   \n",
       "2                    0.0                  1.0   \n",
       "3                    1.0                  0.0   \n",
       "4                    0.0                  1.0   \n",
       "\n",
       "   Officer Race_American Indian or Alaska Native  Officer Race_Asian  \\\n",
       "0                                            0.0                 0.0   \n",
       "1                                            0.0                 0.0   \n",
       "2                                            0.0                 0.0   \n",
       "3                                            0.0                 0.0   \n",
       "4                                            0.0                 0.0   \n",
       "\n",
       "   Officer Race_Black or African American  Officer Race_Hispanic or Latino  \\\n",
       "0                                     0.0                              1.0   \n",
       "1                                     0.0                              0.0   \n",
       "2                                     0.0                              0.0   \n",
       "3                                     0.0                              0.0   \n",
       "4                                     0.0                              1.0   \n",
       "\n",
       "   Officer Race_Multi-Racial  \\\n",
       "0                        0.0   \n",
       "1                        0.0   \n",
       "2                        0.0   \n",
       "3                        0.0   \n",
       "4                        0.0   \n",
       "\n",
       "   Officer Race_Native Hawaiian or Other Pacific Islander  \\\n",
       "0                                                0.0        \n",
       "1                                                0.0        \n",
       "2                                                0.0        \n",
       "3                                                0.0        \n",
       "4                                                0.0        \n",
       "\n",
       "   Officer Race_Unknown  Officer Race_White  \\\n",
       "0                   0.0                 0.0   \n",
       "1                   0.0                 1.0   \n",
       "2                   0.0                 1.0   \n",
       "3                   0.0                 1.0   \n",
       "4                   0.0                 0.0   \n",
       "\n",
       "   Subject Perceived Race_American Indian or Alaska Native  \\\n",
       "0                                                0.0         \n",
       "1                                                0.0         \n",
       "2                                                0.0         \n",
       "3                                                0.0         \n",
       "4                                                0.0         \n",
       "\n",
       "   Subject Perceived Race_Asian  \\\n",
       "0                           0.0   \n",
       "1                           0.0   \n",
       "2                           0.0   \n",
       "3                           0.0   \n",
       "4                           0.0   \n",
       "\n",
       "   Subject Perceived Race_Black or African American  \\\n",
       "0                                               0.0   \n",
       "1                                               1.0   \n",
       "2                                               1.0   \n",
       "3                                               0.0   \n",
       "4                                               1.0   \n",
       "\n",
       "   Subject Perceived Race_Hispanic or Latino  Subject Perceived Race_Missing  \\\n",
       "0                                        0.0                             0.0   \n",
       "1                                        0.0                             0.0   \n",
       "2                                        0.0                             0.0   \n",
       "3                                        0.0                             0.0   \n",
       "4                                        0.0                             0.0   \n",
       "\n",
       "   Subject Perceived Race_Multi-Racial  \\\n",
       "0                                  1.0   \n",
       "1                                  0.0   \n",
       "2                                  0.0   \n",
       "3                                  0.0   \n",
       "4                                  0.0   \n",
       "\n",
       "   Subject Perceived Race_Native Hawaiian or Other Pacific Islander  \\\n",
       "0                                                0.0                  \n",
       "1                                                0.0                  \n",
       "2                                                0.0                  \n",
       "3                                                0.0                  \n",
       "4                                                0.0                  \n",
       "\n",
       "   Subject Perceived Race_Unknown  Subject Perceived Race_White  \\\n",
       "0                             0.0                           0.0   \n",
       "1                             0.0                           0.0   \n",
       "2                             0.0                           0.0   \n",
       "3                             0.0                           1.0   \n",
       "4                             0.0                           0.0   \n",
       "\n",
       "   Subject Perceived Gender_Female  Subject Perceived Gender_Gender Diverse  \\\n",
       "0                              0.0                                      0.0   \n",
       "1                              0.0                                      0.0   \n",
       "2                              0.0                                      0.0   \n",
       "3                              0.0                                      0.0   \n",
       "4                              0.0                                      0.0   \n",
       "\n",
       "   Subject Perceived Gender_Male  Subject Perceived Gender_Missing  \\\n",
       "0                            1.0                               0.0   \n",
       "1                            1.0                               0.0   \n",
       "2                            1.0                               0.0   \n",
       "3                            1.0                               0.0   \n",
       "4                            1.0                               0.0   \n",
       "\n",
       "   Subject Perceived Gender_Unknown  Reported Time_Day  Reported Time_Night  \\\n",
       "0                               0.0                1.0                  0.0   \n",
       "1                               0.0                0.0                  1.0   \n",
       "2                               0.0                1.0                  0.0   \n",
       "3                               0.0                0.0                  1.0   \n",
       "4                               0.0                0.0                  1.0   \n",
       "\n",
       "   Initial Call Type_Assault/Fight  \\\n",
       "0                              0.0   \n",
       "1                              1.0   \n",
       "2                              0.0   \n",
       "3                              0.0   \n",
       "4                              0.0   \n",
       "\n",
       "   Initial Call Type_Assist SPD or Other Agency  \\\n",
       "0                                           0.0   \n",
       "1                                           0.0   \n",
       "2                                           0.0   \n",
       "3                                           0.0   \n",
       "4                                           0.0   \n",
       "\n",
       "   Initial Call Type_Child Welfare  Initial Call Type_Follow-Up/Warrant  \\\n",
       "0                              0.0                                  1.0   \n",
       "1                              0.0                                  0.0   \n",
       "2                              0.0                                  0.0   \n",
       "3                              0.0                                  0.0   \n",
       "4                              0.0                                  0.0   \n",
       "\n",
       "   Initial Call Type_Mental or Physical Health  \\\n",
       "0                                          0.0   \n",
       "1                                          0.0   \n",
       "2                                          0.0   \n",
       "3                                          0.0   \n",
       "4                                          0.0   \n",
       "\n",
       "   Initial Call Type_Minor Offenses  Initial Call Type_Missing  \\\n",
       "0                               0.0                        0.0   \n",
       "1                               0.0                        0.0   \n",
       "2                               0.0                        1.0   \n",
       "3                               0.0                        0.0   \n",
       "4                               0.0                        0.0   \n",
       "\n",
       "   Initial Call Type_Missing Person  Initial Call Type_Motor Vehicle  \\\n",
       "0                               0.0                              0.0   \n",
       "1                               0.0                              0.0   \n",
       "2                               0.0                              0.0   \n",
       "3                               0.0                              0.0   \n",
       "4                               0.0                              0.0   \n",
       "\n",
       "   Initial Call Type_Other  Initial Call Type_Property Crime  \\\n",
       "0                      0.0                               0.0   \n",
       "1                      0.0                               0.0   \n",
       "2                      0.0                               0.0   \n",
       "3                      0.0                               0.0   \n",
       "4                      0.0                               0.0   \n",
       "\n",
       "   Initial Call Type_Suspicion of Crime  Initial Call Type_Threats/Harassment  \\\n",
       "0                                   0.0                                   0.0   \n",
       "1                                   0.0                                   0.0   \n",
       "2                                   0.0                                   0.0   \n",
       "3                                   0.0                                   1.0   \n",
       "4                                   1.0                                   0.0   \n",
       "\n",
       "   Initial Call Type_Weapon  Call Method_911  Call Method_Missing  \\\n",
       "0                       0.0              0.0                  0.0   \n",
       "1                       0.0              1.0                  0.0   \n",
       "2                       0.0              0.0                  1.0   \n",
       "3                       0.0              1.0                  0.0   \n",
       "4                       0.0              1.0                  0.0   \n",
       "\n",
       "   Call Method_Non-Police Alarm  Call Method_Officer Initiated  \\\n",
       "0                           0.0                            1.0   \n",
       "1                           0.0                            0.0   \n",
       "2                           0.0                            0.0   \n",
       "3                           0.0                            0.0   \n",
       "4                           0.0                            0.0   \n",
       "\n",
       "   Call Method_Other  Call Method_Telephone, Not 911  Frisk Flag_Missing  \\\n",
       "0                0.0                             0.0                 0.0   \n",
       "1                0.0                             0.0                 0.0   \n",
       "2                0.0                             0.0                 0.0   \n",
       "3                0.0                             0.0                 0.0   \n",
       "4                0.0                             0.0                 0.0   \n",
       "\n",
       "   Frisk Flag_N  Frisk Flag_Y  Precinct_East  Precinct_Missing  \\\n",
       "0           0.0           1.0            0.0               0.0   \n",
       "1           1.0           0.0            0.0               0.0   \n",
       "2           1.0           0.0            0.0               0.0   \n",
       "3           0.0           1.0            1.0               0.0   \n",
       "4           1.0           0.0            0.0               0.0   \n",
       "\n",
       "   Precinct_North  Precinct_South  Precinct_Southwest  Precinct_Unknown  \\\n",
       "0             0.0             0.0                 0.0               0.0   \n",
       "1             0.0             0.0                 1.0               0.0   \n",
       "2             0.0             0.0                 0.0               0.0   \n",
       "3             0.0             0.0                 0.0               0.0   \n",
       "4             1.0             0.0                 0.0               0.0   \n",
       "\n",
       "   Precinct_West  Race Comparisons_Different  Race Comparisons_Same  \\\n",
       "0            1.0                         1.0                    0.0   \n",
       "1            0.0                         1.0                    0.0   \n",
       "2            1.0                         1.0                    0.0   \n",
       "3            0.0                         0.0                    1.0   \n",
       "4            0.0                         1.0                    0.0   \n",
       "\n",
       "   Race Comparisons_Unknown  Gender Comparisons_Different  \\\n",
       "0                       0.0                           0.0   \n",
       "1                       0.0                           0.0   \n",
       "2                       0.0                           0.0   \n",
       "3                       0.0                           1.0   \n",
       "4                       0.0                           0.0   \n",
       "\n",
       "   Gender Comparisons_Same  Gender Comparisons_Unknown  \n",
       "0                      1.0                         0.0  \n",
       "1                      1.0                         0.0  \n",
       "2                      1.0                         0.0  \n",
       "3                      0.0                         0.0  \n",
       "4                      1.0                         0.0  "
      ]
     },
     "execution_count": 119,
     "metadata": {},
     "output_type": "execute_result"
    }
   ],
   "source": [
    "#In order to check that the preprocessing worked, we can retrieve the new column names from the encoder\n",
    "#and create a dataframe to see clearly that the transformation worked as intended. \n",
    "cat_feats = preprocessing.named_transformers_[\"Categorical\"].named_steps[\"Encoder\"].get_feature_names(cat_cols)\n",
    "\n",
    "X_train_preprocessed = pd.DataFrame(X_train_preprocessed,columns=[*num_cols, *cat_feats])\n",
    "X_test_preprocessed = pd.DataFrame(X_test_preprocessed,columns=[*num_cols, *cat_feats])\n",
    "\n",
    "X_train_preprocessed.head()"
   ]
  },
  {
   "cell_type": "markdown",
   "metadata": {},
   "source": [
    "# Model Building"
   ]
  },
  {
   "cell_type": "code",
   "execution_count": 120,
   "metadata": {
    "ExecuteTime": {
     "end_time": "2020-10-13T21:56:47.452377Z",
     "start_time": "2020-10-13T21:56:47.439376Z"
    }
   },
   "outputs": [],
   "source": [
    "#We will be evaluating multiple models so we can view the classification report, confusion matrix, and roc \n",
    "#curve easily\n",
    "def evaluate_classifier(X_train, y_train, X_test, y_test, model, labels):\n",
    "    \"\"\"Get the classification report, confusion matrix, and ROC curve for a provided model.\"\"\"\n",
    "    \n",
    "    #Predict values for the test set\n",
    "    y_hat_test = model.predict(X_test)\n",
    "    \n",
    "    #Label and print the classification report\n",
    "    model_name = str(model).split(\"(\")[0]\n",
    "    print(f\"Classification Report for {model_name} \\n\") \n",
    "    print(metrics.classification_report(y_test, y_hat_test, target_names=labels))\n",
    "    \n",
    "    #Plot the confusion matrix and ROC curve\n",
    "    fig, axes = plt.subplots(nrows=1, ncols=2, figsize=(10,5))\n",
    "    metrics.plot_confusion_matrix(model, X_test, y_test, normalize=\"true\", \n",
    "                                  display_labels=labels, ax=axes[0], cmap=\"YlGnBu\")\n",
    "    axes[0].set_title(\"Confusion Matrix\", y=1.05)\n",
    "    metrics.plot_roc_curve(model, X_test, y_test, ax=axes[1])\n",
    "    axes[1].plot([0,1],[0,1])\n",
    "    axes[1].set_title(\"ROC Curve\", y=1.05)\n",
    "    fig.tight_layout()"
   ]
  },
  {
   "cell_type": "markdown",
   "metadata": {},
   "source": [
    "## Logistic Regression"
   ]
  },
  {
   "cell_type": "markdown",
   "metadata": {},
   "source": [
    "- We start with logistic regression because it is the simplest and least computationally expensive model."
   ]
  },
  {
   "cell_type": "code",
   "execution_count": 121,
   "metadata": {
    "ExecuteTime": {
     "end_time": "2020-10-13T21:56:56.005505Z",
     "start_time": "2020-10-13T21:56:47.455375Z"
    },
    "scrolled": true
   },
   "outputs": [
    {
     "name": "stdout",
     "output_type": "stream",
     "text": [
      "Classification Report for LogisticRegression \n",
      "\n",
      "              precision    recall  f1-score   support\n",
      "\n",
      "   No Arrest       1.00      0.83      0.91     10052\n",
      "      Arrest       0.26      0.95      0.40       605\n",
      "\n",
      "    accuracy                           0.84     10657\n",
      "   macro avg       0.63      0.89      0.66     10657\n",
      "weighted avg       0.95      0.84      0.88     10657\n",
      "\n"
     ]
    },
    {
     "data": {
      "image/png": "[encoded data removed]",
      "text/plain": [
       "<Figure size 720x360 with 3 Axes>"
      ]
     },
     "metadata": {
      "needs_background": "light"
     },
     "output_type": "display_data"
    }
   ],
   "source": [
    "logreg = LogisticRegression(C=1000, random_state=42, solver=\"newton-cg\", class_weight={1:10, 0:1})\n",
    "logreg.fit(X_train_preprocessed, y_train)\n",
    "evaluate_classifier(X_train_preprocessed, y_train, X_test_preprocessed, y_test, \n",
    "                       logreg, [\"No Arrest\", \"Arrest\"])"
   ]
  },
  {
   "cell_type": "markdown",
   "metadata": {},
   "source": [
    "- This model performed quite well. However the low f1-score and precision for the arrest categorical are not ideal. Therefore we move on to a more complex model. "
   ]
  },
  {
   "cell_type": "markdown",
   "metadata": {},
   "source": [
    "## Decision Tree"
   ]
  },
  {
   "cell_type": "markdown",
   "metadata": {},
   "source": [
    "- Next we move to the decision tree. This is also a less complex model and can be easily visualized. "
   ]
  },
  {
   "cell_type": "code",
   "execution_count": 122,
   "metadata": {
    "ExecuteTime": {
     "end_time": "2020-10-13T21:56:57.112519Z",
     "start_time": "2020-10-13T21:56:56.007505Z"
    },
    "scrolled": true
   },
   "outputs": [
    {
     "name": "stdout",
     "output_type": "stream",
     "text": [
      "Classification Report for DecisionTreeClassifier \n",
      "\n",
      "              precision    recall  f1-score   support\n",
      "\n",
      "   No Arrest       0.96      0.96      0.96     10052\n",
      "      Arrest       0.36      0.37      0.36       605\n",
      "\n",
      "    accuracy                           0.93     10657\n",
      "   macro avg       0.66      0.66      0.66     10657\n",
      "weighted avg       0.93      0.93      0.93     10657\n",
      "\n"
     ]
    },
    {
     "data": {
      "image/png": "[encoded data removed]",
      "text/plain": [
       "<Figure size 720x360 with 3 Axes>"
      ]
     },
     "metadata": {
      "needs_background": "light"
     },
     "output_type": "display_data"
    }
   ],
   "source": [
    "#decision tree\n",
    "decision_tree = DecisionTreeClassifier(random_state=42)\n",
    "decision_tree.fit(X_train_preprocessed, y_train)\n",
    "evaluate_classifier(X_train_preprocessed, y_train, X_test_preprocessed, y_test, \n",
    "                       decision_tree, [\"No Arrest\", \"Arrest\"])"
   ]
  },
  {
   "cell_type": "markdown",
   "metadata": {},
   "source": [
    "- Clearly this model is good at classifying the majority class but not the minority class.\n",
    "- In oder to improve this model multiple grid searches were run, emphasizing f1-score as it represents both precision and recall."
   ]
  },
  {
   "cell_type": "markdown",
   "metadata": {
    "ExecuteTime": {
     "end_time": "2020-10-12T19:03:11.948022Z",
     "start_time": "2020-10-12T19:03:11.943020Z"
    }
   },
   "source": [
    "The following grid search (as well as others with greater ranges for the parameters) was run to determine the best parameters for our decision tree: \n",
    "\n",
    "` param_grid = {\"criterion\": [\"gini\", \"entropy\"],\n",
    "              \"min_samples_split\": [10, 15, 20],\n",
    "              \"min_samples_leaf\": [1, 5, 10],\n",
    "              \"class_weight\": [\"balanced\", {1:10, 0:1}, {1:100, 0:1}, {1:1000, 0:1}]}\n",
    "gridsearch = GridSearchCV(decision_tree, param_grid=param_grid, cv=5, scoring=\"f1\")`"
   ]
  },
  {
   "cell_type": "code",
   "execution_count": 123,
   "metadata": {
    "ExecuteTime": {
     "end_time": "2020-10-13T21:56:58.302505Z",
     "start_time": "2020-10-13T21:56:57.122505Z"
    },
    "code_folding": [],
    "scrolled": true
   },
   "outputs": [
    {
     "name": "stdout",
     "output_type": "stream",
     "text": [
      "Classification Report for DecisionTreeClassifier \n",
      "\n",
      "              precision    recall  f1-score   support\n",
      "\n",
      "   No Arrest       0.99      0.88      0.93     10052\n",
      "      Arrest       0.29      0.81      0.43       605\n",
      "\n",
      "    accuracy                           0.88     10657\n",
      "   macro avg       0.64      0.85      0.68     10657\n",
      "weighted avg       0.95      0.88      0.90     10657\n",
      "\n"
     ]
    },
    {
     "data": {
      "image/png": "[encoded data removed]",
      "text/plain": [
       "<Figure size 720x360 with 3 Axes>"
      ]
     },
     "metadata": {
      "needs_background": "light"
     },
     "output_type": "display_data"
    }
   ],
   "source": [
    "best_dt = DecisionTreeClassifier(random_state=42, class_weight={1: 10, 0: 1}, criterion=\"gini\", \n",
    "                                 min_samples_leaf=10, min_samples_split=10)\n",
    "best_dt.fit(X_train_preprocessed, y_train)\n",
    "evaluate_classifier(X_train_preprocessed, y_train, X_test_preprocessed, y_test, \n",
    "                       best_dt, [\"No Arrest\", \"Arrest\"])"
   ]
  },
  {
   "cell_type": "markdown",
   "metadata": {},
   "source": [
    "- The decision tree was not improved enough to stop here. Since decision trees are prone to overfitting, we can move onto ensemble methods. "
   ]
  },
  {
   "cell_type": "markdown",
   "metadata": {},
   "source": [
    "## Random Forest"
   ]
  },
  {
   "cell_type": "markdown",
   "metadata": {},
   "source": [
    "- Since random forest models are still very interpretable, it is a good next step."
   ]
  },
  {
   "cell_type": "code",
   "execution_count": 124,
   "metadata": {
    "ExecuteTime": {
     "end_time": "2020-10-13T21:57:06.174328Z",
     "start_time": "2020-10-13T21:56:58.304504Z"
    },
    "scrolled": true
   },
   "outputs": [
    {
     "name": "stdout",
     "output_type": "stream",
     "text": [
      "Classification Report for RandomForestClassifier \n",
      "\n",
      "              precision    recall  f1-score   support\n",
      "\n",
      "   No Arrest       0.95      0.99      0.97     10052\n",
      "      Arrest       0.44      0.19      0.27       605\n",
      "\n",
      "    accuracy                           0.94     10657\n",
      "   macro avg       0.70      0.59      0.62     10657\n",
      "weighted avg       0.92      0.94      0.93     10657\n",
      "\n"
     ]
    },
    {
     "data": {
      "image/png": "[encoded data removed]",
      "text/plain": [
       "<Figure size 720x360 with 3 Axes>"
      ]
     },
     "metadata": {
      "needs_background": "light"
     },
     "output_type": "display_data"
    }
   ],
   "source": [
    "random_forest = RandomForestClassifier(random_state=42)\n",
    "random_forest.fit(X_train_preprocessed, y_train)\n",
    "evaluate_classifier(X_train_preprocessed, y_train, X_test_preprocessed, y_test, \n",
    "                       random_forest, [\"No Arrest\", \"Arrest\"])"
   ]
  },
  {
   "cell_type": "markdown",
   "metadata": {},
   "source": [
    "- Much like the decision tree, this model performed poorly when predicting arrests. \n",
    "- Again multiple grid searches were run to improve f1-score, with this being the last one:\n",
    "\n",
    "` param_grid = {\"criterion\": [\"gini\", \"entropy\"],\n",
    "              \"min_samples_split\": [5, 10, 15],\n",
    "              \"min_samples_leaf\": [5, 10, 20],\n",
    "              \"class_weight\": [\"balanced\", {1:10, 0:1}, {1:100, 0:1}, {1:1000, 0:1}]}\n",
    "gridsearch = GridSearchCV(random_forest, param_grid=param_grid, cv=5, scoring=\"f1\") `"
   ]
  },
  {
   "cell_type": "code",
   "execution_count": 125,
   "metadata": {
    "ExecuteTime": {
     "end_time": "2020-10-13T21:57:12.760474Z",
     "start_time": "2020-10-13T21:57:06.176539Z"
    },
    "scrolled": true
   },
   "outputs": [
    {
     "name": "stdout",
     "output_type": "stream",
     "text": [
      "Classification Report for RandomForestClassifier \n",
      "\n",
      "              precision    recall  f1-score   support\n",
      "\n",
      "   No Arrest       0.99      0.89      0.94     10052\n",
      "      Arrest       0.31      0.84      0.45       605\n",
      "\n",
      "    accuracy                           0.88     10657\n",
      "   macro avg       0.65      0.87      0.70     10657\n",
      "weighted avg       0.95      0.88      0.91     10657\n",
      "\n"
     ]
    },
    {
     "data": {
      "image/png": "[encoded data removed]",
      "text/plain": [
       "<Figure size 720x360 with 3 Axes>"
      ]
     },
     "metadata": {
      "needs_background": "light"
     },
     "output_type": "display_data"
    }
   ],
   "source": [
    "best_rf = RandomForestClassifier(random_state=42, class_weight={1: 10, 0: 1}, criterion=\"gini\", \n",
    "                                 min_samples_leaf=5, min_samples_split=5)\n",
    "best_rf.fit(X_train_preprocessed, y_train)\n",
    "evaluate_classifier(X_train_preprocessed, y_train, X_test_preprocessed, y_test, \n",
    "                       best_rf, [\"No Arrest\", \"Arrest\"])"
   ]
  },
  {
   "cell_type": "markdown",
   "metadata": {},
   "source": [
    "- While the logistic regression had higher recall for arrests, this model has a better balance between recall for arrests and non-arrests. In addition, it has both higher f1-score and precision for arrests."
   ]
  },
  {
   "cell_type": "markdown",
   "metadata": {},
   "source": [
    "## Stacking Classifier"
   ]
  },
  {
   "cell_type": "markdown",
   "metadata": {},
   "source": [
    "- It is possible that these models can be greater than the sum of their parts. Therefore we can try a stacking classifier. "
   ]
  },
  {
   "cell_type": "code",
   "execution_count": 153,
   "metadata": {
    "ExecuteTime": {
     "end_time": "2020-10-13T22:16:21.071684Z",
     "start_time": "2020-10-13T22:15:42.230158Z"
    }
   },
   "outputs": [
    {
     "name": "stdout",
     "output_type": "stream",
     "text": [
      "Classification Report for StackingClassifier \n",
      "\n",
      "              precision    recall  f1-score   support\n",
      "\n",
      "   No Arrest       0.99      0.87      0.93     10052\n",
      "      Arrest       0.29      0.91      0.44       605\n",
      "\n",
      "    accuracy                           0.87     10657\n",
      "   macro avg       0.64      0.89      0.68     10657\n",
      "weighted avg       0.95      0.87      0.90     10657\n",
      "\n"
     ]
    },
    {
     "data": {
      "image/png": "[encoded data removed]",
      "text/plain": [
       "<Figure size 720x360 with 3 Axes>"
      ]
     },
     "metadata": {
      "needs_background": "light"
     },
     "output_type": "display_data"
    }
   ],
   "source": [
    "estimators = [(\"lr\", logreg), (\"rf\", best_rf), (\"dt\", best_dt)]\n",
    "clf = StackingClassifier(estimators=estimators, final_estimator=LogisticRegression(class_weight={1:10, 0:1}))\n",
    "clf.fit(X_train_preprocessed, y_train)\n",
    "evaluate_classifier(X_train_preprocessed, y_train, X_test_preprocessed, y_test, \n",
    "                       clf, [\"No Arrest\", \"Arrest\"])"
   ]
  },
  {
   "cell_type": "markdown",
   "metadata": {},
   "source": [
    "- Like the logistic regression, this model does have some strong features but ultimately is not as well rounded as the random forest on its own. "
   ]
  },
  {
   "cell_type": "markdown",
   "metadata": {},
   "source": [
    "# Feature Importances"
   ]
  },
  {
   "cell_type": "markdown",
   "metadata": {},
   "source": [
    "- We will plot the top 25 most important features from the random forest. "
   ]
  },
  {
   "cell_type": "code",
   "execution_count": 127,
   "metadata": {
    "ExecuteTime": {
     "end_time": "2020-10-13T21:58:21.416211Z",
     "start_time": "2020-10-13T21:58:20.802212Z"
    },
    "scrolled": true
   },
   "outputs": [
    {
     "data": {
      "image/png": "[encoded data removed]",
      "text/plain": [
       "<Figure size 1080x360 with 1 Axes>"
      ]
     },
     "metadata": {
      "needs_background": "light"
     },
     "output_type": "display_data"
    }
   ],
   "source": [
    "fig, ax = plt.subplots(figsize=(15,5))\n",
    "importance = pd.Series(best_rf.feature_importances_, index=X_train_preprocessed.columns)\n",
    "most_important = importance.sort_values().tail(25)\n",
    "most_important.plot(kind=\"barh\", ax=ax, title=\"Feature Importances\");"
   ]
  },
  {
   "cell_type": "code",
   "execution_count": 128,
   "metadata": {
    "ExecuteTime": {
     "end_time": "2020-10-13T21:58:21.426211Z",
     "start_time": "2020-10-13T21:58:21.418212Z"
    }
   },
   "outputs": [],
   "source": [
    "top_25 = list(most_important.sort_values(ascending=False).index)"
   ]
  },
  {
   "cell_type": "code",
   "execution_count": 129,
   "metadata": {
    "ExecuteTime": {
     "end_time": "2020-10-13T21:58:21.564214Z",
     "start_time": "2020-10-13T21:58:21.429215Z"
    }
   },
   "outputs": [],
   "source": [
    "features = list(map(lambda x: x.split(\"_\"), top_25))\n",
    "feats = []\n",
    "for i in range(len(features)):\n",
    "    if features[i][0] not in feats:\n",
    "        feats.append(features[i][0])"
   ]
  },
  {
   "cell_type": "code",
   "execution_count": 130,
   "metadata": {
    "ExecuteTime": {
     "end_time": "2020-10-13T21:58:21.737227Z",
     "start_time": "2020-10-13T21:58:21.567213Z"
    }
   },
   "outputs": [],
   "source": [
    "data = data.fillna(\"Missing\")"
   ]
  },
  {
   "cell_type": "code",
   "execution_count": 131,
   "metadata": {
    "ExecuteTime": {
     "end_time": "2020-10-13T21:58:21.852211Z",
     "start_time": "2020-10-13T21:58:21.742213Z"
    }
   },
   "outputs": [
    {
     "data": {
      "text/plain": [
       "Race Comparisons  Arrest Flag\n",
       "Different         0              0.941483\n",
       "                  1              0.058517\n",
       "Same              0              0.945748\n",
       "                  1              0.054252\n",
       "Unknown           0              0.942102\n",
       "                  1              0.057898\n",
       "Name: Arrest Flag, dtype: float64"
      ]
     },
     "execution_count": 131,
     "metadata": {},
     "output_type": "execute_result"
    }
   ],
   "source": [
    "data.groupby(\"Race Comparisons\")[\"Arrest Flag\"].value_counts(normalize=True)"
   ]
  },
  {
   "cell_type": "code",
   "execution_count": 132,
   "metadata": {
    "ExecuteTime": {
     "end_time": "2020-10-13T21:58:22.359213Z",
     "start_time": "2020-10-13T21:58:21.856221Z"
    }
   },
   "outputs": [
    {
     "data": {
      "text/plain": [
       "<matplotlib.axes._subplots.AxesSubplot at 0x1f10b6ad668>"
      ]
     },
     "execution_count": 132,
     "metadata": {},
     "output_type": "execute_result"
    },
    {
     "data": {
      "image/png": "[encoded data removed]",
      "text/plain": [
       "<Figure size 432x288 with 1 Axes>"
      ]
     },
     "metadata": {
      "needs_background": "light"
     },
     "output_type": "display_data"
    }
   ],
   "source": [
    "race_comp = data.groupby(\"Race Comparisons\")[\"Arrest Flag\"].value_counts(normalize=True).to_frame(\"Percent Arrests\"). reset_index()\n",
    "race_comp = race_comp[race_comp[\"Arrest Flag\"] == 1].set_index(\"Race Comparisons\")\n",
    "race_comp[\"Percent Arrests\"].plot(kind=\"bar\")"
   ]
  },
  {
   "cell_type": "code",
   "execution_count": 133,
   "metadata": {
    "ExecuteTime": {
     "end_time": "2020-10-13T21:58:22.378213Z",
     "start_time": "2020-10-13T21:58:22.363211Z"
    }
   },
   "outputs": [],
   "source": [
    "def feature_catplots(x):\n",
    "    if x in cat_cols:\n",
    "        fig, ax = plt.subplots(figsize=(6,4))\n",
    "        print(f\"Important Aspects of {x} are:\")\n",
    "        for feature in features:\n",
    "            if x in feature:\n",
    "                print(f\"- {feature[1]}\")\n",
    "    else:\n",
    "        fig, ax = plt.subplots(figsize=(12,4))\n",
    "    sns.countplot(x=x, data=data, hue=\"Arrest Flag\");\n",
    "    plt.xticks(rotation=35, ha=\"right\");\n",
    "    plt.title(f\"{x} Counts by Arrest Flag\")\n",
    "def check_value_counts(x):\n",
    "    for item in data[x].unique():\n",
    "        print(item)\n",
    "        display(data[data[x] == item][\"Arrest Flag\"].value_counts(normalize=True))"
   ]
  },
  {
   "cell_type": "code",
   "execution_count": 134,
   "metadata": {
    "ExecuteTime": {
     "end_time": "2020-10-13T21:58:23.007212Z",
     "start_time": "2020-10-13T21:58:22.382213Z"
    },
    "scrolled": false
   },
   "outputs": [
    {
     "name": "stdout",
     "output_type": "stream",
     "text": [
      "Important Aspects of Weapon Type are:\n",
      "- None\n",
      "- Missing\n",
      "- Stabbing/Cutting Instrument\n",
      "- Firearm\n"
     ]
    },
    {
     "data": {
      "image/png": "[encoded data removed]",
      "text/plain": [
       "<Figure size 432x288 with 1 Axes>"
      ]
     },
     "metadata": {
      "needs_background": "light"
     },
     "output_type": "display_data"
    }
   ],
   "source": [
    "feature_catplots(feats[0])"
   ]
  },
  {
   "cell_type": "markdown",
   "metadata": {},
   "source": [
    "- It is unclear from the graph how firearms and stabbing instruments compare as far as arrests, so we observe the value counts. "
   ]
  },
  {
   "cell_type": "code",
   "execution_count": 135,
   "metadata": {
    "ExecuteTime": {
     "end_time": "2020-10-13T21:58:23.124211Z",
     "start_time": "2020-10-13T21:58:23.010211Z"
    }
   },
   "outputs": [
    {
     "name": "stdout",
     "output_type": "stream",
     "text": [
      "None\n"
     ]
    },
    {
     "data": {
      "text/plain": [
       "0    0.999905\n",
       "1    0.000095\n",
       "Name: Arrest Flag, dtype: float64"
      ]
     },
     "metadata": {},
     "output_type": "display_data"
    },
    {
     "name": "stdout",
     "output_type": "stream",
     "text": [
      "Firearm\n"
     ]
    },
    {
     "data": {
      "text/plain": [
       "0    0.894118\n",
       "1    0.105882\n",
       "Name: Arrest Flag, dtype: float64"
      ]
     },
     "metadata": {},
     "output_type": "display_data"
    },
    {
     "name": "stdout",
     "output_type": "stream",
     "text": [
      "Stabbing/Cutting Instrument\n"
     ]
    },
    {
     "data": {
      "text/plain": [
       "0    0.904138\n",
       "1    0.095862\n",
       "Name: Arrest Flag, dtype: float64"
      ]
     },
     "metadata": {},
     "output_type": "display_data"
    },
    {
     "name": "stdout",
     "output_type": "stream",
     "text": [
      "Missing\n"
     ]
    },
    {
     "data": {
      "text/plain": [
       "0    0.748275\n",
       "1    0.251725\n",
       "Name: Arrest Flag, dtype: float64"
      ]
     },
     "metadata": {},
     "output_type": "display_data"
    },
    {
     "name": "stdout",
     "output_type": "stream",
     "text": [
      "Other\n"
     ]
    },
    {
     "data": {
      "text/plain": [
       "0    0.538462\n",
       "1    0.461538\n",
       "Name: Arrest Flag, dtype: float64"
      ]
     },
     "metadata": {},
     "output_type": "display_data"
    },
    {
     "name": "stdout",
     "output_type": "stream",
     "text": [
      "Striking Implement\n"
     ]
    },
    {
     "data": {
      "text/plain": [
       "0    0.79661\n",
       "1    0.20339\n",
       "Name: Arrest Flag, dtype: float64"
      ]
     },
     "metadata": {},
     "output_type": "display_data"
    }
   ],
   "source": [
    "check_value_counts(feats[0])"
   ]
  },
  {
   "cell_type": "markdown",
   "metadata": {},
   "source": [
    "- As would be expected, those who have no weapon are very unlikely to be arrested but have a high rate of stops.\n",
    "- In addition those who have a firearm or stabbing/cutting instrument are less likely to be arrested.  \n",
    "- However have the weapon type be missing is related to the largest amount of arrests but a smaller proportion than values not listed in the important features. This is a concern because we cannot infer whether a weapon was related to the arrest/non-arrest or why it is missing. "
   ]
  },
  {
   "cell_type": "code",
   "execution_count": 136,
   "metadata": {
    "ExecuteTime": {
     "end_time": "2020-10-13T21:58:24.866211Z",
     "start_time": "2020-10-13T21:58:23.127212Z"
    },
    "scrolled": false
   },
   "outputs": [
    {
     "data": {
      "image/png": "[encoded data removed]",
      "text/plain": [
       "<Figure size 864x288 with 1 Axes>"
      ]
     },
     "metadata": {
      "needs_background": "light"
     },
     "output_type": "display_data"
    }
   ],
   "source": [
    "feature_catplots(feats[1])"
   ]
  },
  {
   "cell_type": "markdown",
   "metadata": {},
   "source": [
    "- Arrests and non-arrests are more common for younger officers. This might be due to younger officers being in a position to make Terry Stops because they have fewer other duties. "
   ]
  },
  {
   "cell_type": "code",
   "execution_count": 137,
   "metadata": {
    "ExecuteTime": {
     "end_time": "2020-10-13T21:58:25.470212Z",
     "start_time": "2020-10-13T21:58:24.869219Z"
    }
   },
   "outputs": [
    {
     "name": "stdout",
     "output_type": "stream",
     "text": [
      "Important Aspects of Call Method are:\n",
      "- Missing\n",
      "- 911\n",
      "- Officer Initiated\n"
     ]
    },
    {
     "data": {
      "image/png": "[encoded data removed]",
      "text/plain": [
       "<Figure size 432x288 with 1 Axes>"
      ]
     },
     "metadata": {
      "needs_background": "light"
     },
     "output_type": "display_data"
    }
   ],
   "source": [
    "feature_catplots(feats[2])"
   ]
  },
  {
   "cell_type": "code",
   "execution_count": 138,
   "metadata": {
    "ExecuteTime": {
     "end_time": "2020-10-13T21:58:25.603215Z",
     "start_time": "2020-10-13T21:58:25.478212Z"
    }
   },
   "outputs": [
    {
     "name": "stdout",
     "output_type": "stream",
     "text": [
      "Missing\n"
     ]
    },
    {
     "data": {
      "text/plain": [
       "0    0.993786\n",
       "1    0.006214\n",
       "Name: Arrest Flag, dtype: float64"
      ]
     },
     "metadata": {},
     "output_type": "display_data"
    },
    {
     "name": "stdout",
     "output_type": "stream",
     "text": [
      "911\n"
     ]
    },
    {
     "data": {
      "text/plain": [
       "0    0.91476\n",
       "1    0.08524\n",
       "Name: Arrest Flag, dtype: float64"
      ]
     },
     "metadata": {},
     "output_type": "display_data"
    },
    {
     "name": "stdout",
     "output_type": "stream",
     "text": [
      "Telephone, Not 911\n"
     ]
    },
    {
     "data": {
      "text/plain": [
       "0    0.924471\n",
       "1    0.075529\n",
       "Name: Arrest Flag, dtype: float64"
      ]
     },
     "metadata": {},
     "output_type": "display_data"
    },
    {
     "name": "stdout",
     "output_type": "stream",
     "text": [
      "Officer Initiated\n"
     ]
    },
    {
     "data": {
      "text/plain": [
       "0    0.941732\n",
       "1    0.058268\n",
       "Name: Arrest Flag, dtype: float64"
      ]
     },
     "metadata": {},
     "output_type": "display_data"
    },
    {
     "name": "stdout",
     "output_type": "stream",
     "text": [
      "Non-Police Alarm\n"
     ]
    },
    {
     "data": {
      "text/plain": [
       "0    0.884892\n",
       "1    0.115108\n",
       "Name: Arrest Flag, dtype: float64"
      ]
     },
     "metadata": {},
     "output_type": "display_data"
    },
    {
     "name": "stdout",
     "output_type": "stream",
     "text": [
      "Other\n"
     ]
    },
    {
     "data": {
      "text/plain": [
       "0    0.571429\n",
       "1    0.428571\n",
       "Name: Arrest Flag, dtype: float64"
      ]
     },
     "metadata": {},
     "output_type": "display_data"
    }
   ],
   "source": [
    "check_value_counts(feats[2])"
   ]
  },
  {
   "cell_type": "markdown",
   "metadata": {},
   "source": [
    "- When a 911 call is made, arrests are more likely while the second smallest proportion of arrests are made when the officer initiates the stop without another call method.  \n",
    "- When the call method is missing, arrests are least common. Again because of the lack of information it is hard to speculate why. \n",
    "- However there a high rate of stops for missing call methods, second only to 911 calls. Again, this leads to more questions than answers. "
   ]
  },
  {
   "cell_type": "code",
   "execution_count": 139,
   "metadata": {
    "ExecuteTime": {
     "end_time": "2020-10-13T21:58:26.387213Z",
     "start_time": "2020-10-13T21:58:25.605213Z"
    },
    "scrolled": true
   },
   "outputs": [
    {
     "name": "stdout",
     "output_type": "stream",
     "text": [
      "Important Aspects of Initial Call Type are:\n",
      "- Missing\n",
      "- Suspicion of Crime\n",
      "- Property Crime\n"
     ]
    },
    {
     "data": {
      "image/png": "[encoded data removed]",
      "text/plain": [
       "<Figure size 432x288 with 1 Axes>"
      ]
     },
     "metadata": {
      "needs_background": "light"
     },
     "output_type": "display_data"
    }
   ],
   "source": [
    "feature_catplots(feats[3])"
   ]
  },
  {
   "cell_type": "code",
   "execution_count": 140,
   "metadata": {
    "ExecuteTime": {
     "end_time": "2020-10-13T21:58:26.790214Z",
     "start_time": "2020-10-13T21:58:26.391213Z"
    }
   },
   "outputs": [
    {
     "name": "stdout",
     "output_type": "stream",
     "text": [
      "Missing\n"
     ]
    },
    {
     "data": {
      "text/plain": [
       "0    0.993786\n",
       "1    0.006214\n",
       "Name: Arrest Flag, dtype: float64"
      ]
     },
     "metadata": {},
     "output_type": "display_data"
    },
    {
     "name": "stdout",
     "output_type": "stream",
     "text": [
      "Weapon\n"
     ]
    },
    {
     "data": {
      "text/plain": [
       "0    0.927891\n",
       "1    0.072109\n",
       "Name: Arrest Flag, dtype: float64"
      ]
     },
     "metadata": {},
     "output_type": "display_data"
    },
    {
     "name": "stdout",
     "output_type": "stream",
     "text": [
      "Assault/Fight\n"
     ]
    },
    {
     "data": {
      "text/plain": [
       "0    0.906568\n",
       "1    0.093432\n",
       "Name: Arrest Flag, dtype: float64"
      ]
     },
     "metadata": {},
     "output_type": "display_data"
    },
    {
     "name": "stdout",
     "output_type": "stream",
     "text": [
      "Other\n"
     ]
    },
    {
     "data": {
      "text/plain": [
       "0    0.92477\n",
       "1    0.07523\n",
       "Name: Arrest Flag, dtype: float64"
      ]
     },
     "metadata": {},
     "output_type": "display_data"
    },
    {
     "name": "stdout",
     "output_type": "stream",
     "text": [
      "Assist SPD or Other Agency\n"
     ]
    },
    {
     "data": {
      "text/plain": [
       "0    0.918803\n",
       "1    0.081197\n",
       "Name: Arrest Flag, dtype: float64"
      ]
     },
     "metadata": {},
     "output_type": "display_data"
    },
    {
     "name": "stdout",
     "output_type": "stream",
     "text": [
      "Property Crime\n"
     ]
    },
    {
     "data": {
      "text/plain": [
       "0    0.912918\n",
       "1    0.087082\n",
       "Name: Arrest Flag, dtype: float64"
      ]
     },
     "metadata": {},
     "output_type": "display_data"
    },
    {
     "name": "stdout",
     "output_type": "stream",
     "text": [
      "Threats/Harassment\n"
     ]
    },
    {
     "data": {
      "text/plain": [
       "0    0.893832\n",
       "1    0.106168\n",
       "Name: Arrest Flag, dtype: float64"
      ]
     },
     "metadata": {},
     "output_type": "display_data"
    },
    {
     "name": "stdout",
     "output_type": "stream",
     "text": [
      "Suspicion of Crime\n"
     ]
    },
    {
     "data": {
      "text/plain": [
       "0    0.948441\n",
       "1    0.051559\n",
       "Name: Arrest Flag, dtype: float64"
      ]
     },
     "metadata": {},
     "output_type": "display_data"
    },
    {
     "name": "stdout",
     "output_type": "stream",
     "text": [
      "Minor Offenses\n"
     ]
    },
    {
     "data": {
      "text/plain": [
       "0    0.94821\n",
       "1    0.05179\n",
       "Name: Arrest Flag, dtype: float64"
      ]
     },
     "metadata": {},
     "output_type": "display_data"
    },
    {
     "name": "stdout",
     "output_type": "stream",
     "text": [
      "Follow-Up/Warrant\n"
     ]
    },
    {
     "data": {
      "text/plain": [
       "0    0.896061\n",
       "1    0.103939\n",
       "Name: Arrest Flag, dtype: float64"
      ]
     },
     "metadata": {},
     "output_type": "display_data"
    },
    {
     "name": "stdout",
     "output_type": "stream",
     "text": [
      "Motor Vehicle\n"
     ]
    },
    {
     "data": {
      "text/plain": [
       "0    0.882949\n",
       "1    0.117051\n",
       "Name: Arrest Flag, dtype: float64"
      ]
     },
     "metadata": {},
     "output_type": "display_data"
    },
    {
     "name": "stdout",
     "output_type": "stream",
     "text": [
      "Mental or Physical Health\n"
     ]
    },
    {
     "data": {
      "text/plain": [
       "0    0.938619\n",
       "1    0.061381\n",
       "Name: Arrest Flag, dtype: float64"
      ]
     },
     "metadata": {},
     "output_type": "display_data"
    },
    {
     "name": "stdout",
     "output_type": "stream",
     "text": [
      "Child Welfare\n"
     ]
    },
    {
     "data": {
      "text/plain": [
       "0    0.972603\n",
       "1    0.027397\n",
       "Name: Arrest Flag, dtype: float64"
      ]
     },
     "metadata": {},
     "output_type": "display_data"
    },
    {
     "name": "stdout",
     "output_type": "stream",
     "text": [
      "Missing Person\n"
     ]
    },
    {
     "data": {
      "text/plain": [
       "0    0.875\n",
       "1    0.125\n",
       "Name: Arrest Flag, dtype: float64"
      ]
     },
     "metadata": {},
     "output_type": "display_data"
    }
   ],
   "source": [
    "check_value_counts(feats[3])"
   ]
  },
  {
   "cell_type": "markdown",
   "metadata": {},
   "source": [
    "- Arrest are less common when the initial call type is missing. This is likely related to the missing general call methods. Arrests are also less common for suspicions of crime. \n",
    "- Most non-missing non-arrests are for the initial call type of property crime.\n",
    "- These three values have the highest rates of stops, particularly when the initial call type is missing. "
   ]
  },
  {
   "cell_type": "code",
   "execution_count": 141,
   "metadata": {
    "ExecuteTime": {
     "end_time": "2020-10-13T21:58:27.343212Z",
     "start_time": "2020-10-13T21:58:26.795216Z"
    }
   },
   "outputs": [
    {
     "name": "stdout",
     "output_type": "stream",
     "text": [
      "Important Aspects of Precinct are:\n",
      "- Missing\n",
      "- West\n",
      "- North\n"
     ]
    },
    {
     "data": {
      "image/png": "[encoded data removed]",
      "text/plain": [
       "<Figure size 432x288 with 1 Axes>"
      ]
     },
     "metadata": {
      "needs_background": "light"
     },
     "output_type": "display_data"
    }
   ],
   "source": [
    "feature_catplots(feats[4])"
   ]
  },
  {
   "cell_type": "code",
   "execution_count": 142,
   "metadata": {
    "ExecuteTime": {
     "end_time": "2020-10-13T21:58:27.730214Z",
     "start_time": "2020-10-13T21:58:27.347214Z"
    }
   },
   "outputs": [
    {
     "data": {
      "text/plain": [
       "<matplotlib.axes._subplots.AxesSubplot at 0x1f10ae03048>"
      ]
     },
     "execution_count": 142,
     "metadata": {},
     "output_type": "execute_result"
    },
    {
     "data": {
      "image/png": "[encoded data removed]",
      "text/plain": [
       "<Figure size 432x288 with 1 Axes>"
      ]
     },
     "metadata": {
      "needs_background": "light"
     },
     "output_type": "display_data"
    }
   ],
   "source": [
    "race_comp = data.groupby(\"Precinct\")[\"Arrest Flag\"].value_counts(normalize=True).to_frame(\"Percent Arrests\"). reset_index()\n",
    "race_comp = race_comp[race_comp[\"Arrest Flag\"] == 1].set_index(\"Precinct\")\n",
    "race_comp[\"Percent Arrests\"].plot(kind=\"bar\")"
   ]
  },
  {
   "cell_type": "code",
   "execution_count": 143,
   "metadata": {
    "ExecuteTime": {
     "end_time": "2020-10-13T21:58:27.876213Z",
     "start_time": "2020-10-13T21:58:27.735212Z"
    },
    "scrolled": true
   },
   "outputs": [
    {
     "name": "stdout",
     "output_type": "stream",
     "text": [
      "Missing\n"
     ]
    },
    {
     "data": {
      "text/plain": [
       "0    0.985076\n",
       "1    0.014924\n",
       "Name: Arrest Flag, dtype: float64"
      ]
     },
     "metadata": {},
     "output_type": "display_data"
    },
    {
     "name": "stdout",
     "output_type": "stream",
     "text": [
      "East\n"
     ]
    },
    {
     "data": {
      "text/plain": [
       "0    0.938747\n",
       "1    0.061253\n",
       "Name: Arrest Flag, dtype: float64"
      ]
     },
     "metadata": {},
     "output_type": "display_data"
    },
    {
     "name": "stdout",
     "output_type": "stream",
     "text": [
      "North\n"
     ]
    },
    {
     "data": {
      "text/plain": [
       "0    0.955633\n",
       "1    0.044367\n",
       "Name: Arrest Flag, dtype: float64"
      ]
     },
     "metadata": {},
     "output_type": "display_data"
    },
    {
     "name": "stdout",
     "output_type": "stream",
     "text": [
      "West\n"
     ]
    },
    {
     "data": {
      "text/plain": [
       "0    0.902683\n",
       "1    0.097317\n",
       "Name: Arrest Flag, dtype: float64"
      ]
     },
     "metadata": {},
     "output_type": "display_data"
    },
    {
     "name": "stdout",
     "output_type": "stream",
     "text": [
      "South\n"
     ]
    },
    {
     "data": {
      "text/plain": [
       "0    0.932079\n",
       "1    0.067921\n",
       "Name: Arrest Flag, dtype: float64"
      ]
     },
     "metadata": {},
     "output_type": "display_data"
    },
    {
     "name": "stdout",
     "output_type": "stream",
     "text": [
      "Southwest\n"
     ]
    },
    {
     "data": {
      "text/plain": [
       "0    0.933379\n",
       "1    0.066621\n",
       "Name: Arrest Flag, dtype: float64"
      ]
     },
     "metadata": {},
     "output_type": "display_data"
    },
    {
     "name": "stdout",
     "output_type": "stream",
     "text": [
      "Unknown\n"
     ]
    },
    {
     "data": {
      "text/plain": [
       "0    0.986607\n",
       "1    0.013393\n",
       "Name: Arrest Flag, dtype: float64"
      ]
     },
     "metadata": {},
     "output_type": "display_data"
    }
   ],
   "source": [
    "check_value_counts(feats[4])"
   ]
  },
  {
   "cell_type": "markdown",
   "metadata": {},
   "source": [
    "- Having the precinct be missing or having an officer from the North precinct are associated with lower rates of arrest, while being from the West precinct is associated with higher rates of arrest. The <a href=\"http://www.seattle.gov/police/information-and-data/tweets-by-beat\" target=\"_blank\"> West</a> precinct does cover mostly higher economic status and racially homogeneous areas but does contain a small portion of more economically disadvantaged <a href=\"https://seattlecitygis.maps.arcgis.com/apps/Minimalist/index.html?appid=764b5d8988574644b61e644e9fbe30d1\" target=\"_blank\">areas</a>. \n",
    "- These three precincts have the highest stop rates. "
   ]
  },
  {
   "cell_type": "code",
   "execution_count": 144,
   "metadata": {
    "ExecuteTime": {
     "end_time": "2020-10-13T21:58:28.419211Z",
     "start_time": "2020-10-13T21:58:27.879214Z"
    }
   },
   "outputs": [
    {
     "data": {
      "image/png": "[encoded data removed]",
      "text/plain": [
       "<Figure size 864x288 with 1 Axes>"
      ]
     },
     "metadata": {
      "needs_background": "light"
     },
     "output_type": "display_data"
    }
   ],
   "source": [
    "feature_catplots(feats[5])"
   ]
  },
  {
   "cell_type": "markdown",
   "metadata": {
    "ExecuteTime": {
     "end_time": "2020-10-13T00:01:47.333718Z",
     "start_time": "2020-10-13T00:01:47.275728Z"
    }
   },
   "source": [
    "- Arrests and stops are less common for the youngest and oldest age groups."
   ]
  },
  {
   "cell_type": "code",
   "execution_count": 145,
   "metadata": {
    "ExecuteTime": {
     "end_time": "2020-10-13T21:58:29.091215Z",
     "start_time": "2020-10-13T21:58:28.421212Z"
    },
    "scrolled": false
   },
   "outputs": [
    {
     "name": "stdout",
     "output_type": "stream",
     "text": [
      "Important Aspects of Subject Perceived Race are:\n",
      "- Missing\n",
      "- Hispanic or Latino\n",
      "- Black or African American\n",
      "- White\n"
     ]
    },
    {
     "data": {
      "image/png": "[encoded data removed]",
      "text/plain": [
       "<Figure size 432x288 with 1 Axes>"
      ]
     },
     "metadata": {
      "needs_background": "light"
     },
     "output_type": "display_data"
    }
   ],
   "source": [
    "feature_catplots(feats[6])"
   ]
  },
  {
   "cell_type": "code",
   "execution_count": 146,
   "metadata": {
    "ExecuteTime": {
     "end_time": "2020-10-13T21:58:29.319215Z",
     "start_time": "2020-10-13T21:58:29.099216Z"
    },
    "scrolled": true
   },
   "outputs": [
    {
     "name": "stdout",
     "output_type": "stream",
     "text": [
      "White\n"
     ]
    },
    {
     "data": {
      "text/plain": [
       "0    0.944353\n",
       "1    0.055647\n",
       "Name: Arrest Flag, dtype: float64"
      ]
     },
     "metadata": {},
     "output_type": "display_data"
    },
    {
     "name": "stdout",
     "output_type": "stream",
     "text": [
      "Black or African American\n"
     ]
    },
    {
     "data": {
      "text/plain": [
       "0    0.937022\n",
       "1    0.062978\n",
       "Name: Arrest Flag, dtype: float64"
      ]
     },
     "metadata": {},
     "output_type": "display_data"
    },
    {
     "name": "stdout",
     "output_type": "stream",
     "text": [
      "American Indian or Alaska Native\n"
     ]
    },
    {
     "data": {
      "text/plain": [
       "0    0.94795\n",
       "1    0.05205\n",
       "Name: Arrest Flag, dtype: float64"
      ]
     },
     "metadata": {},
     "output_type": "display_data"
    },
    {
     "name": "stdout",
     "output_type": "stream",
     "text": [
      "Unknown\n"
     ]
    },
    {
     "data": {
      "text/plain": [
       "0    0.924297\n",
       "1    0.075703\n",
       "Name: Arrest Flag, dtype: float64"
      ]
     },
     "metadata": {},
     "output_type": "display_data"
    },
    {
     "name": "stdout",
     "output_type": "stream",
     "text": [
      "Multi-Racial\n"
     ]
    },
    {
     "data": {
      "text/plain": [
       "0    1.0\n",
       "Name: Arrest Flag, dtype: float64"
      ]
     },
     "metadata": {},
     "output_type": "display_data"
    },
    {
     "name": "stdout",
     "output_type": "stream",
     "text": [
      "Hispanic or Latino\n"
     ]
    },
    {
     "data": {
      "text/plain": [
       "0    1.0\n",
       "Name: Arrest Flag, dtype: float64"
      ]
     },
     "metadata": {},
     "output_type": "display_data"
    },
    {
     "name": "stdout",
     "output_type": "stream",
     "text": [
      "Asian\n"
     ]
    },
    {
     "data": {
      "text/plain": [
       "0    0.920937\n",
       "1    0.079063\n",
       "Name: Arrest Flag, dtype: float64"
      ]
     },
     "metadata": {},
     "output_type": "display_data"
    },
    {
     "name": "stdout",
     "output_type": "stream",
     "text": [
      "Missing\n"
     ]
    },
    {
     "data": {
      "text/plain": [
       "0    0.937309\n",
       "1    0.062691\n",
       "Name: Arrest Flag, dtype: float64"
      ]
     },
     "metadata": {},
     "output_type": "display_data"
    },
    {
     "name": "stdout",
     "output_type": "stream",
     "text": [
      "Native Hawaiian or Other Pacific Islander\n"
     ]
    },
    {
     "data": {
      "text/plain": [
       "0    0.702703\n",
       "1    0.297297\n",
       "Name: Arrest Flag, dtype: float64"
      ]
     },
     "metadata": {},
     "output_type": "display_data"
    }
   ],
   "source": [
    "check_value_counts(feats[6])"
   ]
  },
  {
   "cell_type": "markdown",
   "metadata": {},
   "source": [
    "- Both White and Black/African American individuals are the most arrested and most common non-arrests. There are no arrests of Hispanic or Latino people despite higher stop rates than other groups. The lack of reporting for subject race was also important to the model, once again highlighting the problems with missing data.    "
   ]
  },
  {
   "cell_type": "code",
   "execution_count": 147,
   "metadata": {
    "ExecuteTime": {
     "end_time": "2020-10-13T21:58:29.715217Z",
     "start_time": "2020-10-13T21:58:29.322213Z"
    },
    "scrolled": true
   },
   "outputs": [
    {
     "name": "stdout",
     "output_type": "stream",
     "text": [
      "Important Aspects of Frisk Flag are:\n",
      "- Y\n",
      "- N\n"
     ]
    },
    {
     "data": {
      "image/png": "[encoded data removed]",
      "text/plain": [
       "<Figure size 432x288 with 1 Axes>"
      ]
     },
     "metadata": {
      "needs_background": "light"
     },
     "output_type": "display_data"
    }
   ],
   "source": [
    "feature_catplots(feats[7])"
   ]
  },
  {
   "cell_type": "markdown",
   "metadata": {},
   "source": [
    "- Because Missing is the only relatively unimportant part of the frisk flag, it does not provide much useful information. "
   ]
  },
  {
   "cell_type": "code",
   "execution_count": 148,
   "metadata": {
    "ExecuteTime": {
     "end_time": "2020-10-13T21:58:30.290213Z",
     "start_time": "2020-10-13T21:58:29.718212Z"
    },
    "scrolled": true
   },
   "outputs": [
    {
     "name": "stdout",
     "output_type": "stream",
     "text": [
      "Important Aspects of Reported Time are:\n",
      "- Day\n",
      "- Night\n"
     ]
    },
    {
     "data": {
      "image/png": "[encoded data removed]",
      "text/plain": [
       "<Figure size 432x288 with 1 Axes>"
      ]
     },
     "metadata": {
      "needs_background": "light"
     },
     "output_type": "display_data"
    }
   ],
   "source": [
    "feature_catplots(feats[8])"
   ]
  },
  {
   "cell_type": "markdown",
   "metadata": {
    "ExecuteTime": {
     "end_time": "2020-10-13T05:52:37.468849Z",
     "start_time": "2020-10-13T05:52:37.419845Z"
    }
   },
   "source": [
    "- Once again both aspects are important so this does not provide much relevant information."
   ]
  },
  {
   "cell_type": "code",
   "execution_count": 149,
   "metadata": {
    "ExecuteTime": {
     "end_time": "2020-10-13T21:58:30.884222Z",
     "start_time": "2020-10-13T21:58:30.294214Z"
    }
   },
   "outputs": [
    {
     "name": "stdout",
     "output_type": "stream",
     "text": [
      "Important Aspects of Officer Race are:\n",
      "- White\n"
     ]
    },
    {
     "data": {
      "image/png": "[encoded data removed]",
      "text/plain": [
       "<Figure size 432x288 with 1 Axes>"
      ]
     },
     "metadata": {
      "needs_background": "light"
     },
     "output_type": "display_data"
    }
   ],
   "source": [
    "feature_catplots(feats[9])"
   ]
  },
  {
   "cell_type": "markdown",
   "metadata": {
    "ExecuteTime": {
     "end_time": "2020-10-13T05:53:24.601155Z",
     "start_time": "2020-10-13T05:53:24.478157Z"
    }
   },
   "source": [
    "- White officers make up the bulk of overall stops and arrests so it makes sense that this would be important."
   ]
  },
  {
   "cell_type": "code",
   "execution_count": 150,
   "metadata": {
    "ExecuteTime": {
     "end_time": "2020-10-13T21:58:31.277159Z",
     "start_time": "2020-10-13T21:58:30.889215Z"
    }
   },
   "outputs": [
    {
     "name": "stdout",
     "output_type": "stream",
     "text": [
      "Important Aspects of Race Comparisons are:\n",
      "- Different\n"
     ]
    },
    {
     "data": {
      "image/png": "[encoded data removed]",
      "text/plain": [
       "<Figure size 432x288 with 1 Axes>"
      ]
     },
     "metadata": {
      "needs_background": "light"
     },
     "output_type": "display_data"
    }
   ],
   "source": [
    "feature_catplots(feats[10])"
   ]
  },
  {
   "cell_type": "markdown",
   "metadata": {},
   "source": [
    "- Since the majority of stops and arrests were make by officers of a different race than the subject, this also seems to be an important factor. "
   ]
  },
  {
   "cell_type": "markdown",
   "metadata": {},
   "source": [
    "# Conclusion"
   ]
  },
  {
   "cell_type": "markdown",
   "metadata": {},
   "source": [
    "With 88% accuracy, our model is fairly good at predicted whether or not an arrest is made. One of the biggest throughlines of the important features was the impact of missing data. In five of the eleven columns that had a feature in the top 25, the missing category was marked as significant. This means the model was highly influenced by the lack of data. While it is beyond the scope of this project to read into the intent of the lack of reporting, it is a serious issue and more stringent standards for reporting should be enforced to get a clearer picture of what factors are truly important to predicting the outcome of Terry Stops. \n",
    "\n",
    "There were some expected findings, such as not having a weapon being related to not being arrested. Some of the findings, like the differences between precincts in stops and arrests, require further information. If more precise data about the actual location was collected, some light could be shed on this category. It is also possible there is some element of the precincts impacted these numbers that was not captured by the collected data. Concerningly, multiple categories concerning race were deemed important in the model. Ideally the most important features of the model would revolve around objective measures such as the presence of a weapon or time of day. In addition, the importance of both officer and subject age should be investigated further. "
   ]
  }
 ],
 "metadata": {
  "kernelspec": {
   "display_name": "Python 3",
   "language": "python",
   "name": "python3"
  },
  "language_info": {
   "codemirror_mode": {
    "name": "ipython",
    "version": 3
   },
   "file_extension": ".py",
   "mimetype": "text/x-python",
   "name": "python",
   "nbconvert_exporter": "python",
   "pygments_lexer": "ipython3",
   "version": "3.6.9"
  },
  "toc": {
   "base_numbering": 1,
   "nav_menu": {},
   "number_sections": true,
   "sideBar": true,
   "skip_h1_title": false,
   "title_cell": "Table of Contents",
   "title_sidebar": "Contents",
   "toc_cell": false,
   "toc_position": {},
   "toc_section_display": true,
   "toc_window_display": false
  }
 },
 "nbformat": 4,
 "nbformat_minor": 2
}
